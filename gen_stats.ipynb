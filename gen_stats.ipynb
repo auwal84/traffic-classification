{
 "cells": [
  {
   "cell_type": "code",
   "execution_count": 35,
   "metadata": {},
   "outputs": [
    {
     "data": {
      "text/plain": [
       "array([9.10000000e+01, 1.38947062e+03, 1.41200000e+03, 1.31270071e+02,\n",
       "       0.00000000e+00, 4.27225040e-02, 1.18757000e+01, 5.55672711e-01,\n",
       "       9.10000000e+01, 0.00000000e+00, 0.00000000e+00, 0.00000000e+00,\n",
       "       0.00000000e+00, 0.00000000e+00, 0.00000000e+00, 0.00000000e+00])"
      ]
     },
     "execution_count": 35,
     "metadata": {},
     "output_type": "execute_result"
    }
   ],
   "source": [
    "import tensorflow as tf \n",
    "import pandas as pd \n",
    "filename = 'Youtube/Youtube0'\n",
    "col_names = ['time stamp','relative time','packet length','direction']\n",
    "stats_feature = np.zeros(16)\n",
    "df = pd.read_csv(filename, header = None, names = col_names)\n",
    "f_relative_time = []\n",
    "f_direction = []\n",
    "f_packet = []\n",
    "for i in range(df.shape[0]):\n",
    "    \n",
    "    if df.iloc[i]['direction'] == 0:\n",
    "        f_direction.append(df.iloc[i]['direction']) \n",
    "        f_packet.append(df.iloc[i]['packet length'])\n",
    "        f_relative_time.append(df.iloc[i]['relative time'])\n",
    "f_inter_arrival_time = []\n",
    "old_time = 0\n",
    "for n in range(len(f_relative_time)-1):\n",
    "    f_inter_arrival_time.append(f_relative_time[n] - old_time)\n",
    "    old_time = f_relative_time[n]\n",
    "f_packet = np.array(f_packet)\n",
    "f_IAT = np.array(f_inter_arrival_time)\n",
    "stats_feature[0] = np.min(f_packet) # min packet length in forward direction\n",
    "stats_feature[1] = np.mean(f_packet)# mean packet length in forward direction\n",
    "stats_feature[2] = np.max(f_packet)# max packet length in forward direction\n",
    "stats_feature[3] = np.std(f_packet)# std packet length in forward direction\n",
    "stats_feature[4] = np.min(f_IAT) # min IAT forward\n",
    "stats_feature[5] = np.mean(f_IAT)# mean IAT forward\n",
    "stats_feature[6] = np.max(f_IAT) # max IAT forward\n",
    "stats_feature[7] = np.std(f_IAT) # std IAT forward\n",
    "b_relative_time = []\n",
    "b_direction = []\n",
    "b_packet = []\n",
    "for i in range(df.shape[0]):\n",
    "    \n",
    "    if df.iloc[i]['direction'] == 1:\n",
    "        b_direction.append(df.iloc[i]['direction']) \n",
    "        b_packet.append(df.iloc[i]['packet length'])\n",
    "        b_relative_time.append(df.iloc[i]['relative time'])\n",
    "b_inter_arrival_time = []\n",
    "old_time = 0\n",
    "for n in range(len(b_relative_time)-1):\n",
    "    b_inter_arrival_time.append(b_relative_time[n] - old_time)\n",
    "    old_time = b_relative_time[n]\n",
    "b_packet = np.array(f_packet)\n",
    "b_IAT = np.array(b_inter_arrival_time)\n",
    "stats_feature[8] = np.min(b_packet) # min packet length in backward direction\n",
    "stats_feature[9] = np.mean(b_packet)# mean packet length in backward direction\n",
    "stats_feature[10] = np.max(b_packet)# max packet length in backward direction\n",
    "stats_feature[11] = np.std(b_packet)# std packet length in backward direction\n",
    "stats_feature[12] = np.min(b_IAT) # min IAT backward\n",
    "stats_feature[13] = np.mean(b_IAT)# mean IAT backward\n",
    "stats_feature[14] = np.max(b_IAT) # max IAT backward\n",
    "stats_feature[15] = np.std(b_IAT) # std IAT backward\n",
    "stats_feature\n",
    "\n",
    "    "
   ]
  },
  {
   "cell_type": "code",
   "execution_count": 8,
   "metadata": {},
   "outputs": [
    {
     "data": {
      "text/plain": [
       "0.000245094"
      ]
     },
     "execution_count": 8,
     "metadata": {},
     "output_type": "execute_result"
    }
   ],
   "source": [
    "file[]"
   ]
  },
  {
   "cell_type": "code",
   "execution_count": null,
   "metadata": {},
   "outputs": [],
   "source": []
  }
 ],
 "metadata": {
  "kernelspec": {
   "display_name": "Python 3",
   "language": "python",
   "name": "python3"
  },
  "language_info": {
   "codemirror_mode": {
    "name": "ipython",
    "version": 3
   },
   "file_extension": ".py",
   "mimetype": "text/x-python",
   "name": "python",
   "nbconvert_exporter": "python",
   "pygments_lexer": "ipython3",
   "version": "3.5.0"
  }
 },
 "nbformat": 4,
 "nbformat_minor": 2
}
