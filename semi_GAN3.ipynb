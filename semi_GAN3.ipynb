{
  "nbformat": 4,
  "nbformat_minor": 0,
  "metadata": {
    "colab": {
      "name": "semi_GAN3.ipynb",
      "version": "0.3.2",
      "provenance": [],
      "collapsed_sections": [],
      "toc_visible": true,
      "include_colab_link": true
    },
    "kernelspec": {
      "name": "python2",
      "display_name": "Python 2"
    },
    "accelerator": "GPU"
  },
  "cells": [
    {
      "cell_type": "markdown",
      "metadata": {
        "id": "view-in-github",
        "colab_type": "text"
      },
      "source": [
        "<a href=\"https://colab.research.google.com/github/auwal84/traffic-classification/blob/master/semi_GAN3.ipynb\" target=\"_parent\"><img src=\"https://colab.research.google.com/assets/colab-badge.svg\" alt=\"Open In Colab\"/></a>"
      ]
    },
    {
      "cell_type": "code",
      "metadata": {
        "id": "eoFCaQeM7cRS",
        "colab_type": "code",
        "outputId": "ddb8c5a4-7407-44da-bc6d-be91cc47cc0d",
        "colab": {
          "base_uri": "https://localhost:8080/",
          "height": 34
        }
      },
      "source": [
        "from google.colab import drive\n",
        "drive.mount('/content/gdrive/',force_remount=True)"
      ],
      "execution_count": 0,
      "outputs": [
        {
          "output_type": "stream",
          "text": [
            "Mounted at /content/gdrive/\n"
          ],
          "name": "stdout"
        }
      ]
    },
    {
      "cell_type": "code",
      "metadata": {
        "id": "V10KFoMOet1V",
        "colab_type": "code",
        "colab": {}
      },
      "source": [
        ""
      ],
      "execution_count": 0,
      "outputs": []
    },
    {
      "cell_type": "code",
      "metadata": {
        "id": "8ElftXDwpI1C",
        "colab_type": "code",
        "colab": {}
      },
      "source": [
        ""
      ],
      "execution_count": 0,
      "outputs": []
    },
    {
      "cell_type": "code",
      "metadata": {
        "id": "pDUOl_KDevO1",
        "colab_type": "code",
        "colab": {}
      },
      "source": [
        ""
      ],
      "execution_count": 0,
      "outputs": []
    },
    {
      "cell_type": "code",
      "metadata": {
        "id": "whlqRS7RH44k",
        "colab_type": "code",
        "colab": {}
      },
      "source": [
        ""
      ],
      "execution_count": 0,
      "outputs": []
    },
    {
      "cell_type": "code",
      "metadata": {
        "id": "9za6DQr98mEr",
        "colab_type": "code",
        "colab": {}
      },
      "source": [
        "!pip install -q tensorflow-gpu==2.0.0-alpha0\n",
        "#!pip install tensorflow==2.0.0-alpha0"
      ],
      "execution_count": 0,
      "outputs": []
    },
    {
      "cell_type": "code",
      "metadata": {
        "id": "H6asfkjW78nh",
        "colab_type": "code",
        "outputId": "1ff7257c-73f3-4284-a228-962d4ce07bd1",
        "colab": {
          "base_uri": "https://localhost:8080/",
          "height": 51
        }
      },
      "source": [
        "import tensorflow as tf \n",
        "import numpy as np \n",
        "import os\n",
        "import matplotlib.pyplot as plt\n",
        "from sklearn.metrics import accuracy_score\n",
        "from sklearn.metrics import precision_score\n",
        "from sklearn.metrics import recall_score\n",
        "from sklearn.metrics import f1_score\n",
        "from sklearn.utils.multiclass import unique_labels\n",
        "from sklearn.metrics import classification_report\n",
        "import pandas as pd\n",
        "print(\"TensorFlow version: {}\".format(tf.__version__))\n",
        "\n",
        "print(\"Eager execution: {}\".format(tf.executing_eagerly()))"
      ],
      "execution_count": 0,
      "outputs": [
        {
          "output_type": "stream",
          "text": [
            "TensorFlow version: 2.0.0-alpha0\n",
            "Eager execution: True\n"
          ],
          "name": "stdout"
        }
      ]
    },
    {
      "cell_type": "code",
      "metadata": {
        "id": "Vg00m3JIJC0g",
        "colab_type": "code",
        "colab": {}
      },
      "source": [
        ""
      ],
      "execution_count": 0,
      "outputs": []
    },
    {
      "cell_type": "code",
      "metadata": {
        "id": "Mp2HQ8vhNCUw",
        "colab_type": "code",
        "outputId": "fc073ec8-1c56-451f-8419-dad943ba435d",
        "colab": {
          "base_uri": "https://localhost:8080/",
          "height": 34
        }
      },
      "source": [
        "device_name = tf.test.gpu_device_name()\n",
        "if device_name != '/device:GPU:0':\n",
        "  raise SystemError('GPU device not found')\n",
        "print('Found GPU at: {}'.format(device_name))"
      ],
      "execution_count": 0,
      "outputs": [
        {
          "output_type": "stream",
          "text": [
            "Found GPU at: /device:GPU:0\n"
          ],
          "name": "stdout"
        }
      ]
    },
    {
      "cell_type": "code",
      "metadata": {
        "id": "cg8PI0QN94oR",
        "colab_type": "code",
        "colab": {}
      },
      "source": [
        ""
      ],
      "execution_count": 0,
      "outputs": []
    },
    {
      "cell_type": "code",
      "metadata": {
        "id": "cWpK7l4J-z_V",
        "colab_type": "code",
        "colab": {}
      },
      "source": [
        "def load_data():\n",
        "    train_data = np.load('Traindataset_GAN3.npy')\n",
        "    train_labels = np.load('TrainLabels_GAN3.npy')\n",
        "    test_data = np.load('Testdataset_GAN3.npy')\n",
        "    test_labels = np.load('test_labels_GAN3.npy')\n",
        "    return (train_data,train_labels),(test_data,test_labels)"
      ],
      "execution_count": 0,
      "outputs": []
    },
    {
      "cell_type": "code",
      "metadata": {
        "id": "7iZaH7EAyHTu",
        "colab_type": "code",
        "colab": {}
      },
      "source": [
        "(train_data,train_labels),(test_data,test_labels) = load_data()\n"
      ],
      "execution_count": 0,
      "outputs": []
    },
    {
      "cell_type": "code",
      "metadata": {
        "id": "BYerv8I6nQrv",
        "colab_type": "code",
        "colab": {}
      },
      "source": [
        ""
      ],
      "execution_count": 0,
      "outputs": []
    },
    {
      "cell_type": "code",
      "metadata": {
        "id": "g-RKk3sRnQMw",
        "colab_type": "code",
        "colab": {}
      },
      "source": [
        ""
      ],
      "execution_count": 0,
      "outputs": []
    },
    {
      "cell_type": "code",
      "metadata": {
        "id": "rvxqIhKDnrxe",
        "colab_type": "code",
        "colab": {}
      },
      "source": [
        ""
      ],
      "execution_count": 0,
      "outputs": []
    },
    {
      "cell_type": "markdown",
      "metadata": {
        "id": "QviPNvzFnskY",
        "colab_type": "text"
      },
      "source": [
        ""
      ]
    },
    {
      "cell_type": "code",
      "metadata": {
        "id": "VFqZIj7G-6XS",
        "colab_type": "code",
        "colab": {}
      },
      "source": [
        "train_data = tf.cast(train_data,tf.float32)\n",
        "train_data = tf.reshape(train_data,[-1,20,3,1])"
      ],
      "execution_count": 0,
      "outputs": []
    },
    {
      "cell_type": "code",
      "metadata": {
        "id": "mkPBIkpQyo7T",
        "colab_type": "code",
        "colab": {}
      },
      "source": [
        "train_data = tf.cast(train_data,tf.float32)\n",
        "train_data = tf.reshape(train_data,[-1,20,3,1])\n",
        "\n",
        "train_labels = tf.cast(train_labels,tf.int32)\n",
        "train_labels = tf.one_hot(train_labels,4)"
      ],
      "execution_count": 0,
      "outputs": []
    },
    {
      "cell_type": "code",
      "metadata": {
        "id": "7fSUoj_0oAyE",
        "colab_type": "code",
        "colab": {}
      },
      "source": [
        "test_labels = tf.cast(test_labels,tf.int32)\n",
        "test_labels = tf.one_hot(test_labels,4)\n",
        "test_data = tf.cast(test_data,tf.float32)\n",
        "test_data = tf.reshape(test_data,[-1,20,3,1])"
      ],
      "execution_count": 0,
      "outputs": []
    },
    {
      "cell_type": "markdown",
      "metadata": {
        "id": "A0irHtefSXWQ",
        "colab_type": "text"
      },
      "source": [
        ""
      ]
    },
    {
      "cell_type": "code",
      "metadata": {
        "id": "9SrT5hVOoc6y",
        "colab_type": "code",
        "colab": {}
      },
      "source": [
        ""
      ],
      "execution_count": 0,
      "outputs": []
    },
    {
      "cell_type": "code",
      "metadata": {
        "id": "YpdI3SDPEPog",
        "colab_type": "code",
        "colab": {}
      },
      "source": [
        "num_classes = 4\n",
        "BUFFER_SIZE = 60000\n",
        "BATCH_SIZE = 250"
      ],
      "execution_count": 0,
      "outputs": []
    },
    {
      "cell_type": "code",
      "metadata": {
        "id": "RYe7OD_nEWxS",
        "colab_type": "code",
        "colab": {}
      },
      "source": [
        "train_dataset = tf.data.Dataset.from_tensor_slices((train_data,train_labels))\n",
        "train_dataset = train_dataset.batch(BATCH_SIZE,drop_remainder = True)\n",
        "test_dataset = tf.data.Dataset.from_tensor_slices((test_data,test_labels)).batch(BATCH_SIZE,  drop_remainder = True)                                                  "
      ],
      "execution_count": 0,
      "outputs": []
    },
    {
      "cell_type": "code",
      "metadata": {
        "id": "FFboo2_jvSiy",
        "colab_type": "code",
        "colab": {}
      },
      "source": [
        "def get_labeled_mask(labeled_rate):\n",
        "    # get labeled mask to mask some data unlabeled\n",
        "    labeled_mask = np.zeros([BATCH_SIZE], dtype = np.float32)\n",
        "    labeled_count = np.int(BATCH_SIZE * labeled_rate)\n",
        "    labeled_mask[range(labeled_count)] = 1.0\n",
        "    #np.random.shuffle(labeled_mask)\n",
        "\n",
        "    return labeled_mask"
      ],
      "execution_count": 0,
      "outputs": []
    },
    {
      "cell_type": "code",
      "metadata": {
        "id": "aw1soMp6ox5U",
        "colab_type": "code",
        "colab": {}
      },
      "source": [
        ""
      ],
      "execution_count": 0,
      "outputs": []
    },
    {
      "cell_type": "code",
      "metadata": {
        "id": "Eo8vc65B8XJE",
        "colab_type": "code",
        "colab": {}
      },
      "source": [
        ""
      ],
      "execution_count": 0,
      "outputs": []
    },
    {
      "cell_type": "code",
      "metadata": {
        "id": "8fcdmq0gEarl",
        "colab_type": "code",
        "colab": {}
      },
      "source": [
        "def make_generator_model():\n",
        "    model = tf.keras.Sequential()\n",
        "    model.add(tf.keras.layers.Dense(60*1*16, use_bias=False, input_shape=(1920,)))\n",
        "    model.add(tf.keras.layers.BatchNormalization())\n",
        "    model.add(tf.keras.layers.LeakyReLU(alpha = 1))\n",
        "      \n",
        "    model.add(tf.keras.layers.Reshape((20, 3, 16)))\n",
        "    assert model.output_shape == (None, 20, 3, 16) # Note: None is the batch size\n",
        "    \n",
        "    model.add(tf.keras.layers.Conv2DTranspose(8, (5, 5), strides=(1, 1), padding='same', use_bias=False))\n",
        "    assert model.output_shape == (None,20, 3, 8)  \n",
        "    model.add(tf.keras.layers.BatchNormalization())\n",
        "    model.add(tf.keras.layers.LeakyReLU())\n",
        "\n",
        "    model.add(tf.keras.layers.Conv2DTranspose(4, (5, 5), strides=(1, 1), padding='same', use_bias=False))\n",
        "    assert model.output_shape == (None,20, 3, 4)    \n",
        "    model.add(tf.keras.layers.BatchNormalization())\n",
        "    model.add(tf.keras.layers.LeakyReLU())\n",
        "\n",
        "    model.add(tf.keras.layers.Conv2DTranspose(1, (5, 5), strides=(1, 1), padding='same', use_bias=False, activation='tanh'))\n",
        "    assert model.output_shape == (None,20, 3, 1)\n",
        "  \n",
        "    return model"
      ],
      "execution_count": 0,
      "outputs": []
    },
    {
      "cell_type": "code",
      "metadata": {
        "id": "quCAohswGUwl",
        "colab_type": "code",
        "colab": {}
      },
      "source": [
        "\n",
        "def make_discriminator_model():\n",
        "    dropout_rate = 0.5\n",
        "    num_classes = 4\n",
        "    model = tf.keras.Sequential()\n",
        "    model.add(tf.keras.layers.Dropout(dropout_rate))\n",
        "    #layer 1\n",
        "    model.add(tf.keras.layers.Conv2D(32,(5,5),strides = (1,1), padding = 'same'))\n",
        "    model.add(tf.keras.layers.LeakyReLU())\n",
        "    model.add(tf.keras.layers.Dropout(dropout_rate))\n",
        "    #layer2\n",
        "    model.add(tf.keras.layers.Conv2D(64,(3,3),strides = (1,1),padding = 'same'))\n",
        "    model.add(tf.keras.layers.BatchNormalization())\n",
        "    model.add(tf.keras.layers.LeakyReLU(alpha = 0.2))\n",
        "    \n",
        "    model.add(tf.keras.layers.Conv2D(64,(2,2), strides = (1,1), padding = 'same'))\n",
        "    model.add(tf.keras.layers.BatchNormalization())\n",
        "    model.add(tf.keras.layers.LeakyReLU(alpha = 0.2))\n",
        "    model.add(tf.keras.layers.Dropout(dropout_rate))\n",
        "    \n",
        "    model.add(tf.keras.layers.Conv2D(128,(2,2),strides =(1,1),padding = 'same'))\n",
        "    model.add(tf.keras.layers.LeakyReLU(alpha = 0.2))\n",
        "    model.add(tf.keras.layers.GlobalMaxPooling2D())\n",
        "    #model.add(tf.keras.layers.Dense(num_classes+1))\n",
        "    #model.add(tf.keras.layers.Softmax())\n",
        "    return model\n",
        "\n",
        "    "
      ],
      "execution_count": 0,
      "outputs": []
    },
    {
      "cell_type": "code",
      "metadata": {
        "id": "bHldwSn-0b3Z",
        "colab_type": "code",
        "colab": {}
      },
      "source": [
        "Dense = tf.keras.layers.Dense(5)"
      ],
      "execution_count": 0,
      "outputs": []
    },
    {
      "cell_type": "code",
      "metadata": {
        "id": "m1I4z7PvGcdo",
        "colab_type": "code",
        "colab": {}
      },
      "source": [
        "discriminator  = make_discriminator_model()\n",
        "generator = make_generator_model()\n"
      ],
      "execution_count": 0,
      "outputs": []
    },
    {
      "cell_type": "code",
      "metadata": {
        "id": "B3c5cWLcGgxS",
        "colab_type": "code",
        "colab": {}
      },
      "source": [
        "cross_entropy = tf.keras.losses.BinaryCrossentropy(from_logits = True)"
      ],
      "execution_count": 0,
      "outputs": []
    },
    {
      "cell_type": "code",
      "metadata": {
        "id": "b81tTOSJG3_j",
        "colab_type": "code",
        "colab": {}
      },
      "source": [
        "\n",
        "# metrics\n",
        "# metrics\n",
        "loss_g = tf.keras.metrics.Mean(name='gen_train_loss')\n",
        "loss_d = tf.keras.metrics.Mean(name='disc_train_loss')\n",
        "#train_accuracy = tf.keras.metrics.SparseCategoricalAccuracy(name='train_accuracy')\n",
        "test_accuracy = tf.keras.metrics.CategoricalAccuracy(name = 'test_accuracy')\n",
        "\n",
        "train_accuracy = tf.keras.metrics.CategoricalAccuracy(name = 'train_accuracy')\n",
        "precision = tf.keras.metrics.Precision()\n",
        "recall = tf.keras.metrics.Recall()\n"
      ],
      "execution_count": 0,
      "outputs": []
    },
    {
      "cell_type": "code",
      "metadata": {
        "id": "YXdOhw_zG9IO",
        "colab_type": "code",
        "colab": {}
      },
      "source": [
        "generator_optimizer = tf.keras.optimizers.Adam(1e-4)\n",
        "discriminator_optimizer = tf.keras.optimizers.Adam(1e-4)\n"
      ],
      "execution_count": 0,
      "outputs": []
    },
    {
      "cell_type": "code",
      "metadata": {
        "id": "0fodi7xmGwTA",
        "colab_type": "code",
        "colab": {}
      },
      "source": [
        "#discriminator loss\n",
        "def discriminator_loss(D_real_logits,generated_output,extended_labels,D_real_prob):\n",
        "    #supervised loss\n",
        "    #extended_labels = tf.one_hot(extended_labels,4)\n",
        "    tmp = tf.nn.softmax_cross_entropy_with_logits(logits = D_real_logits,\n",
        "                                                  labels = extended_labels)\n",
        "    labeled_mask = np.zeros([BATCH_SIZE], dtype = np.float32)\n",
        "    labeled_count = np.int(BATCH_SIZE * 0.1)\n",
        "    labeled_mask[range(labeled_count)] = 1.0\n",
        "    D_L_supervised = tf.reduce_sum(labeled_mask * tmp) / tf.reduce_sum(labeled_mask)\n",
        "    #unsupervised loss\n",
        "    epsilon = 1e-8\n",
        "    \n",
        "    prob_real_be_real = 1 - D_real_prob[:, -1] + epsilon\n",
        "    tmp_log = tf.math.log(prob_real_be_real)\n",
        "    D_L_unsupervised1 = -1 * tf.reduce_mean(tmp_log)\n",
        "     # data is fake\n",
        "    D_fake_prob = tf.nn.softmax(generated_output)\n",
        "    prob_fake_be_fake = D_fake_prob[:, -1] + epsilon\n",
        "    tmp_log = tf.math.log(prob_fake_be_fake)\n",
        "    D_L_unsupervised2 = -1 * tf.reduce_mean(tmp_log)\n",
        "\n",
        "    disc_loss = D_L_supervised + D_L_unsupervised1 + D_L_unsupervised2\n",
        "    return disc_loss\n"
      ],
      "execution_count": 0,
      "outputs": []
    },
    {
      "cell_type": "code",
      "metadata": {
        "id": "9sYGvAE8G0wB",
        "colab_type": "code",
        "colab": {}
      },
      "source": [
        "def generator_loss(data_features, generated_features, D_fake_prob ):\n",
        "    # fake data is mistaken to be real\n",
        "    epsilon = 1e-8\n",
        "    \n",
        "    prob_fake_be_real = 1 - D_fake_prob[:, -1] + epsilon\n",
        "    tmp_log =  tf.math.log(prob_fake_be_real)\n",
        "    G_L1 = -1 * tf.reduce_mean(tmp_log)\n",
        "\n",
        "    real_moments = tf.reduce_mean(data_features, axis = 0)\n",
        "    generated_moments = tf.reduce_mean(generated_features, axis = 0)\n",
        "    G_L2 = tf.reduce_mean(tf.abs(real_moments - generated_moments))\n",
        "    #tmp1 = tf.reduce_mean(data_features, axis = 0)\n",
        "    #tmp2 = tf.reduce_mean(generated_features, axis = 0)\n",
        "    #G_L2 = tf.reduce_mean(tf.square(tmp1 - tmp2))\n",
        "    #gen_loss = G_L1 + G_L2\n",
        "    gen_loss = G_L2\n",
        "    return gen_loss"
      ],
      "execution_count": 0,
      "outputs": []
    },
    {
      "cell_type": "code",
      "metadata": {
        "id": "gDbMiQk-uKyk",
        "colab_type": "code",
        "colab": {}
      },
      "source": [
        "def prepare_labels(label):\n",
        "    # add extra label for fake data\n",
        "\n",
        "    extended_label = tf.concat([label, tf.zeros([tf.shape(label)[0], 1])], axis = 1)\n",
        "\n",
        "    return extended_label"
      ],
      "execution_count": 0,
      "outputs": []
    },
    {
      "cell_type": "code",
      "metadata": {
        "id": "mc8WXsQ2gxpi",
        "colab_type": "code",
        "colab": {}
      },
      "source": [
        "class metric():\n",
        "    def __init__(self):\n",
        "        self.label = 0\n",
        "        self.logit = 0\n",
        "         \n",
        "    def setValues(self,a,b):\n",
        "        self.label = a\n",
        "        self.logits = b\n",
        "        \n",
        "    def report(self):\n",
        "        Y_true = tf.argmax(self.label,1).numpy()\n",
        "        #Y_true= tf.cast(self.label,tf.int32).numpy()\n",
        "        \n",
        "        Y_predict = tf.argmax(self.logits,axis = 1,output_type=tf.int32).numpy()\n",
        "\n",
        "        report = f1_score(Y_true, Y_predict,average = 'micro')\n",
        "        return report\n",
        "    "
      ],
      "execution_count": 0,
      "outputs": []
    },
    {
      "cell_type": "code",
      "metadata": {
        "id": "kUFp7dg1h4QJ",
        "colab_type": "code",
        "colab": {}
      },
      "source": [
        "metric_train = metric()\n",
        "metric_test = metric()"
      ],
      "execution_count": 0,
      "outputs": []
    },
    {
      "cell_type": "code",
      "metadata": {
        "id": "WnXI85kbHebk",
        "colab_type": "code",
        "colab": {}
      },
      "source": [
        ""
      ],
      "execution_count": 0,
      "outputs": []
    },
    {
      "cell_type": "code",
      "metadata": {
        "id": "nzeMGKFoHn8Y",
        "colab_type": "code",
        "colab": {}
      },
      "source": [
        "\n",
        "\n"
      ],
      "execution_count": 0,
      "outputs": []
    },
    {
      "cell_type": "code",
      "metadata": {
        "id": "2wgCmbju5nOJ",
        "colab_type": "code",
        "outputId": "b8d45bc6-ab5c-4dfc-e0f6-728b6868ce28",
        "colab": {
          "base_uri": "https://localhost:8080/",
          "height": 34
        }
      },
      "source": [
        "ckpt = tf.train.Checkpoint(step=tf.Variable(1), generator_optimizer=generator_optimizer, discriminator_optimizer =\n",
        "                           discriminator_optimizer,generator = generator,discriminator = discriminator)\n",
        "manager = tf.train.CheckpointManager(ckpt, 'content/gdrive/My Drive/semiGAN_tf_ckpts4', max_to_keep=3)\n",
        "ckpt.restore(manager.latest_checkpoint)\n",
        "if manager.latest_checkpoint:\n",
        "    print(\"Restored from {}\".format(manager.latest_checkpoint))\n",
        "else:\n",
        "    print(\"Initializing from scratch.\")"
      ],
      "execution_count": 0,
      "outputs": [
        {
          "output_type": "stream",
          "text": [
            "Initializing from scratch.\n"
          ],
          "name": "stdout"
        }
      ]
    },
    {
      "cell_type": "code",
      "metadata": {
        "id": "SFrt6JwoHBWX",
        "colab_type": "code",
        "colab": {}
      },
      "source": [
        "\n",
        "\n",
        "def train_step(features, labels):\n",
        "    noise_dim = 1920\n",
        "    noise = tf.random.normal([BATCH_SIZE, noise_dim])\n",
        "    with tf.GradientTape() as gen_tape,tf.GradientTape() as disc_tape:\n",
        "        generated_images = generator(noise, training = True)\n",
        "        real_features = discriminator(features, training = True)\n",
        "        D_real_logits = Dense(real_features)\n",
        "        D_real_prob = tf.nn.softmax(D_real_logits)\n",
        "        generated_features = discriminator(generated_images, training = True)\n",
        "        generated_output = Dense(generated_features)\n",
        "        D_fake_prob = tf.nn.softmax(generated_output)\n",
        "        gen_loss = generator_loss(real_features,generated_features,D_fake_prob)\n",
        "        extended_labels = prepare_labels(labels)\n",
        "        disc_loss = discriminator_loss(D_real_logits,generated_output,extended_labels,D_real_prob)\n",
        "    gradients_of_generator = gen_tape.gradient(gen_loss, generator.trainable_variables)\n",
        "    gradients_of_discriminator = disc_tape.gradient(disc_loss, discriminator.trainable_variables)\n",
        "    generator_optimizer.apply_gradients(zip(gradients_of_generator,generator.trainable_variables)) \n",
        "    discriminator_optimizer.apply_gradients(zip(gradients_of_discriminator, discriminator.trainable_variables))\n",
        "    loss_g(gen_loss)\n",
        "    loss_d(disc_loss)\n",
        "    train_accuracy(extended_labels,D_real_prob )\n",
        "    precision(extended_labels,D_real_prob)\n",
        "    recall(extended_labels,D_real_prob)\n",
        "    #metric_train.setValues(extended_labels,D_real_prob )\n",
        " "
      ],
      "execution_count": 0,
      "outputs": []
    },
    {
      "cell_type": "code",
      "metadata": {
        "id": "9fxMHY56HdUc",
        "colab_type": "code",
        "colab": {}
      },
      "source": [
        "def test_step(features, labels):\n",
        "    noise_dim = 1920\n",
        "    noise = tf.random.normal([BATCH_SIZE, noise_dim])\n",
        "    #noise = tf.random.uniform(BATCH_SIZE, noise_dim)\n",
        "    real_features = discriminator(features, training = True)\n",
        "    D_real_logits = Dense(real_features)\n",
        "    D_real_prob = tf.nn.softmax(D_real_logits)\n",
        "    generated_images = generator(noise)\n",
        "    generated_features = discriminator(features, training = True)\n",
        "    generated_output = Dense(generated_features )\n",
        "    t_D_fake_prob = tf.nn.softmax(generated_output)\n",
        "    gen_loss = generator_loss(real_features,generated_features,t_D_fake_prob)\n",
        "    test_labels = prepare_labels(labels)\n",
        "    disc_loss = discriminator_loss(D_real_logits,generated_output,test_labels,D_real_prob)\n",
        "    loss_g(gen_loss)\n",
        "    loss_d(disc_loss)\n",
        "    test_accuracy(test_labels,t_D_fake_prob)\n",
        "    precision(test_labels,D_real_prob)\n",
        "    recall(test_labels,D_real_prob)\n",
        "    metric_test.setValues(test_labels , D_real_prob)"
      ],
      "execution_count": 0,
      "outputs": []
    },
    {
      "cell_type": "markdown",
      "metadata": {
        "id": "ShKjY5yNP9g_",
        "colab_type": "text"
      },
      "source": [
        ""
      ]
    },
    {
      "cell_type": "code",
      "metadata": {
        "id": "LiJEM06biOEh",
        "colab_type": "code",
        "colab": {}
      },
      "source": [
        ""
      ],
      "execution_count": 0,
      "outputs": []
    },
    {
      "cell_type": "code",
      "metadata": {
        "id": "qpc2fmDDiHJ_",
        "colab_type": "code",
        "colab": {}
      },
      "source": [
        "\n",
        "\n",
        "\n",
        "log_path = 'content/gdrive/My Drive/SSL_GAN_0.1_log.csv'"
      ],
      "execution_count": 0,
      "outputs": []
    },
    {
      "cell_type": "code",
      "metadata": {
        "id": "RB4Sycx-HGYq",
        "colab_type": "code",
        "colab": {}
      },
      "source": [
        "def log_loss_acc(file_path, test_accuracy, precision, recall, f1_score, log_mode = 'w'):\n",
        "    \n",
        "    mode = log_mode \n",
        "\n",
        "    with open(file_path, mode) as f:\n",
        "        if mode == 'w':\n",
        "            header = 'accuraacy, precision,recall, f1 score\\n'\n",
        "            f.write(header)\n",
        "\n",
        "        line =  '%f, %f, %f, %f\\n' %(test_accuracy, precision, recall, f1_score)\n",
        "        f.write(line)"
      ],
      "execution_count": 0,
      "outputs": []
    },
    {
      "cell_type": "code",
      "metadata": {
        "id": "dfQh5mdH8WFJ",
        "colab_type": "code",
        "colab": {}
      },
      "source": [
        ""
      ],
      "execution_count": 0,
      "outputs": []
    },
    {
      "cell_type": "code",
      "metadata": {
        "id": "DOYk4GIiDJkT",
        "colab_type": "code",
        "colab": {}
      },
      "source": [
        "\n"
      ],
      "execution_count": 0,
      "outputs": []
    },
    {
      "cell_type": "code",
      "metadata": {
        "id": "kX9NqRBILijW",
        "colab_type": "code",
        "outputId": "69891264-00c4-47b3-9f5c-8a62af9f2e9c",
        "colab": {
          "base_uri": "https://localhost:8080/",
          "height": 1000
        }
      },
      "source": [
        "train_accuracy_results = []\n",
        "test_accuracy_results =[]\n",
        "test_precision = []\n",
        "test_recall =[]\n",
        "f1_score_result =[]\n",
        "print('now training')\n",
        "EPOCHS = 500\n",
        "for epoch in range(EPOCHS):\n",
        "   \n",
        "    for features,labels in train_dataset:\n",
        "    \n",
        "        \n",
        "        train_step(features,labels)\n",
        "        #report = metric_train.report()\n",
        "    print('epoch: %d, | train_G_Loss: %f, ' \\\n",
        "                      'train_D_loss: %f, train_acc: %f' %(epoch,loss_g.result(), loss_d.result(),\n",
        "                                                          train_accuracy.result().numpy()))\n",
        "                                                               \n",
        "    for features,labels in test_dataset:\n",
        "        test_step(features, labels)\n",
        "        ckpt.step.assign_add(1)\n",
        "    \n",
        "    f = metric_test.report()    \n",
        "    print('epoch: %d, | train_G_Loss: %f, ' \\\n",
        "                      'train_D_loss: %f,test accuracy: %f,f1 score:%f' %(epoch,loss_g.result(), loss_d.result(),\n",
        "                                                          test_accuracy.result().numpy(),f))\n",
        "                                              \n",
        "    if epoch % 5 == 0:\n",
        "      save_path = manager.save()\n",
        "      print(\"Saved checkpoint for step {}: {}\".format(int(ckpt.step), save_path))\n",
        "        \n",
        "    \n",
        "    train_accuracy_results.append(train_accuracy.result().numpy())\n",
        "    test_accuracy_results.append(test_accuracy.result().numpy())\n",
        "    f1_score_result.append(f)\n",
        "  \n",
        "    log_loss_acc(log_path,test_accuracy.result().numpy(),precision.result().numpy(),recall.result().numpy(),f)\n",
        "    \n",
        "    \n",
        "    "
      ],
      "execution_count": 0,
      "outputs": [
        {
          "output_type": "stream",
          "text": [
            "now training\n",
            "epoch: 0, | train_G_Loss: 0.137410, train_D_loss: 2.516293, train_acc: 0.529217\n",
            "epoch: 0, | train_G_Loss: 0.119554, train_D_loss: 2.946398,test accuracy: 0.304167,f1 score:0.936000\n",
            "Saved checkpoint for step 49: content/gdrive/My Drive/semiGAN_tf_ckpts4/ckpt-1\n",
            "epoch: 1, | train_G_Loss: 0.108459, train_D_loss: 2.759475, train_acc: 0.536483\n",
            "epoch: 1, | train_G_Loss: 0.101794, train_D_loss: 2.932027,test accuracy: 0.302542,f1 score:0.912000\n",
            "epoch: 2, | train_G_Loss: 0.102353, train_D_loss: 2.759365, train_acc: 0.547589\n",
            "epoch: 2, | train_G_Loss: 0.098230, train_D_loss: 2.851352,test accuracy: 0.303167,f1 score:0.920000\n",
            "epoch: 3, | train_G_Loss: 0.107414, train_D_loss: 2.660609, train_acc: 0.563913\n",
            "epoch: 3, | train_G_Loss: 0.104152, train_D_loss: 2.735160,test accuracy: 0.308688,f1 score:0.944000\n",
            "epoch: 4, | train_G_Loss: 0.117011, train_D_loss: 2.557676, train_acc: 0.581010\n",
            "epoch: 4, | train_G_Loss: 0.114105, train_D_loss: 2.623705,test accuracy: 0.315150,f1 score:0.980000\n",
            "epoch: 5, | train_G_Loss: 0.128310, train_D_loss: 2.471433, train_acc: 0.595697\n",
            "epoch: 5, | train_G_Loss: 0.125559, train_D_loss: 2.533610,test accuracy: 0.321542,f1 score:0.984000\n",
            "Saved checkpoint for step 289: content/gdrive/My Drive/semiGAN_tf_ckpts4/ckpt-2\n",
            "epoch: 6, | train_G_Loss: 0.139397, train_D_loss: 2.402966, train_acc: 0.608405\n",
            "epoch: 6, | train_G_Loss: 0.136803, train_D_loss: 2.460969,test accuracy: 0.324726,f1 score:0.976000\n",
            "epoch: 7, | train_G_Loss: 0.149815, train_D_loss: 2.348057, train_acc: 0.618696\n",
            "epoch: 7, | train_G_Loss: 0.147310, train_D_loss: 2.401490,test accuracy: 0.326802,f1 score:0.960000\n",
            "epoch: 8, | train_G_Loss: 0.159412, train_D_loss: 2.300315, train_acc: 0.628289\n",
            "epoch: 8, | train_G_Loss: 0.157002, train_D_loss: 2.353064,test accuracy: 0.327713,f1 score:0.960000\n",
            "epoch: 9, | train_G_Loss: 0.168766, train_D_loss: 2.259009, train_acc: 0.637108\n",
            "epoch: 9, | train_G_Loss: 0.166451, train_D_loss: 2.310926,test accuracy: 0.328700,f1 score:0.984000\n",
            "epoch: 10, | train_G_Loss: 0.177947, train_D_loss: 2.220132, train_acc: 0.645865\n",
            "epoch: 10, | train_G_Loss: 0.175700, train_D_loss: 2.269577,test accuracy: 0.330280,f1 score:0.992000\n",
            "Saved checkpoint for step 529: content/gdrive/My Drive/semiGAN_tf_ckpts4/ckpt-3\n",
            "epoch: 11, | train_G_Loss: 0.186900, train_D_loss: 2.181953, train_acc: 0.654197\n",
            "epoch: 11, | train_G_Loss: 0.184730, train_D_loss: 2.229976,test accuracy: 0.331764,f1 score:0.996000\n",
            "epoch: 12, | train_G_Loss: 0.193750, train_D_loss: 2.154229, train_acc: 0.661210\n",
            "epoch: 12, | train_G_Loss: 0.191668, train_D_loss: 2.205750,test accuracy: 0.332609,f1 score:0.984000\n",
            "epoch: 13, | train_G_Loss: 0.197619, train_D_loss: 2.147292, train_acc: 0.666579\n",
            "epoch: 13, | train_G_Loss: 0.195619, train_D_loss: 2.196963,test accuracy: 0.333173,f1 score:0.992000\n",
            "epoch: 14, | train_G_Loss: 0.199616, train_D_loss: 2.145760, train_acc: 0.671397\n",
            "epoch: 14, | train_G_Loss: 0.197730, train_D_loss: 2.188823,test accuracy: 0.333689,f1 score:0.996000\n",
            "epoch: 15, | train_G_Loss: 0.201938, train_D_loss: 2.133260, train_acc: 0.676315\n",
            "epoch: 15, | train_G_Loss: 0.200148, train_D_loss: 2.171237,test accuracy: 0.334771,f1 score:0.996000\n",
            "Saved checkpoint for step 769: content/gdrive/My Drive/semiGAN_tf_ckpts4/ckpt-4\n",
            "epoch: 16, | train_G_Loss: 0.204711, train_D_loss: 2.115569, train_acc: 0.681491\n",
            "epoch: 16, | train_G_Loss: 0.203010, train_D_loss: 2.150101,test accuracy: 0.336583,f1 score:1.000000\n",
            "epoch: 17, | train_G_Loss: 0.207948, train_D_loss: 2.094154, train_acc: 0.686953\n",
            "epoch: 17, | train_G_Loss: 0.206313, train_D_loss: 2.127184,test accuracy: 0.339120,f1 score:1.000000\n",
            "epoch: 18, | train_G_Loss: 0.211410, train_D_loss: 2.072716, train_acc: 0.692604\n",
            "epoch: 18, | train_G_Loss: 0.209829, train_D_loss: 2.103883,test accuracy: 0.342496,f1 score:1.000000\n",
            "epoch: 19, | train_G_Loss: 0.215144, train_D_loss: 2.050188, train_acc: 0.698367\n",
            "epoch: 19, | train_G_Loss: 0.213623, train_D_loss: 2.079695,test accuracy: 0.346346,f1 score:0.996000\n",
            "epoch: 20, | train_G_Loss: 0.218901, train_D_loss: 2.028109, train_acc: 0.704086\n",
            "epoch: 20, | train_G_Loss: 0.217425, train_D_loss: 2.056838,test accuracy: 0.350087,f1 score:1.000000\n",
            "Saved checkpoint for step 1009: content/gdrive/My Drive/semiGAN_tf_ckpts4/ckpt-5\n",
            "epoch: 21, | train_G_Loss: 0.222848, train_D_loss: 2.006997, train_acc: 0.709670\n",
            "epoch: 21, | train_G_Loss: 0.221407, train_D_loss: 2.034666,test accuracy: 0.353792,f1 score:0.992000\n",
            "epoch: 22, | train_G_Loss: 0.226585, train_D_loss: 1.987782, train_acc: 0.714889\n",
            "epoch: 22, | train_G_Loss: 0.225189, train_D_loss: 2.015148,test accuracy: 0.357721,f1 score:0.996000\n",
            "epoch: 23, | train_G_Loss: 0.230515, train_D_loss: 1.969760, train_acc: 0.719778\n",
            "epoch: 23, | train_G_Loss: 0.229143, train_D_loss: 1.995979,test accuracy: 0.361899,f1 score:0.996000\n",
            "epoch: 24, | train_G_Loss: 0.234381, train_D_loss: 1.952591, train_acc: 0.724427\n",
            "epoch: 24, | train_G_Loss: 0.233057, train_D_loss: 1.978280,test accuracy: 0.365833,f1 score:0.996000\n",
            "epoch: 25, | train_G_Loss: 0.238360, train_D_loss: 1.936814, train_acc: 0.728825\n",
            "epoch: 25, | train_G_Loss: 0.237051, train_D_loss: 1.962192,test accuracy: 0.369769,f1 score:0.996000\n",
            "Saved checkpoint for step 1249: content/gdrive/My Drive/semiGAN_tf_ckpts4/ckpt-6\n",
            "epoch: 26, | train_G_Loss: 0.242406, train_D_loss: 1.921952, train_acc: 0.733120\n",
            "epoch: 26, | train_G_Loss: 0.241126, train_D_loss: 1.947307,test accuracy: 0.373608,f1 score:0.992000\n",
            "epoch: 27, | train_G_Loss: 0.246522, train_D_loss: 1.908813, train_acc: 0.737217\n",
            "epoch: 27, | train_G_Loss: 0.245272, train_D_loss: 1.933606,test accuracy: 0.377429,f1 score:0.996000\n",
            "epoch: 28, | train_G_Loss: 0.250742, train_D_loss: 1.896513, train_acc: 0.741040\n",
            "epoch: 28, | train_G_Loss: 0.249513, train_D_loss: 1.921290,test accuracy: 0.381147,f1 score:0.996000\n",
            "epoch: 29, | train_G_Loss: 0.254963, train_D_loss: 1.885285, train_acc: 0.744843\n",
            "epoch: 29, | train_G_Loss: 0.253759, train_D_loss: 1.909285,test accuracy: 0.384617,f1 score:1.000000\n",
            "epoch: 30, | train_G_Loss: 0.259342, train_D_loss: 1.874395, train_acc: 0.748430\n",
            "epoch: 30, | train_G_Loss: 0.258139, train_D_loss: 1.897448,test accuracy: 0.388331,f1 score:1.000000\n",
            "Saved checkpoint for step 1489: content/gdrive/My Drive/semiGAN_tf_ckpts4/ckpt-7\n",
            "epoch: 31, | train_G_Loss: 0.263657, train_D_loss: 1.863778, train_acc: 0.751902\n",
            "epoch: 31, | train_G_Loss: 0.262479, train_D_loss: 1.886977,test accuracy: 0.391940,f1 score:1.000000\n",
            "epoch: 32, | train_G_Loss: 0.268018, train_D_loss: 1.854670, train_acc: 0.755086\n",
            "epoch: 32, | train_G_Loss: 0.266861, train_D_loss: 1.876364,test accuracy: 0.395452,f1 score:0.992000\n",
            "epoch: 33, | train_G_Loss: 0.272444, train_D_loss: 1.844818, train_acc: 0.758241\n",
            "epoch: 33, | train_G_Loss: 0.271301, train_D_loss: 1.865522,test accuracy: 0.399135,f1 score:1.000000\n",
            "epoch: 34, | train_G_Loss: 0.276938, train_D_loss: 1.834920, train_acc: 0.761300\n",
            "epoch: 34, | train_G_Loss: 0.275802, train_D_loss: 1.855144,test accuracy: 0.402557,f1 score:1.000000\n",
            "epoch: 35, | train_G_Loss: 0.281242, train_D_loss: 1.825666, train_acc: 0.764124\n",
            "epoch: 35, | train_G_Loss: 0.280117, train_D_loss: 1.845367,test accuracy: 0.405977,f1 score:1.000000\n",
            "Saved checkpoint for step 1729: content/gdrive/My Drive/semiGAN_tf_ckpts4/ckpt-8\n",
            "epoch: 36, | train_G_Loss: 0.285443, train_D_loss: 1.816852, train_acc: 0.766746\n",
            "epoch: 36, | train_G_Loss: 0.284337, train_D_loss: 1.836133,test accuracy: 0.409809,f1 score:1.000000\n",
            "epoch: 37, | train_G_Loss: 0.289597, train_D_loss: 1.808610, train_acc: 0.769139\n",
            "epoch: 37, | train_G_Loss: 0.288516, train_D_loss: 1.827649,test accuracy: 0.413393,f1 score:1.000000\n",
            "epoch: 38, | train_G_Loss: 0.293615, train_D_loss: 1.800390, train_acc: 0.771485\n",
            "epoch: 38, | train_G_Loss: 0.292536, train_D_loss: 1.819027,test accuracy: 0.417047,f1 score:1.000000\n",
            "epoch: 39, | train_G_Loss: 0.297492, train_D_loss: 1.793026, train_acc: 0.773617\n",
            "epoch: 39, | train_G_Loss: 0.296415, train_D_loss: 1.810959,test accuracy: 0.420746,f1 score:0.992000\n",
            "epoch: 40, | train_G_Loss: 0.301368, train_D_loss: 1.785444, train_acc: 0.775692\n",
            "epoch: 40, | train_G_Loss: 0.300303, train_D_loss: 1.803080,test accuracy: 0.424140,f1 score:1.000000\n",
            "Saved checkpoint for step 1969: content/gdrive/My Drive/semiGAN_tf_ckpts4/ckpt-9\n",
            "epoch: 41, | train_G_Loss: 0.305175, train_D_loss: 1.777782, train_acc: 0.777639\n",
            "epoch: 41, | train_G_Loss: 0.304119, train_D_loss: 1.794778,test accuracy: 0.427391,f1 score:1.000000\n",
            "epoch: 42, | train_G_Loss: 0.308852, train_D_loss: 1.770204, train_acc: 0.779552\n",
            "epoch: 42, | train_G_Loss: 0.307819, train_D_loss: 1.786842,test accuracy: 0.430954,f1 score:1.000000\n",
            "epoch: 43, | train_G_Loss: 0.312518, train_D_loss: 1.763381, train_acc: 0.781253\n",
            "epoch: 43, | train_G_Loss: 0.311484, train_D_loss: 1.779167,test accuracy: 0.434527,f1 score:1.000000\n",
            "epoch: 44, | train_G_Loss: 0.316101, train_D_loss: 1.756064, train_acc: 0.782907\n",
            "epoch: 44, | train_G_Loss: 0.315073, train_D_loss: 1.771345,test accuracy: 0.438139,f1 score:1.000000\n",
            "epoch: 45, | train_G_Loss: 0.319500, train_D_loss: 1.748852, train_acc: 0.784514\n",
            "epoch: 45, | train_G_Loss: 0.318487, train_D_loss: 1.763794,test accuracy: 0.441524,f1 score:1.000000\n",
            "Saved checkpoint for step 2209: content/gdrive/My Drive/semiGAN_tf_ckpts4/ckpt-10\n",
            "epoch: 46, | train_G_Loss: 0.322890, train_D_loss: 1.741513, train_acc: 0.786328\n",
            "epoch: 46, | train_G_Loss: 0.321893, train_D_loss: 1.756643,test accuracy: 0.445358,f1 score:1.000000\n",
            "epoch: 47, | train_G_Loss: 0.327242, train_D_loss: 1.734298, train_acc: 0.788202\n",
            "epoch: 47, | train_G_Loss: 0.326256, train_D_loss: 1.749232,test accuracy: 0.449411,f1 score:1.000000\n",
            "epoch: 48, | train_G_Loss: 0.330555, train_D_loss: 1.728015, train_acc: 0.789781\n",
            "epoch: 48, | train_G_Loss: 0.329574, train_D_loss: 1.742399,test accuracy: 0.453155,f1 score:1.000000\n",
            "epoch: 49, | train_G_Loss: 0.334070, train_D_loss: 1.722153, train_acc: 0.791138\n",
            "epoch: 49, | train_G_Loss: 0.333094, train_D_loss: 1.736168,test accuracy: 0.456877,f1 score:1.000000\n",
            "epoch: 50, | train_G_Loss: 0.337333, train_D_loss: 1.716329, train_acc: 0.792427\n",
            "epoch: 50, | train_G_Loss: 0.336364, train_D_loss: 1.730697,test accuracy: 0.460438,f1 score:1.000000\n",
            "Saved checkpoint for step 2449: content/gdrive/My Drive/semiGAN_tf_ckpts4/ckpt-11\n",
            "epoch: 51, | train_G_Loss: 0.340411, train_D_loss: 1.711052, train_acc: 0.793658\n",
            "epoch: 51, | train_G_Loss: 0.339455, train_D_loss: 1.725067,test accuracy: 0.463881,f1 score:1.000000\n",
            "epoch: 52, | train_G_Loss: 0.343519, train_D_loss: 1.705840, train_acc: 0.794948\n",
            "epoch: 52, | train_G_Loss: 0.342571, train_D_loss: 1.719988,test accuracy: 0.467060,f1 score:1.000000\n",
            "epoch: 53, | train_G_Loss: 0.346666, train_D_loss: 1.700699, train_acc: 0.796259\n",
            "epoch: 53, | train_G_Loss: 0.345734, train_D_loss: 1.715482,test accuracy: 0.470461,f1 score:1.000000\n",
            "epoch: 54, | train_G_Loss: 0.349791, train_D_loss: 1.696656, train_acc: 0.797505\n",
            "epoch: 54, | train_G_Loss: 0.348864, train_D_loss: 1.709810,test accuracy: 0.473632,f1 score:1.000000\n",
            "epoch: 55, | train_G_Loss: 0.352863, train_D_loss: 1.691446, train_acc: 0.798766\n",
            "epoch: 55, | train_G_Loss: 0.351929, train_D_loss: 1.704642,test accuracy: 0.476969,f1 score:1.000000\n",
            "Saved checkpoint for step 2689: content/gdrive/My Drive/semiGAN_tf_ckpts4/ckpt-12\n",
            "epoch: 56, | train_G_Loss: 0.355754, train_D_loss: 1.686771, train_acc: 0.799928\n",
            "epoch: 56, | train_G_Loss: 0.354847, train_D_loss: 1.699590,test accuracy: 0.480341,f1 score:0.992000\n",
            "epoch: 57, | train_G_Loss: 0.358638, train_D_loss: 1.682014, train_acc: 0.801094\n",
            "epoch: 57, | train_G_Loss: 0.357730, train_D_loss: 1.695071,test accuracy: 0.483665,f1 score:1.000000\n",
            "epoch: 58, | train_G_Loss: 0.361671, train_D_loss: 1.677246, train_acc: 0.802518\n",
            "epoch: 58, | train_G_Loss: 0.360771, train_D_loss: 1.690798,test accuracy: 0.487492,f1 score:1.000000\n",
            "epoch: 59, | train_G_Loss: 0.365277, train_D_loss: 1.673400, train_acc: 0.803741\n",
            "epoch: 59, | train_G_Loss: 0.364382, train_D_loss: 1.686558,test accuracy: 0.491093,f1 score:1.000000\n",
            "epoch: 60, | train_G_Loss: 0.368263, train_D_loss: 1.669774, train_acc: 0.804879\n",
            "epoch: 60, | train_G_Loss: 0.367370, train_D_loss: 1.683138,test accuracy: 0.494690,f1 score:1.000000\n",
            "Saved checkpoint for step 2929: content/gdrive/My Drive/semiGAN_tf_ckpts4/ckpt-13\n",
            "epoch: 61, | train_G_Loss: 0.371158, train_D_loss: 1.667014, train_acc: 0.805864\n",
            "epoch: 61, | train_G_Loss: 0.370281, train_D_loss: 1.679137,test accuracy: 0.497788,f1 score:0.988000\n",
            "epoch: 62, | train_G_Loss: 0.373863, train_D_loss: 1.662841, train_acc: 0.806921\n",
            "epoch: 62, | train_G_Loss: 0.372992, train_D_loss: 1.676487,test accuracy: 0.501060,f1 score:0.996000\n",
            "epoch: 63, | train_G_Loss: 0.376782, train_D_loss: 1.660452, train_acc: 0.807959\n",
            "epoch: 63, | train_G_Loss: 0.375924, train_D_loss: 1.673585,test accuracy: 0.504184,f1 score:1.000000\n",
            "epoch: 64, | train_G_Loss: 0.379468, train_D_loss: 1.657886, train_acc: 0.808906\n",
            "epoch: 64, | train_G_Loss: 0.378609, train_D_loss: 1.669682,test accuracy: 0.507062,f1 score:1.000000\n",
            "epoch: 65, | train_G_Loss: 0.382213, train_D_loss: 1.654263, train_acc: 0.809854\n",
            "epoch: 65, | train_G_Loss: 0.381359, train_D_loss: 1.666986,test accuracy: 0.510063,f1 score:1.000000\n",
            "Saved checkpoint for step 3169: content/gdrive/My Drive/semiGAN_tf_ckpts4/ckpt-14\n",
            "epoch: 66, | train_G_Loss: 0.384920, train_D_loss: 1.651886, train_acc: 0.810766\n",
            "epoch: 66, | train_G_Loss: 0.384081, train_D_loss: 1.665021,test accuracy: 0.513251,f1 score:1.000000\n",
            "epoch: 67, | train_G_Loss: 0.387691, train_D_loss: 1.649934, train_acc: 0.811727\n",
            "epoch: 67, | train_G_Loss: 0.386858, train_D_loss: 1.662892,test accuracy: 0.516246,f1 score:1.000000\n",
            "epoch: 68, | train_G_Loss: 0.390359, train_D_loss: 1.648233, train_acc: 0.812600\n",
            "epoch: 68, | train_G_Loss: 0.389527, train_D_loss: 1.660325,test accuracy: 0.519002,f1 score:1.000000\n",
            "epoch: 69, | train_G_Loss: 0.393048, train_D_loss: 1.645577, train_acc: 0.813523\n",
            "epoch: 69, | train_G_Loss: 0.392218, train_D_loss: 1.658277,test accuracy: 0.522131,f1 score:1.000000\n",
            "epoch: 70, | train_G_Loss: 0.395784, train_D_loss: 1.643838, train_acc: 0.814375\n",
            "epoch: 70, | train_G_Loss: 0.394965, train_D_loss: 1.655943,test accuracy: 0.524926,f1 score:1.000000\n",
            "Saved checkpoint for step 3409: content/gdrive/My Drive/semiGAN_tf_ckpts4/ckpt-15\n",
            "epoch: 71, | train_G_Loss: 0.398495, train_D_loss: 1.641899, train_acc: 0.815132\n",
            "epoch: 71, | train_G_Loss: 0.397683, train_D_loss: 1.654162,test accuracy: 0.527958,f1 score:1.000000\n",
            "epoch: 72, | train_G_Loss: 0.401469, train_D_loss: 1.640326, train_acc: 0.815872\n",
            "epoch: 72, | train_G_Loss: 0.400667, train_D_loss: 1.652501,test accuracy: 0.530831,f1 score:1.000000\n",
            "epoch: 73, | train_G_Loss: 0.403827, train_D_loss: 1.638660, train_acc: 0.816756\n",
            "epoch: 73, | train_G_Loss: 0.403027, train_D_loss: 1.650069,test accuracy: 0.533457,f1 score:1.000000\n",
            "epoch: 74, | train_G_Loss: 0.406206, train_D_loss: 1.636582, train_acc: 0.817548\n",
            "epoch: 74, | train_G_Loss: 0.405407, train_D_loss: 1.648755,test accuracy: 0.536274,f1 score:1.000000\n",
            "epoch: 75, | train_G_Loss: 0.408616, train_D_loss: 1.635342, train_acc: 0.818268\n",
            "epoch: 75, | train_G_Loss: 0.407815, train_D_loss: 1.646725,test accuracy: 0.539113,f1 score:1.000000\n",
            "Saved checkpoint for step 3649: content/gdrive/My Drive/semiGAN_tf_ckpts4/ckpt-16\n",
            "epoch: 76, | train_G_Loss: 0.411278, train_D_loss: 1.633842, train_acc: 0.818865\n",
            "epoch: 76, | train_G_Loss: 0.410495, train_D_loss: 1.645813,test accuracy: 0.541864,f1 score:1.000000\n",
            "epoch: 77, | train_G_Loss: 0.413382, train_D_loss: 1.632934, train_acc: 0.819466\n",
            "epoch: 77, | train_G_Loss: 0.412600, train_D_loss: 1.644358,test accuracy: 0.544584,f1 score:1.000000\n",
            "epoch: 78, | train_G_Loss: 0.415537, train_D_loss: 1.631420, train_acc: 0.820159\n",
            "epoch: 78, | train_G_Loss: 0.414759, train_D_loss: 1.642849,test accuracy: 0.547397,f1 score:1.000000\n",
            "epoch: 79, | train_G_Loss: 0.417807, train_D_loss: 1.629991, train_acc: 0.820882\n",
            "epoch: 79, | train_G_Loss: 0.417036, train_D_loss: 1.641592,test accuracy: 0.550153,f1 score:1.000000\n",
            "epoch: 80, | train_G_Loss: 0.420074, train_D_loss: 1.629066, train_acc: 0.821507\n",
            "epoch: 80, | train_G_Loss: 0.419312, train_D_loss: 1.641088,test accuracy: 0.552830,f1 score:1.000000\n",
            "Saved checkpoint for step 3889: content/gdrive/My Drive/semiGAN_tf_ckpts4/ckpt-17\n",
            "epoch: 81, | train_G_Loss: 0.422258, train_D_loss: 1.628866, train_acc: 0.822111\n",
            "epoch: 81, | train_G_Loss: 0.421507, train_D_loss: 1.639380,test accuracy: 0.555379,f1 score:1.000000\n",
            "epoch: 82, | train_G_Loss: 0.425102, train_D_loss: 1.627069, train_acc: 0.822714\n",
            "epoch: 82, | train_G_Loss: 0.424342, train_D_loss: 1.638263,test accuracy: 0.557751,f1 score:1.000000\n",
            "epoch: 83, | train_G_Loss: 0.427104, train_D_loss: 1.626077, train_acc: 0.823364\n",
            "epoch: 83, | train_G_Loss: 0.426360, train_D_loss: 1.637873,test accuracy: 0.560313,f1 score:1.000000\n",
            "epoch: 84, | train_G_Loss: 0.429158, train_D_loss: 1.625944, train_acc: 0.823968\n",
            "epoch: 84, | train_G_Loss: 0.428414, train_D_loss: 1.637699,test accuracy: 0.562778,f1 score:1.000000\n",
            "epoch: 85, | train_G_Loss: 0.431138, train_D_loss: 1.625856, train_acc: 0.824538\n",
            "epoch: 85, | train_G_Loss: 0.430386, train_D_loss: 1.637855,test accuracy: 0.565357,f1 score:1.000000\n",
            "Saved checkpoint for step 4129: content/gdrive/My Drive/semiGAN_tf_ckpts4/ckpt-18\n",
            "epoch: 86, | train_G_Loss: 0.433185, train_D_loss: 1.626208, train_acc: 0.825067\n",
            "epoch: 86, | train_G_Loss: 0.432450, train_D_loss: 1.637303,test accuracy: 0.567640,f1 score:1.000000\n",
            "epoch: 87, | train_G_Loss: 0.435221, train_D_loss: 1.625950, train_acc: 0.825571\n",
            "epoch: 87, | train_G_Loss: 0.434488, train_D_loss: 1.637081,test accuracy: 0.570071,f1 score:0.996000\n",
            "epoch: 88, | train_G_Loss: 0.437249, train_D_loss: 1.625714, train_acc: 0.826162\n",
            "epoch: 88, | train_G_Loss: 0.436519, train_D_loss: 1.637784,test accuracy: 0.572551,f1 score:1.000000\n",
            "epoch: 89, | train_G_Loss: 0.439266, train_D_loss: 1.626729, train_acc: 0.826643\n",
            "epoch: 89, | train_G_Loss: 0.438545, train_D_loss: 1.637593,test accuracy: 0.574757,f1 score:0.992000\n",
            "epoch: 90, | train_G_Loss: 0.441295, train_D_loss: 1.626665, train_acc: 0.827103\n",
            "epoch: 90, | train_G_Loss: 0.440582, train_D_loss: 1.637799,test accuracy: 0.576988,f1 score:1.000000\n",
            "Saved checkpoint for step 4369: content/gdrive/My Drive/semiGAN_tf_ckpts4/ckpt-19\n",
            "epoch: 91, | train_G_Loss: 0.444196, train_D_loss: 1.626491, train_acc: 0.827620\n",
            "epoch: 91, | train_G_Loss: 0.443481, train_D_loss: 1.638058,test accuracy: 0.579209,f1 score:1.000000\n",
            "epoch: 92, | train_G_Loss: 0.445924, train_D_loss: 1.626898, train_acc: 0.828220\n",
            "epoch: 92, | train_G_Loss: 0.445210, train_D_loss: 1.637915,test accuracy: 0.581452,f1 score:0.996000\n",
            "epoch: 93, | train_G_Loss: 0.447789, train_D_loss: 1.627078, train_acc: 0.828724\n",
            "epoch: 93, | train_G_Loss: 0.447081, train_D_loss: 1.638499,test accuracy: 0.583652,f1 score:1.000000\n",
            "epoch: 94, | train_G_Loss: 0.449664, train_D_loss: 1.627791, train_acc: 0.829201\n",
            "epoch: 94, | train_G_Loss: 0.448959, train_D_loss: 1.639487,test accuracy: 0.585863,f1 score:1.000000\n",
            "epoch: 95, | train_G_Loss: 0.451510, train_D_loss: 1.628884, train_acc: 0.829633\n",
            "epoch: 95, | train_G_Loss: 0.450810, train_D_loss: 1.639657,test accuracy: 0.588035,f1 score:0.996000\n",
            "Saved checkpoint for step 4609: content/gdrive/My Drive/semiGAN_tf_ckpts4/ckpt-20\n",
            "epoch: 96, | train_G_Loss: 0.453244, train_D_loss: 1.629157, train_acc: 0.830073\n",
            "epoch: 96, | train_G_Loss: 0.452548, train_D_loss: 1.640020,test accuracy: 0.590141,f1 score:1.000000\n",
            "epoch: 97, | train_G_Loss: 0.455078, train_D_loss: 1.629731, train_acc: 0.830509\n",
            "epoch: 97, | train_G_Loss: 0.454388, train_D_loss: 1.639915,test accuracy: 0.592078,f1 score:1.000000\n",
            "epoch: 98, | train_G_Loss: 0.456927, train_D_loss: 1.629530, train_acc: 0.830921\n",
            "epoch: 98, | train_G_Loss: 0.456240, train_D_loss: 1.640262,test accuracy: 0.594060,f1 score:1.000000\n",
            "epoch: 99, | train_G_Loss: 0.458759, train_D_loss: 1.630104, train_acc: 0.831342\n",
            "epoch: 99, | train_G_Loss: 0.458078, train_D_loss: 1.640469,test accuracy: 0.595976,f1 score:1.000000\n",
            "epoch: 100, | train_G_Loss: 0.460622, train_D_loss: 1.630331, train_acc: 0.831670\n",
            "epoch: 100, | train_G_Loss: 0.459944, train_D_loss: 1.640717,test accuracy: 0.597884,f1 score:1.000000\n",
            "Saved checkpoint for step 4849: content/gdrive/My Drive/semiGAN_tf_ckpts4/ckpt-21\n",
            "epoch: 101, | train_G_Loss: 0.462750, train_D_loss: 1.630479, train_acc: 0.832080\n",
            "epoch: 101, | train_G_Loss: 0.462080, train_D_loss: 1.641009,test accuracy: 0.599775,f1 score:1.000000\n",
            "epoch: 102, | train_G_Loss: 0.465344, train_D_loss: 1.630989, train_acc: 0.832479\n",
            "epoch: 102, | train_G_Loss: 0.464677, train_D_loss: 1.640628,test accuracy: 0.601587,f1 score:1.000000\n",
            "epoch: 103, | train_G_Loss: 0.466957, train_D_loss: 1.630733, train_acc: 0.832928\n",
            "epoch: 103, | train_G_Loss: 0.466298, train_D_loss: 1.640991,test accuracy: 0.603506,f1 score:1.000000\n",
            "epoch: 104, | train_G_Loss: 0.468726, train_D_loss: 1.631076, train_acc: 0.833329\n",
            "epoch: 104, | train_G_Loss: 0.468072, train_D_loss: 1.641846,test accuracy: 0.605366,f1 score:1.000000\n",
            "epoch: 105, | train_G_Loss: 0.470450, train_D_loss: 1.632100, train_acc: 0.833722\n",
            "epoch: 105, | train_G_Loss: 0.469789, train_D_loss: 1.642628,test accuracy: 0.607153,f1 score:1.000000\n",
            "Saved checkpoint for step 5089: content/gdrive/My Drive/semiGAN_tf_ckpts4/ckpt-22\n",
            "epoch: 106, | train_G_Loss: 0.472103, train_D_loss: 1.633090, train_acc: 0.834047\n",
            "epoch: 106, | train_G_Loss: 0.471447, train_D_loss: 1.642857,test accuracy: 0.608871,f1 score:1.000000\n",
            "epoch: 107, | train_G_Loss: 0.473788, train_D_loss: 1.633416, train_acc: 0.834361\n",
            "epoch: 107, | train_G_Loss: 0.473147, train_D_loss: 1.643196,test accuracy: 0.610599,f1 score:1.000000\n",
            "epoch: 108, | train_G_Loss: 0.475489, train_D_loss: 1.633810, train_acc: 0.834719\n",
            "epoch: 108, | train_G_Loss: 0.474846, train_D_loss: 1.643149,test accuracy: 0.612310,f1 score:0.996000\n",
            "epoch: 109, | train_G_Loss: 0.477102, train_D_loss: 1.633874, train_acc: 0.834994\n",
            "epoch: 109, | train_G_Loss: 0.476456, train_D_loss: 1.644221,test accuracy: 0.614054,f1 score:1.000000\n",
            "epoch: 110, | train_G_Loss: 0.478741, train_D_loss: 1.635044, train_acc: 0.835275\n",
            "epoch: 110, | train_G_Loss: 0.478101, train_D_loss: 1.645184,test accuracy: 0.615763,f1 score:1.000000\n",
            "Saved checkpoint for step 5329: content/gdrive/My Drive/semiGAN_tf_ckpts4/ckpt-23\n",
            "epoch: 111, | train_G_Loss: 0.481208, train_D_loss: 1.636096, train_acc: 0.835541\n",
            "epoch: 111, | train_G_Loss: 0.480575, train_D_loss: 1.646625,test accuracy: 0.617499,f1 score:1.000000\n",
            "epoch: 112, | train_G_Loss: 0.482617, train_D_loss: 1.637416, train_acc: 0.835897\n",
            "epoch: 112, | train_G_Loss: 0.481990, train_D_loss: 1.648142,test accuracy: 0.619149,f1 score:1.000000\n",
            "epoch: 113, | train_G_Loss: 0.484225, train_D_loss: 1.639055, train_acc: 0.836194\n",
            "epoch: 113, | train_G_Loss: 0.483589, train_D_loss: 1.649201,test accuracy: 0.620815,f1 score:1.000000\n",
            "epoch: 114, | train_G_Loss: 0.485694, train_D_loss: 1.640088, train_acc: 0.836529\n",
            "epoch: 114, | train_G_Loss: 0.485070, train_D_loss: 1.650594,test accuracy: 0.622433,f1 score:1.000000\n",
            "epoch: 115, | train_G_Loss: 0.487210, train_D_loss: 1.641716, train_acc: 0.836856\n",
            "epoch: 115, | train_G_Loss: 0.486589, train_D_loss: 1.652269,test accuracy: 0.624079,f1 score:1.000000\n",
            "Saved checkpoint for step 5569: content/gdrive/My Drive/semiGAN_tf_ckpts4/ckpt-24\n",
            "epoch: 116, | train_G_Loss: 0.488722, train_D_loss: 1.643487, train_acc: 0.837111\n",
            "epoch: 116, | train_G_Loss: 0.488108, train_D_loss: 1.653272,test accuracy: 0.625694,f1 score:1.000000\n",
            "epoch: 117, | train_G_Loss: 0.490184, train_D_loss: 1.644513, train_acc: 0.837373\n",
            "epoch: 117, | train_G_Loss: 0.489570, train_D_loss: 1.654057,test accuracy: 0.627215,f1 score:0.996000\n",
            "epoch: 118, | train_G_Loss: 0.491782, train_D_loss: 1.645409, train_acc: 0.837622\n",
            "epoch: 118, | train_G_Loss: 0.491161, train_D_loss: 1.655092,test accuracy: 0.628767,f1 score:1.000000\n",
            "epoch: 119, | train_G_Loss: 0.493263, train_D_loss: 1.646485, train_acc: 0.837877\n",
            "epoch: 119, | train_G_Loss: 0.492658, train_D_loss: 1.655961,test accuracy: 0.630224,f1 score:0.996000\n",
            "epoch: 120, | train_G_Loss: 0.494730, train_D_loss: 1.647325, train_acc: 0.838154\n",
            "epoch: 120, | train_G_Loss: 0.494124, train_D_loss: 1.658300,test accuracy: 0.631773,f1 score:1.000000\n",
            "Saved checkpoint for step 5809: content/gdrive/My Drive/semiGAN_tf_ckpts4/ckpt-25\n",
            "epoch: 121, | train_G_Loss: 0.496371, train_D_loss: 1.649648, train_acc: 0.838480\n",
            "epoch: 121, | train_G_Loss: 0.495770, train_D_loss: 1.659624,test accuracy: 0.633260,f1 score:1.000000\n",
            "epoch: 122, | train_G_Loss: 0.497796, train_D_loss: 1.651197, train_acc: 0.838729\n",
            "epoch: 122, | train_G_Loss: 0.497196, train_D_loss: 1.660720,test accuracy: 0.634738,f1 score:1.000000\n",
            "epoch: 123, | train_G_Loss: 0.499171, train_D_loss: 1.652380, train_acc: 0.838975\n",
            "epoch: 123, | train_G_Loss: 0.498575, train_D_loss: 1.661647,test accuracy: 0.636158,f1 score:1.000000\n",
            "epoch: 124, | train_G_Loss: 0.500541, train_D_loss: 1.653492, train_acc: 0.839169\n",
            "epoch: 124, | train_G_Loss: 0.499945, train_D_loss: 1.663245,test accuracy: 0.637593,f1 score:1.000000\n",
            "epoch: 125, | train_G_Loss: 0.502310, train_D_loss: 1.654957, train_acc: 0.839378\n",
            "epoch: 125, | train_G_Loss: 0.501724, train_D_loss: 1.663683,test accuracy: 0.638974,f1 score:1.000000\n",
            "Saved checkpoint for step 6049: content/gdrive/My Drive/semiGAN_tf_ckpts4/ckpt-26\n",
            "epoch: 126, | train_G_Loss: 0.503593, train_D_loss: 1.655434, train_acc: 0.839615\n",
            "epoch: 126, | train_G_Loss: 0.503002, train_D_loss: 1.664969,test accuracy: 0.640388,f1 score:1.000000\n",
            "epoch: 127, | train_G_Loss: 0.504997, train_D_loss: 1.656944, train_acc: 0.839758\n",
            "epoch: 127, | train_G_Loss: 0.504407, train_D_loss: 1.665813,test accuracy: 0.641742,f1 score:0.996000\n",
            "epoch: 128, | train_G_Loss: 0.506284, train_D_loss: 1.657677, train_acc: 0.839901\n",
            "epoch: 128, | train_G_Loss: 0.505704, train_D_loss: 1.667158,test accuracy: 0.643089,f1 score:1.000000\n",
            "epoch: 129, | train_G_Loss: 0.507620, train_D_loss: 1.659137, train_acc: 0.840120\n",
            "epoch: 129, | train_G_Loss: 0.507040, train_D_loss: 1.668640,test accuracy: 0.644427,f1 score:1.000000\n",
            "epoch: 130, | train_G_Loss: 0.508961, train_D_loss: 1.660653, train_acc: 0.840321\n",
            "epoch: 130, | train_G_Loss: 0.508392, train_D_loss: 1.669909,test accuracy: 0.645731,f1 score:1.000000\n",
            "Saved checkpoint for step 6289: content/gdrive/My Drive/semiGAN_tf_ckpts4/ckpt-27\n",
            "epoch: 131, | train_G_Loss: 0.510514, train_D_loss: 1.661882, train_acc: 0.840502\n",
            "epoch: 131, | train_G_Loss: 0.509936, train_D_loss: 1.671514,test accuracy: 0.647062,f1 score:1.000000\n",
            "epoch: 132, | train_G_Loss: 0.511715, train_D_loss: 1.663572, train_acc: 0.840752\n",
            "epoch: 132, | train_G_Loss: 0.511143, train_D_loss: 1.673087,test accuracy: 0.648382,f1 score:1.000000\n",
            "epoch: 133, | train_G_Loss: 0.512962, train_D_loss: 1.665166, train_acc: 0.840979\n",
            "epoch: 133, | train_G_Loss: 0.512393, train_D_loss: 1.674602,test accuracy: 0.649649,f1 score:1.000000\n",
            "epoch: 134, | train_G_Loss: 0.514280, train_D_loss: 1.666718, train_acc: 0.841209\n",
            "epoch: 134, | train_G_Loss: 0.513717, train_D_loss: 1.676169,test accuracy: 0.650914,f1 score:1.000000\n",
            "epoch: 135, | train_G_Loss: 0.515804, train_D_loss: 1.668064, train_acc: 0.841518\n",
            "epoch: 135, | train_G_Loss: 0.515248, train_D_loss: 1.676944,test accuracy: 0.652107,f1 score:1.000000\n",
            "Saved checkpoint for step 6529: content/gdrive/My Drive/semiGAN_tf_ckpts4/ckpt-28\n",
            "epoch: 136, | train_G_Loss: 0.516914, train_D_loss: 1.669193, train_acc: 0.841746\n",
            "epoch: 136, | train_G_Loss: 0.516356, train_D_loss: 1.678831,test accuracy: 0.653325,f1 score:1.000000\n",
            "epoch: 137, | train_G_Loss: 0.518309, train_D_loss: 1.671041, train_acc: 0.841984\n",
            "epoch: 137, | train_G_Loss: 0.517749, train_D_loss: 1.680438,test accuracy: 0.654565,f1 score:0.996000\n",
            "epoch: 138, | train_G_Loss: 0.519415, train_D_loss: 1.672648, train_acc: 0.842251\n",
            "epoch: 138, | train_G_Loss: 0.518862, train_D_loss: 1.682169,test accuracy: 0.655787,f1 score:1.000000\n",
            "epoch: 139, | train_G_Loss: 0.520857, train_D_loss: 1.674031, train_acc: 0.842668\n",
            "epoch: 139, | train_G_Loss: 0.520305, train_D_loss: 1.683091,test accuracy: 0.656998,f1 score:0.996000\n",
            "epoch: 140, | train_G_Loss: 0.521962, train_D_loss: 1.675330, train_acc: 0.843007\n",
            "epoch: 140, | train_G_Loss: 0.521415, train_D_loss: 1.684531,test accuracy: 0.658182,f1 score:0.996000\n",
            "Saved checkpoint for step 6769: content/gdrive/My Drive/semiGAN_tf_ckpts4/ckpt-29\n",
            "epoch: 141, | train_G_Loss: 0.523031, train_D_loss: 1.676864, train_acc: 0.843312\n",
            "epoch: 141, | train_G_Loss: 0.522488, train_D_loss: 1.686091,test accuracy: 0.659343,f1 score:1.000000\n",
            "epoch: 142, | train_G_Loss: 0.524257, train_D_loss: 1.678321, train_acc: 0.843629\n",
            "epoch: 142, | train_G_Loss: 0.523712, train_D_loss: 1.687083,test accuracy: 0.660506,f1 score:0.996000\n",
            "epoch: 143, | train_G_Loss: 0.525284, train_D_loss: 1.679345, train_acc: 0.843986\n",
            "epoch: 143, | train_G_Loss: 0.524751, train_D_loss: 1.688128,test accuracy: 0.661678,f1 score:0.996000\n",
            "epoch: 144, | train_G_Loss: 0.526583, train_D_loss: 1.680207, train_acc: 0.844424\n",
            "epoch: 144, | train_G_Loss: 0.526046, train_D_loss: 1.688923,test accuracy: 0.662863,f1 score:0.992000\n",
            "epoch: 145, | train_G_Loss: 0.527638, train_D_loss: 1.681079, train_acc: 0.844844\n",
            "epoch: 145, | train_G_Loss: 0.527111, train_D_loss: 1.690131,test accuracy: 0.664027,f1 score:1.000000\n",
            "Saved checkpoint for step 7009: content/gdrive/My Drive/semiGAN_tf_ckpts4/ckpt-30\n",
            "epoch: 146, | train_G_Loss: 0.528893, train_D_loss: 1.682233, train_acc: 0.845280\n",
            "epoch: 146, | train_G_Loss: 0.528359, train_D_loss: 1.690367,test accuracy: 0.665203,f1 score:1.000000\n",
            "epoch: 147, | train_G_Loss: 0.530071, train_D_loss: 1.682460, train_acc: 0.845790\n",
            "epoch: 147, | train_G_Loss: 0.529539, train_D_loss: 1.691408,test accuracy: 0.666434,f1 score:1.000000\n",
            "epoch: 148, | train_G_Loss: 0.531318, train_D_loss: 1.683390, train_acc: 0.846350\n",
            "epoch: 148, | train_G_Loss: 0.530801, train_D_loss: 1.691927,test accuracy: 0.667660,f1 score:1.000000\n",
            "epoch: 149, | train_G_Loss: 0.532452, train_D_loss: 1.683913, train_acc: 0.846914\n",
            "epoch: 149, | train_G_Loss: 0.531933, train_D_loss: 1.692283,test accuracy: 0.668826,f1 score:1.000000\n",
            "epoch: 150, | train_G_Loss: 0.533673, train_D_loss: 1.684381, train_acc: 0.847492\n",
            "epoch: 150, | train_G_Loss: 0.533155, train_D_loss: 1.693359,test accuracy: 0.670087,f1 score:1.000000\n",
            "Saved checkpoint for step 7249: content/gdrive/My Drive/semiGAN_tf_ckpts4/ckpt-31\n",
            "epoch: 151, | train_G_Loss: 0.534783, train_D_loss: 1.685345, train_acc: 0.848096\n",
            "epoch: 151, | train_G_Loss: 0.534268, train_D_loss: 1.694073,test accuracy: 0.671346,f1 score:1.000000\n",
            "epoch: 152, | train_G_Loss: 0.536039, train_D_loss: 1.685944, train_acc: 0.848754\n",
            "epoch: 152, | train_G_Loss: 0.535526, train_D_loss: 1.693590,test accuracy: 0.672521,f1 score:1.000000\n",
            "epoch: 153, | train_G_Loss: 0.537160, train_D_loss: 1.685546, train_acc: 0.849369\n",
            "epoch: 153, | train_G_Loss: 0.536660, train_D_loss: 1.693535,test accuracy: 0.673920,f1 score:1.000000\n",
            "epoch: 154, | train_G_Loss: 0.538341, train_D_loss: 1.685525, train_acc: 0.850026\n",
            "epoch: 154, | train_G_Loss: 0.537838, train_D_loss: 1.693924,test accuracy: 0.675202,f1 score:0.996000\n",
            "epoch: 155, | train_G_Loss: 0.539498, train_D_loss: 1.685859, train_acc: 0.850712\n",
            "epoch: 155, | train_G_Loss: 0.539002, train_D_loss: 1.693544,test accuracy: 0.676659,f1 score:1.000000\n",
            "Saved checkpoint for step 7489: content/gdrive/My Drive/semiGAN_tf_ckpts4/ckpt-32\n",
            "epoch: 156, | train_G_Loss: 0.540703, train_D_loss: 1.685406, train_acc: 0.851449\n",
            "epoch: 156, | train_G_Loss: 0.540208, train_D_loss: 1.693401,test accuracy: 0.678072,f1 score:1.000000\n",
            "epoch: 157, | train_G_Loss: 0.541893, train_D_loss: 1.685285, train_acc: 0.852202\n",
            "epoch: 157, | train_G_Loss: 0.541402, train_D_loss: 1.693964,test accuracy: 0.679523,f1 score:0.996000\n",
            "epoch: 158, | train_G_Loss: 0.543053, train_D_loss: 1.685851, train_acc: 0.852953\n",
            "epoch: 158, | train_G_Loss: 0.542564, train_D_loss: 1.694677,test accuracy: 0.681002,f1 score:1.000000\n",
            "epoch: 159, | train_G_Loss: 0.544185, train_D_loss: 1.686645, train_acc: 0.853671\n",
            "epoch: 159, | train_G_Loss: 0.543696, train_D_loss: 1.695869,test accuracy: 0.682448,f1 score:1.000000\n",
            "epoch: 160, | train_G_Loss: 0.545344, train_D_loss: 1.687737, train_acc: 0.854453\n",
            "epoch: 160, | train_G_Loss: 0.544854, train_D_loss: 1.695822,test accuracy: 0.683998,f1 score:1.000000\n",
            "Saved checkpoint for step 7729: content/gdrive/My Drive/semiGAN_tf_ckpts4/ckpt-33\n",
            "epoch: 161, | train_G_Loss: 0.546498, train_D_loss: 1.687734, train_acc: 0.855214\n",
            "epoch: 161, | train_G_Loss: 0.546021, train_D_loss: 1.696061,test accuracy: 0.685585,f1 score:1.000000\n",
            "epoch: 162, | train_G_Loss: 0.547711, train_D_loss: 1.687926, train_acc: 0.855981\n",
            "epoch: 162, | train_G_Loss: 0.547244, train_D_loss: 1.696251,test accuracy: 0.687123,f1 score:1.000000\n",
            "epoch: 163, | train_G_Loss: 0.548899, train_D_loss: 1.688065, train_acc: 0.856756\n",
            "epoch: 163, | train_G_Loss: 0.548426, train_D_loss: 1.696042,test accuracy: 0.688644,f1 score:1.000000\n",
            "epoch: 164, | train_G_Loss: 0.550104, train_D_loss: 1.687948, train_acc: 0.857503\n",
            "epoch: 164, | train_G_Loss: 0.549628, train_D_loss: 1.696080,test accuracy: 0.690233,f1 score:0.996000\n",
            "epoch: 165, | train_G_Loss: 0.551270, train_D_loss: 1.688076, train_acc: 0.858236\n",
            "epoch: 165, | train_G_Loss: 0.550808, train_D_loss: 1.696234,test accuracy: 0.691811,f1 score:1.000000\n",
            "Saved checkpoint for step 7969: content/gdrive/My Drive/semiGAN_tf_ckpts4/ckpt-34\n",
            "epoch: 166, | train_G_Loss: 0.552462, train_D_loss: 1.688236, train_acc: 0.858974\n",
            "epoch: 166, | train_G_Loss: 0.551987, train_D_loss: 1.696289,test accuracy: 0.693460,f1 score:1.000000\n",
            "epoch: 167, | train_G_Loss: 0.553685, train_D_loss: 1.688323, train_acc: 0.859702\n",
            "epoch: 167, | train_G_Loss: 0.553217, train_D_loss: 1.696924,test accuracy: 0.695115,f1 score:1.000000\n",
            "epoch: 168, | train_G_Loss: 0.554901, train_D_loss: 1.688900, train_acc: 0.860465\n",
            "epoch: 168, | train_G_Loss: 0.554447, train_D_loss: 1.697483,test accuracy: 0.696598,f1 score:0.996000\n",
            "epoch: 169, | train_G_Loss: 0.556124, train_D_loss: 1.689472, train_acc: 0.861225\n",
            "epoch: 169, | train_G_Loss: 0.555659, train_D_loss: 1.698272,test accuracy: 0.698094,f1 score:1.000000\n",
            "epoch: 170, | train_G_Loss: 0.557380, train_D_loss: 1.690362, train_acc: 0.861968\n",
            "epoch: 170, | train_G_Loss: 0.556916, train_D_loss: 1.699145,test accuracy: 0.699729,f1 score:1.000000\n",
            "Saved checkpoint for step 8209: content/gdrive/My Drive/semiGAN_tf_ckpts4/ckpt-35\n",
            "epoch: 171, | train_G_Loss: 0.558574, train_D_loss: 1.691246, train_acc: 0.862689\n",
            "epoch: 171, | train_G_Loss: 0.558111, train_D_loss: 1.699700,test accuracy: 0.701386,f1 score:1.000000\n",
            "epoch: 172, | train_G_Loss: 0.559852, train_D_loss: 1.691786, train_acc: 0.863430\n",
            "epoch: 172, | train_G_Loss: 0.559397, train_D_loss: 1.701189,test accuracy: 0.702900,f1 score:1.000000\n",
            "epoch: 173, | train_G_Loss: 0.561118, train_D_loss: 1.693356, train_acc: 0.864140\n",
            "epoch: 173, | train_G_Loss: 0.560677, train_D_loss: 1.701705,test accuracy: 0.704423,f1 score:1.000000\n",
            "epoch: 174, | train_G_Loss: 0.562466, train_D_loss: 1.693858, train_acc: 0.864855\n",
            "epoch: 174, | train_G_Loss: 0.562021, train_D_loss: 1.702357,test accuracy: 0.706021,f1 score:1.000000\n",
            "epoch: 175, | train_G_Loss: 0.563794, train_D_loss: 1.694544, train_acc: 0.865577\n",
            "epoch: 175, | train_G_Loss: 0.563352, train_D_loss: 1.702997,test accuracy: 0.707555,f1 score:1.000000\n",
            "Saved checkpoint for step 8449: content/gdrive/My Drive/semiGAN_tf_ckpts4/ckpt-36\n",
            "epoch: 176, | train_G_Loss: 0.565143, train_D_loss: 1.695197, train_acc: 0.866282\n",
            "epoch: 176, | train_G_Loss: 0.564699, train_D_loss: 1.703776,test accuracy: 0.709085,f1 score:1.000000\n",
            "epoch: 177, | train_G_Loss: 0.566458, train_D_loss: 1.696059, train_acc: 0.866984\n",
            "epoch: 177, | train_G_Loss: 0.566022, train_D_loss: 1.704299,test accuracy: 0.710446,f1 score:1.000000\n",
            "epoch: 178, | train_G_Loss: 0.567795, train_D_loss: 1.696564, train_acc: 0.867685\n",
            "epoch: 178, | train_G_Loss: 0.567344, train_D_loss: 1.705345,test accuracy: 0.711988,f1 score:1.000000\n",
            "epoch: 179, | train_G_Loss: 0.569160, train_D_loss: 1.697639, train_acc: 0.868384\n",
            "epoch: 179, | train_G_Loss: 0.568735, train_D_loss: 1.707136,test accuracy: 0.713474,f1 score:1.000000\n",
            "epoch: 180, | train_G_Loss: 0.570591, train_D_loss: 1.699435, train_acc: 0.869085\n",
            "epoch: 180, | train_G_Loss: 0.570155, train_D_loss: 1.707708,test accuracy: 0.714850,f1 score:1.000000\n",
            "Saved checkpoint for step 8689: content/gdrive/My Drive/semiGAN_tf_ckpts4/ckpt-37\n",
            "epoch: 181, | train_G_Loss: 0.572006, train_D_loss: 1.700108, train_acc: 0.869741\n",
            "epoch: 181, | train_G_Loss: 0.571564, train_D_loss: 1.709320,test accuracy: 0.716284,f1 score:1.000000\n",
            "epoch: 182, | train_G_Loss: 0.573384, train_D_loss: 1.701779, train_acc: 0.870385\n",
            "epoch: 182, | train_G_Loss: 0.572948, train_D_loss: 1.710221,test accuracy: 0.717784,f1 score:1.000000\n",
            "epoch: 183, | train_G_Loss: 0.574873, train_D_loss: 1.702654, train_acc: 0.871046\n",
            "epoch: 183, | train_G_Loss: 0.574445, train_D_loss: 1.711349,test accuracy: 0.719197,f1 score:1.000000\n",
            "epoch: 184, | train_G_Loss: 0.576395, train_D_loss: 1.703816, train_acc: 0.871719\n",
            "epoch: 184, | train_G_Loss: 0.575973, train_D_loss: 1.712385,test accuracy: 0.720659,f1 score:1.000000\n",
            "epoch: 185, | train_G_Loss: 0.577887, train_D_loss: 1.704858, train_acc: 0.872358\n",
            "epoch: 185, | train_G_Loss: 0.577451, train_D_loss: 1.713838,test accuracy: 0.722140,f1 score:1.000000\n",
            "Saved checkpoint for step 8929: content/gdrive/My Drive/semiGAN_tf_ckpts4/ckpt-38\n",
            "epoch: 186, | train_G_Loss: 0.579376, train_D_loss: 1.706385, train_acc: 0.872975\n",
            "epoch: 186, | train_G_Loss: 0.578948, train_D_loss: 1.715639,test accuracy: 0.723467,f1 score:1.000000\n",
            "epoch: 187, | train_G_Loss: 0.580853, train_D_loss: 1.708254, train_acc: 0.873603\n",
            "epoch: 187, | train_G_Loss: 0.580439, train_D_loss: 1.716658,test accuracy: 0.724821,f1 score:1.000000\n",
            "epoch: 188, | train_G_Loss: 0.582393, train_D_loss: 1.709273, train_acc: 0.874219\n",
            "epoch: 188, | train_G_Loss: 0.581962, train_D_loss: 1.718936,test accuracy: 0.726224,f1 score:1.000000\n",
            "epoch: 189, | train_G_Loss: 0.583843, train_D_loss: 1.711546, train_acc: 0.874847\n",
            "epoch: 189, | train_G_Loss: 0.583404, train_D_loss: 1.720810,test accuracy: 0.727561,f1 score:1.000000\n",
            "epoch: 190, | train_G_Loss: 0.585379, train_D_loss: 1.713409, train_acc: 0.875486\n",
            "epoch: 190, | train_G_Loss: 0.584960, train_D_loss: 1.721828,test accuracy: 0.728938,f1 score:1.000000\n",
            "Saved checkpoint for step 9169: content/gdrive/My Drive/semiGAN_tf_ckpts4/ckpt-39\n",
            "epoch: 191, | train_G_Loss: 0.586909, train_D_loss: 1.714489, train_acc: 0.876102\n",
            "epoch: 191, | train_G_Loss: 0.586483, train_D_loss: 1.724037,test accuracy: 0.730288,f1 score:1.000000\n",
            "epoch: 192, | train_G_Loss: 0.588345, train_D_loss: 1.716733, train_acc: 0.876695\n",
            "epoch: 192, | train_G_Loss: 0.587944, train_D_loss: 1.725392,test accuracy: 0.731618,f1 score:1.000000\n",
            "epoch: 193, | train_G_Loss: 0.589930, train_D_loss: 1.718068, train_acc: 0.877306\n",
            "epoch: 193, | train_G_Loss: 0.589516, train_D_loss: 1.725759,test accuracy: 0.732915,f1 score:1.000000\n",
            "epoch: 194, | train_G_Loss: 0.591405, train_D_loss: 1.718523, train_acc: 0.877895\n",
            "epoch: 194, | train_G_Loss: 0.590990, train_D_loss: 1.727198,test accuracy: 0.734253,f1 score:1.000000\n",
            "epoch: 195, | train_G_Loss: 0.592861, train_D_loss: 1.720087, train_acc: 0.878458\n",
            "epoch: 195, | train_G_Loss: 0.592448, train_D_loss: 1.728500,test accuracy: 0.735539,f1 score:1.000000\n",
            "Saved checkpoint for step 9409: content/gdrive/My Drive/semiGAN_tf_ckpts4/ckpt-40\n",
            "epoch: 196, | train_G_Loss: 0.594335, train_D_loss: 1.721309, train_acc: 0.879031\n",
            "epoch: 196, | train_G_Loss: 0.593929, train_D_loss: 1.729899,test accuracy: 0.736813,f1 score:1.000000\n",
            "epoch: 197, | train_G_Loss: 0.595862, train_D_loss: 1.722709, train_acc: 0.879626\n",
            "epoch: 197, | train_G_Loss: 0.595443, train_D_loss: 1.731456,test accuracy: 0.738123,f1 score:1.000000\n",
            "epoch: 198, | train_G_Loss: 0.597315, train_D_loss: 1.724305, train_acc: 0.880196\n",
            "epoch: 198, | train_G_Loss: 0.596915, train_D_loss: 1.732530,test accuracy: 0.739397,f1 score:0.996000\n",
            "epoch: 199, | train_G_Loss: 0.598813, train_D_loss: 1.725392, train_acc: 0.880784\n",
            "epoch: 199, | train_G_Loss: 0.598397, train_D_loss: 1.733398,test accuracy: 0.740607,f1 score:1.000000\n",
            "epoch: 200, | train_G_Loss: 0.600239, train_D_loss: 1.726291, train_acc: 0.881359\n",
            "epoch: 200, | train_G_Loss: 0.599834, train_D_loss: 1.734762,test accuracy: 0.741853,f1 score:1.000000\n",
            "Saved checkpoint for step 9649: content/gdrive/My Drive/semiGAN_tf_ckpts4/ckpt-41\n",
            "epoch: 201, | train_G_Loss: 0.601695, train_D_loss: 1.727699, train_acc: 0.881928\n",
            "epoch: 201, | train_G_Loss: 0.601289, train_D_loss: 1.735822,test accuracy: 0.743068,f1 score:1.000000\n",
            "epoch: 202, | train_G_Loss: 0.603174, train_D_loss: 1.728784, train_acc: 0.882493\n",
            "epoch: 202, | train_G_Loss: 0.602771, train_D_loss: 1.736939,test accuracy: 0.744251,f1 score:1.000000\n",
            "epoch: 203, | train_G_Loss: 0.604656, train_D_loss: 1.729975, train_acc: 0.883023\n",
            "epoch: 203, | train_G_Loss: 0.604260, train_D_loss: 1.738348,test accuracy: 0.745450,f1 score:1.000000\n",
            "epoch: 204, | train_G_Loss: 0.606165, train_D_loss: 1.731398, train_acc: 0.883564\n",
            "epoch: 204, | train_G_Loss: 0.605757, train_D_loss: 1.739208,test accuracy: 0.746653,f1 score:0.996000\n",
            "epoch: 205, | train_G_Loss: 0.607639, train_D_loss: 1.732304, train_acc: 0.884088\n",
            "epoch: 205, | train_G_Loss: 0.607231, train_D_loss: 1.740573,test accuracy: 0.747876,f1 score:1.000000\n",
            "Saved checkpoint for step 9889: content/gdrive/My Drive/semiGAN_tf_ckpts4/ckpt-42\n",
            "epoch: 206, | train_G_Loss: 0.609098, train_D_loss: 1.733670, train_acc: 0.884619\n",
            "epoch: 206, | train_G_Loss: 0.608687, train_D_loss: 1.741574,test accuracy: 0.749027,f1 score:1.000000\n",
            "epoch: 207, | train_G_Loss: 0.610557, train_D_loss: 1.734699, train_acc: 0.885143\n",
            "epoch: 207, | train_G_Loss: 0.610159, train_D_loss: 1.742517,test accuracy: 0.750222,f1 score:1.000000\n",
            "epoch: 208, | train_G_Loss: 0.612104, train_D_loss: 1.735632, train_acc: 0.885678\n",
            "epoch: 208, | train_G_Loss: 0.611713, train_D_loss: 1.743449,test accuracy: 0.751307,f1 score:1.000000\n",
            "epoch: 209, | train_G_Loss: 0.613591, train_D_loss: 1.736751, train_acc: 0.886156\n",
            "epoch: 209, | train_G_Loss: 0.613189, train_D_loss: 1.743974,test accuracy: 0.752335,f1 score:1.000000\n",
            "epoch: 210, | train_G_Loss: 0.615055, train_D_loss: 1.737188, train_acc: 0.886668\n",
            "epoch: 210, | train_G_Loss: 0.614657, train_D_loss: 1.745228,test accuracy: 0.753361,f1 score:1.000000\n",
            "Saved checkpoint for step 10129: content/gdrive/My Drive/semiGAN_tf_ckpts4/ckpt-43\n",
            "epoch: 211, | train_G_Loss: 0.616558, train_D_loss: 1.738407, train_acc: 0.887195\n",
            "epoch: 211, | train_G_Loss: 0.616156, train_D_loss: 1.747273,test accuracy: 0.754493,f1 score:1.000000\n",
            "epoch: 212, | train_G_Loss: 0.618029, train_D_loss: 1.740543, train_acc: 0.887692\n",
            "epoch: 212, | train_G_Loss: 0.617641, train_D_loss: 1.748531,test accuracy: 0.755447,f1 score:1.000000\n",
            "epoch: 213, | train_G_Loss: 0.619511, train_D_loss: 1.741830, train_acc: 0.888182\n",
            "epoch: 213, | train_G_Loss: 0.619113, train_D_loss: 1.750342,test accuracy: 0.756539,f1 score:1.000000\n",
            "epoch: 214, | train_G_Loss: 0.621016, train_D_loss: 1.743640, train_acc: 0.888676\n",
            "epoch: 214, | train_G_Loss: 0.620632, train_D_loss: 1.751996,test accuracy: 0.757529,f1 score:0.996000\n",
            "epoch: 215, | train_G_Loss: 0.622512, train_D_loss: 1.745317, train_acc: 0.889166\n",
            "epoch: 215, | train_G_Loss: 0.622129, train_D_loss: 1.753039,test accuracy: 0.758622,f1 score:1.000000\n",
            "Saved checkpoint for step 10369: content/gdrive/My Drive/semiGAN_tf_ckpts4/ckpt-44\n",
            "epoch: 216, | train_G_Loss: 0.624044, train_D_loss: 1.746401, train_acc: 0.889648\n",
            "epoch: 216, | train_G_Loss: 0.623636, train_D_loss: 1.755006,test accuracy: 0.759707,f1 score:1.000000\n",
            "epoch: 217, | train_G_Loss: 0.625543, train_D_loss: 1.748376, train_acc: 0.890134\n",
            "epoch: 217, | train_G_Loss: 0.625155, train_D_loss: 1.755542,test accuracy: 0.760660,f1 score:1.000000\n",
            "epoch: 218, | train_G_Loss: 0.627064, train_D_loss: 1.748905, train_acc: 0.890630\n",
            "epoch: 218, | train_G_Loss: 0.626662, train_D_loss: 1.756978,test accuracy: 0.761742,f1 score:1.000000\n",
            "epoch: 219, | train_G_Loss: 0.628558, train_D_loss: 1.750401, train_acc: 0.891110\n",
            "epoch: 219, | train_G_Loss: 0.628162, train_D_loss: 1.758862,test accuracy: 0.762746,f1 score:1.000000\n",
            "epoch: 220, | train_G_Loss: 0.630098, train_D_loss: 1.752344, train_acc: 0.891561\n",
            "epoch: 220, | train_G_Loss: 0.629712, train_D_loss: 1.760442,test accuracy: 0.763804,f1 score:1.000000\n",
            "Saved checkpoint for step 10609: content/gdrive/My Drive/semiGAN_tf_ckpts4/ckpt-45\n",
            "epoch: 221, | train_G_Loss: 0.631584, train_D_loss: 1.753920, train_acc: 0.892017\n",
            "epoch: 221, | train_G_Loss: 0.631200, train_D_loss: 1.760875,test accuracy: 0.764813,f1 score:1.000000\n",
            "epoch: 222, | train_G_Loss: 0.633058, train_D_loss: 1.754389, train_acc: 0.892462\n",
            "epoch: 222, | train_G_Loss: 0.632669, train_D_loss: 1.762466,test accuracy: 0.765748,f1 score:1.000000\n",
            "epoch: 223, | train_G_Loss: 0.634558, train_D_loss: 1.755995, train_acc: 0.892915\n",
            "epoch: 223, | train_G_Loss: 0.634169, train_D_loss: 1.764315,test accuracy: 0.766779,f1 score:1.000000\n",
            "epoch: 224, | train_G_Loss: 0.636030, train_D_loss: 1.757856, train_acc: 0.893381\n",
            "epoch: 224, | train_G_Loss: 0.635636, train_D_loss: 1.765509,test accuracy: 0.767799,f1 score:1.000000\n",
            "epoch: 225, | train_G_Loss: 0.637516, train_D_loss: 1.759044, train_acc: 0.893836\n",
            "epoch: 225, | train_G_Loss: 0.637125, train_D_loss: 1.766717,test accuracy: 0.768682,f1 score:1.000000\n",
            "Saved checkpoint for step 10849: content/gdrive/My Drive/semiGAN_tf_ckpts4/ckpt-46\n",
            "epoch: 226, | train_G_Loss: 0.639030, train_D_loss: 1.760256, train_acc: 0.894300\n",
            "epoch: 226, | train_G_Loss: 0.638658, train_D_loss: 1.768230,test accuracy: 0.769638,f1 score:1.000000\n",
            "epoch: 227, | train_G_Loss: 0.640552, train_D_loss: 1.761802, train_acc: 0.894756\n",
            "epoch: 227, | train_G_Loss: 0.640166, train_D_loss: 1.769240,test accuracy: 0.770502,f1 score:1.000000\n",
            "epoch: 228, | train_G_Loss: 0.642075, train_D_loss: 1.762838, train_acc: 0.895208\n",
            "epoch: 228, | train_G_Loss: 0.641703, train_D_loss: 1.770407,test accuracy: 0.771355,f1 score:1.000000\n",
            "epoch: 229, | train_G_Loss: 0.643620, train_D_loss: 1.764064, train_acc: 0.895634\n",
            "epoch: 229, | train_G_Loss: 0.643252, train_D_loss: 1.771378,test accuracy: 0.772297,f1 score:1.000000\n",
            "epoch: 230, | train_G_Loss: 0.645134, train_D_loss: 1.765081, train_acc: 0.896046\n",
            "epoch: 230, | train_G_Loss: 0.644744, train_D_loss: 1.773426,test accuracy: 0.773187,f1 score:1.000000\n",
            "Saved checkpoint for step 11089: content/gdrive/My Drive/semiGAN_tf_ckpts4/ckpt-47\n",
            "epoch: 231, | train_G_Loss: 0.646677, train_D_loss: 1.767159, train_acc: 0.896448\n",
            "epoch: 231, | train_G_Loss: 0.646296, train_D_loss: 1.774897,test accuracy: 0.774145,f1 score:1.000000\n",
            "epoch: 232, | train_G_Loss: 0.648199, train_D_loss: 1.768602, train_acc: 0.896879\n",
            "epoch: 232, | train_G_Loss: 0.647833, train_D_loss: 1.776699,test accuracy: 0.775111,f1 score:1.000000\n",
            "epoch: 233, | train_G_Loss: 0.649720, train_D_loss: 1.770455, train_acc: 0.897293\n",
            "epoch: 233, | train_G_Loss: 0.649348, train_D_loss: 1.779077,test accuracy: 0.776068,f1 score:1.000000\n",
            "epoch: 234, | train_G_Loss: 0.651233, train_D_loss: 1.772854, train_acc: 0.897705\n",
            "epoch: 234, | train_G_Loss: 0.650849, train_D_loss: 1.780373,test accuracy: 0.776914,f1 score:1.000000\n",
            "epoch: 235, | train_G_Loss: 0.652744, train_D_loss: 1.774123, train_acc: 0.898130\n",
            "epoch: 235, | train_G_Loss: 0.652383, train_D_loss: 1.782374,test accuracy: 0.777856,f1 score:1.000000\n",
            "Saved checkpoint for step 11329: content/gdrive/My Drive/semiGAN_tf_ckpts4/ckpt-48\n",
            "epoch: 236, | train_G_Loss: 0.654259, train_D_loss: 1.776137, train_acc: 0.898551\n",
            "epoch: 236, | train_G_Loss: 0.653864, train_D_loss: 1.783930,test accuracy: 0.778786,f1 score:1.000000\n",
            "epoch: 237, | train_G_Loss: 0.655750, train_D_loss: 1.777719, train_acc: 0.898967\n",
            "epoch: 237, | train_G_Loss: 0.655377, train_D_loss: 1.785942,test accuracy: 0.779706,f1 score:1.000000\n",
            "epoch: 238, | train_G_Loss: 0.657282, train_D_loss: 1.779807, train_acc: 0.899370\n",
            "epoch: 238, | train_G_Loss: 0.656911, train_D_loss: 1.787416,test accuracy: 0.780558,f1 score:1.000000\n",
            "epoch: 239, | train_G_Loss: 0.658786, train_D_loss: 1.781254, train_acc: 0.899773\n",
            "epoch: 239, | train_G_Loss: 0.658417, train_D_loss: 1.789486,test accuracy: 0.781404,f1 score:1.000000\n",
            "epoch: 240, | train_G_Loss: 0.660323, train_D_loss: 1.783343, train_acc: 0.900173\n",
            "epoch: 240, | train_G_Loss: 0.659935, train_D_loss: 1.791382,test accuracy: 0.782294,f1 score:1.000000\n",
            "Saved checkpoint for step 11569: content/gdrive/My Drive/semiGAN_tf_ckpts4/ckpt-49\n",
            "epoch: 241, | train_G_Loss: 0.661793, train_D_loss: 1.785291, train_acc: 0.900554\n",
            "epoch: 241, | train_G_Loss: 0.661421, train_D_loss: 1.792877,test accuracy: 0.783142,f1 score:1.000000\n",
            "epoch: 242, | train_G_Loss: 0.663237, train_D_loss: 1.786767, train_acc: 0.900952\n",
            "epoch: 242, | train_G_Loss: 0.662868, train_D_loss: 1.794465,test accuracy: 0.783946,f1 score:1.000000\n",
            "epoch: 243, | train_G_Loss: 0.664734, train_D_loss: 1.788385, train_acc: 0.901336\n",
            "epoch: 243, | train_G_Loss: 0.664361, train_D_loss: 1.795828,test accuracy: 0.784773,f1 score:1.000000\n",
            "epoch: 244, | train_G_Loss: 0.666234, train_D_loss: 1.789788, train_acc: 0.901710\n",
            "epoch: 244, | train_G_Loss: 0.665867, train_D_loss: 1.798343,test accuracy: 0.785628,f1 score:1.000000\n",
            "epoch: 245, | train_G_Loss: 0.667711, train_D_loss: 1.792339, train_acc: 0.902082\n",
            "epoch: 245, | train_G_Loss: 0.667333, train_D_loss: 1.799600,test accuracy: 0.786457,f1 score:1.000000\n",
            "Saved checkpoint for step 11809: content/gdrive/My Drive/semiGAN_tf_ckpts4/ckpt-50\n",
            "epoch: 246, | train_G_Loss: 0.669153, train_D_loss: 1.793568, train_acc: 0.902461\n",
            "epoch: 246, | train_G_Loss: 0.668776, train_D_loss: 1.800952,test accuracy: 0.787299,f1 score:1.000000\n",
            "epoch: 247, | train_G_Loss: 0.670624, train_D_loss: 1.794967, train_acc: 0.902832\n",
            "epoch: 247, | train_G_Loss: 0.670257, train_D_loss: 1.802985,test accuracy: 0.788137,f1 score:1.000000\n",
            "epoch: 248, | train_G_Loss: 0.672053, train_D_loss: 1.797075, train_acc: 0.903172\n",
            "epoch: 248, | train_G_Loss: 0.671681, train_D_loss: 1.804230,test accuracy: 0.788960,f1 score:1.000000\n",
            "epoch: 249, | train_G_Loss: 0.673500, train_D_loss: 1.798247, train_acc: 0.903553\n",
            "epoch: 249, | train_G_Loss: 0.673140, train_D_loss: 1.806344,test accuracy: 0.789801,f1 score:1.000000\n",
            "epoch: 250, | train_G_Loss: 0.674951, train_D_loss: 1.800392, train_acc: 0.903917\n",
            "epoch: 250, | train_G_Loss: 0.674583, train_D_loss: 1.807933,test accuracy: 0.790590,f1 score:1.000000\n",
            "Saved checkpoint for step 12049: content/gdrive/My Drive/semiGAN_tf_ckpts4/ckpt-51\n",
            "epoch: 251, | train_G_Loss: 0.676425, train_D_loss: 1.801978, train_acc: 0.904294\n",
            "epoch: 251, | train_G_Loss: 0.676052, train_D_loss: 1.810029,test accuracy: 0.791418,f1 score:1.000000\n",
            "epoch: 252, | train_G_Loss: 0.677852, train_D_loss: 1.804102, train_acc: 0.904655\n",
            "epoch: 252, | train_G_Loss: 0.677485, train_D_loss: 1.812177,test accuracy: 0.792240,f1 score:1.000000\n",
            "epoch: 253, | train_G_Loss: 0.679312, train_D_loss: 1.806281, train_acc: 0.905008\n",
            "epoch: 253, | train_G_Loss: 0.678938, train_D_loss: 1.814424,test accuracy: 0.793029,f1 score:1.000000\n",
            "epoch: 254, | train_G_Loss: 0.680722, train_D_loss: 1.808517, train_acc: 0.905373\n",
            "epoch: 254, | train_G_Loss: 0.680360, train_D_loss: 1.816263,test accuracy: 0.793839,f1 score:1.000000\n",
            "epoch: 255, | train_G_Loss: 0.682171, train_D_loss: 1.810377, train_acc: 0.905728\n",
            "epoch: 255, | train_G_Loss: 0.681803, train_D_loss: 1.817258,test accuracy: 0.794547,f1 score:1.000000\n",
            "Saved checkpoint for step 12289: content/gdrive/My Drive/semiGAN_tf_ckpts4/ckpt-52\n",
            "epoch: 256, | train_G_Loss: 0.683542, train_D_loss: 1.811429, train_acc: 0.906088\n",
            "epoch: 256, | train_G_Loss: 0.683170, train_D_loss: 1.817744,test accuracy: 0.795242,f1 score:1.000000\n",
            "epoch: 257, | train_G_Loss: 0.684867, train_D_loss: 1.812037, train_acc: 0.906407\n",
            "epoch: 257, | train_G_Loss: 0.684502, train_D_loss: 1.819516,test accuracy: 0.795987,f1 score:1.000000\n",
            "epoch: 258, | train_G_Loss: 0.686252, train_D_loss: 1.813680, train_acc: 0.906762\n",
            "epoch: 258, | train_G_Loss: 0.685895, train_D_loss: 1.821166,test accuracy: 0.796753,f1 score:1.000000\n",
            "epoch: 259, | train_G_Loss: 0.687627, train_D_loss: 1.815346, train_acc: 0.907116\n",
            "epoch: 259, | train_G_Loss: 0.687258, train_D_loss: 1.822820,test accuracy: 0.797458,f1 score:0.996000\n",
            "epoch: 260, | train_G_Loss: 0.688981, train_D_loss: 1.817036, train_acc: 0.907454\n",
            "epoch: 260, | train_G_Loss: 0.688641, train_D_loss: 1.824678,test accuracy: 0.798152,f1 score:1.000000\n",
            "Saved checkpoint for step 12529: content/gdrive/My Drive/semiGAN_tf_ckpts4/ckpt-53\n",
            "epoch: 261, | train_G_Loss: 0.690336, train_D_loss: 1.818911, train_acc: 0.907793\n",
            "epoch: 261, | train_G_Loss: 0.689973, train_D_loss: 1.826325,test accuracy: 0.798904,f1 score:1.000000\n",
            "epoch: 262, | train_G_Loss: 0.691707, train_D_loss: 1.820553, train_acc: 0.908141\n",
            "epoch: 262, | train_G_Loss: 0.691346, train_D_loss: 1.828250,test accuracy: 0.799555,f1 score:1.000000\n",
            "epoch: 263, | train_G_Loss: 0.693116, train_D_loss: 1.822500, train_acc: 0.908483\n",
            "epoch: 263, | train_G_Loss: 0.692755, train_D_loss: 1.830208,test accuracy: 0.800307,f1 score:1.000000\n",
            "epoch: 264, | train_G_Loss: 0.694496, train_D_loss: 1.824484, train_acc: 0.908812\n",
            "epoch: 264, | train_G_Loss: 0.694121, train_D_loss: 1.831804,test accuracy: 0.801053,f1 score:1.000000\n",
            "epoch: 265, | train_G_Loss: 0.695919, train_D_loss: 1.826101, train_acc: 0.909138\n",
            "epoch: 265, | train_G_Loss: 0.695568, train_D_loss: 1.833716,test accuracy: 0.801791,f1 score:1.000000\n",
            "Saved checkpoint for step 12769: content/gdrive/My Drive/semiGAN_tf_ckpts4/ckpt-54\n",
            "epoch: 266, | train_G_Loss: 0.697307, train_D_loss: 1.828020, train_acc: 0.909466\n",
            "epoch: 266, | train_G_Loss: 0.696946, train_D_loss: 1.835531,test accuracy: 0.802471,f1 score:1.000000\n",
            "epoch: 267, | train_G_Loss: 0.698701, train_D_loss: 1.829841, train_acc: 0.909799\n",
            "epoch: 267, | train_G_Loss: 0.698340, train_D_loss: 1.837189,test accuracy: 0.803127,f1 score:1.000000\n",
            "epoch: 268, | train_G_Loss: 0.699956, train_D_loss: 1.831707, train_acc: 0.910103\n",
            "epoch: 268, | train_G_Loss: 0.699602, train_D_loss: 1.838026,test accuracy: 0.803827,f1 score:1.000000\n",
            "epoch: 269, | train_G_Loss: 0.701118, train_D_loss: 1.832368, train_acc: 0.910434\n",
            "epoch: 269, | train_G_Loss: 0.700763, train_D_loss: 1.838730,test accuracy: 0.804515,f1 score:1.000000\n",
            "epoch: 270, | train_G_Loss: 0.702226, train_D_loss: 1.833098, train_acc: 0.910760\n",
            "epoch: 270, | train_G_Loss: 0.701869, train_D_loss: 1.839736,test accuracy: 0.805226,f1 score:1.000000\n",
            "Saved checkpoint for step 13009: content/gdrive/My Drive/semiGAN_tf_ckpts4/ckpt-55\n",
            "epoch: 271, | train_G_Loss: 0.703274, train_D_loss: 1.834145, train_acc: 0.911081\n",
            "epoch: 271, | train_G_Loss: 0.702915, train_D_loss: 1.841116,test accuracy: 0.805784,f1 score:1.000000\n",
            "epoch: 272, | train_G_Loss: 0.704359, train_D_loss: 1.835563, train_acc: 0.911398\n",
            "epoch: 272, | train_G_Loss: 0.704006, train_D_loss: 1.843391,test accuracy: 0.806492,f1 score:1.000000\n",
            "epoch: 273, | train_G_Loss: 0.705364, train_D_loss: 1.838027, train_acc: 0.911686\n",
            "epoch: 273, | train_G_Loss: 0.705025, train_D_loss: 1.844254,test accuracy: 0.807174,f1 score:1.000000\n",
            "epoch: 274, | train_G_Loss: 0.706501, train_D_loss: 1.838723, train_acc: 0.911993\n",
            "epoch: 274, | train_G_Loss: 0.706152, train_D_loss: 1.845421,test accuracy: 0.807799,f1 score:1.000000\n",
            "epoch: 275, | train_G_Loss: 0.707499, train_D_loss: 1.839916, train_acc: 0.912302\n",
            "epoch: 275, | train_G_Loss: 0.707145, train_D_loss: 1.847103,test accuracy: 0.808476,f1 score:1.000000\n",
            "Saved checkpoint for step 13249: content/gdrive/My Drive/semiGAN_tf_ckpts4/ckpt-56\n",
            "epoch: 276, | train_G_Loss: 0.708447, train_D_loss: 1.841765, train_acc: 0.912571\n",
            "epoch: 276, | train_G_Loss: 0.708088, train_D_loss: 1.849192,test accuracy: 0.809163,f1 score:1.000000\n",
            "epoch: 277, | train_G_Loss: 0.709385, train_D_loss: 1.843817, train_acc: 0.912866\n",
            "epoch: 277, | train_G_Loss: 0.709039, train_D_loss: 1.849722,test accuracy: 0.809699,f1 score:1.000000\n",
            "epoch: 278, | train_G_Loss: 0.710372, train_D_loss: 1.844278, train_acc: 0.913170\n",
            "epoch: 278, | train_G_Loss: 0.710028, train_D_loss: 1.850172,test accuracy: 0.810292,f1 score:1.000000\n",
            "epoch: 279, | train_G_Loss: 0.711309, train_D_loss: 1.844739, train_acc: 0.913474\n",
            "epoch: 279, | train_G_Loss: 0.710970, train_D_loss: 1.850689,test accuracy: 0.810920,f1 score:1.000000\n",
            "epoch: 280, | train_G_Loss: 0.712250, train_D_loss: 1.845390, train_acc: 0.913764\n",
            "epoch: 280, | train_G_Loss: 0.711907, train_D_loss: 1.850864,test accuracy: 0.811445,f1 score:1.000000\n",
            "Saved checkpoint for step 13489: content/gdrive/My Drive/semiGAN_tf_ckpts4/ckpt-57\n",
            "epoch: 281, | train_G_Loss: 0.713184, train_D_loss: 1.845530, train_acc: 0.914055\n",
            "epoch: 281, | train_G_Loss: 0.712840, train_D_loss: 1.851443,test accuracy: 0.812046,f1 score:1.000000\n",
            "epoch: 282, | train_G_Loss: 0.714022, train_D_loss: 1.846235, train_acc: 0.914323\n",
            "epoch: 282, | train_G_Loss: 0.713668, train_D_loss: 1.851632,test accuracy: 0.812609,f1 score:0.992000\n",
            "epoch: 283, | train_G_Loss: 0.714985, train_D_loss: 1.846382, train_acc: 0.914596\n",
            "epoch: 283, | train_G_Loss: 0.714638, train_D_loss: 1.851659,test accuracy: 0.813099,f1 score:0.988000\n",
            "epoch: 284, | train_G_Loss: 0.715934, train_D_loss: 1.846441, train_acc: 0.914864\n",
            "epoch: 284, | train_G_Loss: 0.715598, train_D_loss: 1.853029,test accuracy: 0.813679,f1 score:1.000000\n",
            "epoch: 285, | train_G_Loss: 0.716903, train_D_loss: 1.848102, train_acc: 0.915095\n",
            "epoch: 285, | train_G_Loss: 0.716578, train_D_loss: 1.854363,test accuracy: 0.814223,f1 score:0.992000\n",
            "Saved checkpoint for step 13729: content/gdrive/My Drive/semiGAN_tf_ckpts4/ckpt-58\n",
            "epoch: 286, | train_G_Loss: 0.717923, train_D_loss: 1.849198, train_acc: 0.915370\n",
            "epoch: 286, | train_G_Loss: 0.717584, train_D_loss: 1.855521,test accuracy: 0.814864,f1 score:1.000000\n",
            "epoch: 287, | train_G_Loss: 0.718838, train_D_loss: 1.850426, train_acc: 0.915612\n",
            "epoch: 287, | train_G_Loss: 0.718498, train_D_loss: 1.856610,test accuracy: 0.815500,f1 score:1.000000\n",
            "epoch: 288, | train_G_Loss: 0.719959, train_D_loss: 1.851461, train_acc: 0.915869\n",
            "epoch: 288, | train_G_Loss: 0.719624, train_D_loss: 1.857860,test accuracy: 0.816093,f1 score:1.000000\n",
            "epoch: 289, | train_G_Loss: 0.720977, train_D_loss: 1.852686, train_acc: 0.916135\n",
            "epoch: 289, | train_G_Loss: 0.720645, train_D_loss: 1.858923,test accuracy: 0.816693,f1 score:1.000000\n",
            "epoch: 290, | train_G_Loss: 0.721905, train_D_loss: 1.853767, train_acc: 0.916394\n",
            "epoch: 290, | train_G_Loss: 0.721572, train_D_loss: 1.860398,test accuracy: 0.817309,f1 score:1.000000\n",
            "Saved checkpoint for step 13969: content/gdrive/My Drive/semiGAN_tf_ckpts4/ckpt-59\n",
            "epoch: 291, | train_G_Loss: 0.722913, train_D_loss: 1.855310, train_acc: 0.916653\n",
            "epoch: 291, | train_G_Loss: 0.722590, train_D_loss: 1.861316,test accuracy: 0.817864,f1 score:1.000000\n",
            "epoch: 292, | train_G_Loss: 0.723891, train_D_loss: 1.856150, train_acc: 0.916920\n",
            "epoch: 292, | train_G_Loss: 0.723563, train_D_loss: 1.862519,test accuracy: 0.818462,f1 score:1.000000\n",
            "epoch: 293, | train_G_Loss: 0.724869, train_D_loss: 1.857404, train_acc: 0.917176\n",
            "epoch: 293, | train_G_Loss: 0.724529, train_D_loss: 1.862989,test accuracy: 0.818988,f1 score:1.000000\n",
            "epoch: 294, | train_G_Loss: 0.725858, train_D_loss: 1.857897, train_acc: 0.917429\n",
            "epoch: 294, | train_G_Loss: 0.725523, train_D_loss: 1.863614,test accuracy: 0.819527,f1 score:1.000000\n",
            "epoch: 295, | train_G_Loss: 0.726801, train_D_loss: 1.858645, train_acc: 0.917666\n",
            "epoch: 295, | train_G_Loss: 0.726462, train_D_loss: 1.863959,test accuracy: 0.819892,f1 score:1.000000\n",
            "Saved checkpoint for step 14209: content/gdrive/My Drive/semiGAN_tf_ckpts4/ckpt-60\n",
            "epoch: 296, | train_G_Loss: 0.727679, train_D_loss: 1.858868, train_acc: 0.917922\n",
            "epoch: 296, | train_G_Loss: 0.727347, train_D_loss: 1.865561,test accuracy: 0.820475,f1 score:1.000000\n",
            "epoch: 297, | train_G_Loss: 0.728561, train_D_loss: 1.860495, train_acc: 0.918178\n",
            "epoch: 297, | train_G_Loss: 0.728225, train_D_loss: 1.866830,test accuracy: 0.821044,f1 score:1.000000\n",
            "epoch: 298, | train_G_Loss: 0.729525, train_D_loss: 1.861802, train_acc: 0.918432\n",
            "epoch: 298, | train_G_Loss: 0.729192, train_D_loss: 1.867570,test accuracy: 0.821585,f1 score:1.000000\n",
            "epoch: 299, | train_G_Loss: 0.730446, train_D_loss: 1.862589, train_acc: 0.918677\n",
            "epoch: 299, | train_G_Loss: 0.730111, train_D_loss: 1.869063,test accuracy: 0.822113,f1 score:1.000000\n",
            "epoch: 300, | train_G_Loss: 0.731353, train_D_loss: 1.863980, train_acc: 0.918935\n",
            "epoch: 300, | train_G_Loss: 0.731026, train_D_loss: 1.869465,test accuracy: 0.822594,f1 score:1.000000\n",
            "Saved checkpoint for step 14449: content/gdrive/My Drive/semiGAN_tf_ckpts4/ckpt-61\n",
            "epoch: 301, | train_G_Loss: 0.732294, train_D_loss: 1.864397, train_acc: 0.919182\n",
            "epoch: 301, | train_G_Loss: 0.731973, train_D_loss: 1.870766,test accuracy: 0.823082,f1 score:1.000000\n",
            "epoch: 302, | train_G_Loss: 0.733183, train_D_loss: 1.865865, train_acc: 0.919412\n",
            "epoch: 302, | train_G_Loss: 0.732856, train_D_loss: 1.872210,test accuracy: 0.823662,f1 score:0.996000\n",
            "epoch: 303, | train_G_Loss: 0.734102, train_D_loss: 1.867171, train_acc: 0.919660\n",
            "epoch: 303, | train_G_Loss: 0.733773, train_D_loss: 1.873018,test accuracy: 0.824217,f1 score:1.000000\n",
            "epoch: 304, | train_G_Loss: 0.734980, train_D_loss: 1.868216, train_acc: 0.919884\n",
            "epoch: 304, | train_G_Loss: 0.734642, train_D_loss: 1.874070,test accuracy: 0.824767,f1 score:1.000000\n",
            "epoch: 305, | train_G_Loss: 0.735808, train_D_loss: 1.869137, train_acc: 0.920125\n",
            "epoch: 305, | train_G_Loss: 0.735490, train_D_loss: 1.875119,test accuracy: 0.825328,f1 score:1.000000\n",
            "Saved checkpoint for step 14689: content/gdrive/My Drive/semiGAN_tf_ckpts4/ckpt-62\n",
            "epoch: 306, | train_G_Loss: 0.736620, train_D_loss: 1.870142, train_acc: 0.920372\n",
            "epoch: 306, | train_G_Loss: 0.736298, train_D_loss: 1.875619,test accuracy: 0.825858,f1 score:1.000000\n",
            "epoch: 307, | train_G_Loss: 0.737508, train_D_loss: 1.870673, train_acc: 0.920613\n",
            "epoch: 307, | train_G_Loss: 0.737184, train_D_loss: 1.876924,test accuracy: 0.826408,f1 score:1.000000\n",
            "epoch: 308, | train_G_Loss: 0.738376, train_D_loss: 1.872000, train_acc: 0.920851\n",
            "epoch: 308, | train_G_Loss: 0.738062, train_D_loss: 1.878316,test accuracy: 0.826961,f1 score:1.000000\n",
            "epoch: 309, | train_G_Loss: 0.739266, train_D_loss: 1.873433, train_acc: 0.921088\n",
            "epoch: 309, | train_G_Loss: 0.738954, train_D_loss: 1.879135,test accuracy: 0.827491,f1 score:1.000000\n",
            "epoch: 310, | train_G_Loss: 0.740134, train_D_loss: 1.874269, train_acc: 0.921312\n",
            "epoch: 310, | train_G_Loss: 0.739812, train_D_loss: 1.881036,test accuracy: 0.828028,f1 score:1.000000\n",
            "Saved checkpoint for step 14929: content/gdrive/My Drive/semiGAN_tf_ckpts4/ckpt-63\n",
            "epoch: 311, | train_G_Loss: 0.741002, train_D_loss: 1.876099, train_acc: 0.921555\n",
            "epoch: 311, | train_G_Loss: 0.740675, train_D_loss: 1.881292,test accuracy: 0.828482,f1 score:0.996000\n",
            "epoch: 312, | train_G_Loss: 0.741844, train_D_loss: 1.876388, train_acc: 0.921793\n",
            "epoch: 312, | train_G_Loss: 0.741528, train_D_loss: 1.882051,test accuracy: 0.828955,f1 score:1.000000\n",
            "epoch: 313, | train_G_Loss: 0.742669, train_D_loss: 1.877239, train_acc: 0.922016\n",
            "epoch: 313, | train_G_Loss: 0.742338, train_D_loss: 1.882956,test accuracy: 0.829486,f1 score:1.000000\n",
            "epoch: 314, | train_G_Loss: 0.743531, train_D_loss: 1.878168, train_acc: 0.922237\n",
            "epoch: 314, | train_G_Loss: 0.743217, train_D_loss: 1.884707,test accuracy: 0.830008,f1 score:1.000000\n",
            "epoch: 315, | train_G_Loss: 0.744351, train_D_loss: 1.880042, train_acc: 0.922444\n",
            "epoch: 315, | train_G_Loss: 0.744027, train_D_loss: 1.885755,test accuracy: 0.830494,f1 score:1.000000\n",
            "Saved checkpoint for step 15169: content/gdrive/My Drive/semiGAN_tf_ckpts4/ckpt-64\n",
            "epoch: 316, | train_G_Loss: 0.745160, train_D_loss: 1.880927, train_acc: 0.922669\n",
            "epoch: 316, | train_G_Loss: 0.744839, train_D_loss: 1.886497,test accuracy: 0.830955,f1 score:1.000000\n",
            "epoch: 317, | train_G_Loss: 0.745967, train_D_loss: 1.881755, train_acc: 0.922890\n",
            "epoch: 317, | train_G_Loss: 0.745655, train_D_loss: 1.886944,test accuracy: 0.831378,f1 score:1.000000\n",
            "epoch: 318, | train_G_Loss: 0.746816, train_D_loss: 1.882195, train_acc: 0.923101\n",
            "epoch: 318, | train_G_Loss: 0.746496, train_D_loss: 1.888297,test accuracy: 0.831884,f1 score:1.000000\n",
            "epoch: 319, | train_G_Loss: 0.747585, train_D_loss: 1.883712, train_acc: 0.923293\n",
            "epoch: 319, | train_G_Loss: 0.747275, train_D_loss: 1.889273,test accuracy: 0.832362,f1 score:1.000000\n",
            "epoch: 320, | train_G_Loss: 0.748464, train_D_loss: 1.884562, train_acc: 0.923506\n",
            "epoch: 320, | train_G_Loss: 0.748139, train_D_loss: 1.889876,test accuracy: 0.832837,f1 score:1.000000\n",
            "Saved checkpoint for step 15409: content/gdrive/My Drive/semiGAN_tf_ckpts4/ckpt-65\n",
            "epoch: 321, | train_G_Loss: 0.749299, train_D_loss: 1.885061, train_acc: 0.923732\n",
            "epoch: 321, | train_G_Loss: 0.748985, train_D_loss: 1.890505,test accuracy: 0.833316,f1 score:1.000000\n",
            "epoch: 322, | train_G_Loss: 0.750194, train_D_loss: 1.885694, train_acc: 0.923952\n",
            "epoch: 322, | train_G_Loss: 0.749878, train_D_loss: 1.891276,test accuracy: 0.833818,f1 score:1.000000\n",
            "epoch: 323, | train_G_Loss: 0.751080, train_D_loss: 1.886459, train_acc: 0.924182\n",
            "epoch: 323, | train_G_Loss: 0.750772, train_D_loss: 1.892053,test accuracy: 0.834267,f1 score:1.000000\n",
            "epoch: 324, | train_G_Loss: 0.751959, train_D_loss: 1.887269, train_acc: 0.924408\n",
            "epoch: 324, | train_G_Loss: 0.751652, train_D_loss: 1.892914,test accuracy: 0.834747,f1 score:1.000000\n",
            "epoch: 325, | train_G_Loss: 0.752814, train_D_loss: 1.888206, train_acc: 0.924623\n",
            "epoch: 325, | train_G_Loss: 0.752493, train_D_loss: 1.894928,test accuracy: 0.835251,f1 score:1.000000\n",
            "Saved checkpoint for step 15649: content/gdrive/My Drive/semiGAN_tf_ckpts4/ckpt-66\n",
            "epoch: 326, | train_G_Loss: 0.753590, train_D_loss: 1.890529, train_acc: 0.924786\n",
            "epoch: 326, | train_G_Loss: 0.753281, train_D_loss: 1.895939,test accuracy: 0.835691,f1 score:1.000000\n",
            "epoch: 327, | train_G_Loss: 0.754485, train_D_loss: 1.891213, train_acc: 0.924997\n",
            "epoch: 327, | train_G_Loss: 0.754188, train_D_loss: 1.896594,test accuracy: 0.836170,f1 score:1.000000\n",
            "epoch: 328, | train_G_Loss: 0.755312, train_D_loss: 1.891918, train_acc: 0.925204\n",
            "epoch: 328, | train_G_Loss: 0.754994, train_D_loss: 1.897648,test accuracy: 0.836596,f1 score:1.000000\n",
            "epoch: 329, | train_G_Loss: 0.756143, train_D_loss: 1.892907, train_acc: 0.925425\n",
            "epoch: 329, | train_G_Loss: 0.755828, train_D_loss: 1.898330,test accuracy: 0.837046,f1 score:1.000000\n",
            "epoch: 330, | train_G_Loss: 0.757036, train_D_loss: 1.893625, train_acc: 0.925638\n",
            "epoch: 330, | train_G_Loss: 0.756741, train_D_loss: 1.898787,test accuracy: 0.837443,f1 score:0.996000\n",
            "Saved checkpoint for step 15889: content/gdrive/My Drive/semiGAN_tf_ckpts4/ckpt-67\n",
            "epoch: 331, | train_G_Loss: 0.757857, train_D_loss: 1.894109, train_acc: 0.925852\n",
            "epoch: 331, | train_G_Loss: 0.757542, train_D_loss: 1.899086,test accuracy: 0.837862,f1 score:1.000000\n",
            "epoch: 332, | train_G_Loss: 0.758701, train_D_loss: 1.894425, train_acc: 0.926063\n",
            "epoch: 332, | train_G_Loss: 0.758386, train_D_loss: 1.899990,test accuracy: 0.838322,f1 score:1.000000\n",
            "epoch: 333, | train_G_Loss: 0.759542, train_D_loss: 1.895307, train_acc: 0.926273\n",
            "epoch: 333, | train_G_Loss: 0.759226, train_D_loss: 1.900948,test accuracy: 0.838768,f1 score:1.000000\n",
            "epoch: 334, | train_G_Loss: 0.760413, train_D_loss: 1.896277, train_acc: 0.926486\n",
            "epoch: 334, | train_G_Loss: 0.760110, train_D_loss: 1.902390,test accuracy: 0.839241,f1 score:1.000000\n",
            "epoch: 335, | train_G_Loss: 0.761297, train_D_loss: 1.897793, train_acc: 0.926691\n",
            "epoch: 335, | train_G_Loss: 0.760985, train_D_loss: 1.903572,test accuracy: 0.839708,f1 score:1.000000\n",
            "Saved checkpoint for step 16129: content/gdrive/My Drive/semiGAN_tf_ckpts4/ckpt-68\n",
            "epoch: 336, | train_G_Loss: 0.762157, train_D_loss: 1.898982, train_acc: 0.926893\n",
            "epoch: 336, | train_G_Loss: 0.761857, train_D_loss: 1.904456,test accuracy: 0.840083,f1 score:1.000000\n",
            "epoch: 337, | train_G_Loss: 0.763043, train_D_loss: 1.899933, train_acc: 0.927083\n",
            "epoch: 337, | train_G_Loss: 0.762743, train_D_loss: 1.905191,test accuracy: 0.840501,f1 score:1.000000\n",
            "epoch: 338, | train_G_Loss: 0.763902, train_D_loss: 1.900610, train_acc: 0.927279\n",
            "epoch: 338, | train_G_Loss: 0.763605, train_D_loss: 1.906147,test accuracy: 0.840939,f1 score:1.000000\n",
            "epoch: 339, | train_G_Loss: 0.764732, train_D_loss: 1.901628, train_acc: 0.927476\n",
            "epoch: 339, | train_G_Loss: 0.764417, train_D_loss: 1.907113,test accuracy: 0.841348,f1 score:1.000000\n",
            "epoch: 340, | train_G_Loss: 0.765550, train_D_loss: 1.902560, train_acc: 0.927669\n",
            "epoch: 340, | train_G_Loss: 0.765252, train_D_loss: 1.908808,test accuracy: 0.841806,f1 score:1.000000\n",
            "Saved checkpoint for step 16369: content/gdrive/My Drive/semiGAN_tf_ckpts4/ckpt-69\n",
            "epoch: 341, | train_G_Loss: 0.766355, train_D_loss: 1.904299, train_acc: 0.927861\n",
            "epoch: 341, | train_G_Loss: 0.766042, train_D_loss: 1.909799,test accuracy: 0.842216,f1 score:1.000000\n",
            "epoch: 342, | train_G_Loss: 0.767191, train_D_loss: 1.905220, train_acc: 0.928064\n",
            "epoch: 342, | train_G_Loss: 0.766886, train_D_loss: 1.911082,test accuracy: 0.842669,f1 score:1.000000\n",
            "epoch: 343, | train_G_Loss: 0.768077, train_D_loss: 1.906540, train_acc: 0.928260\n",
            "epoch: 343, | train_G_Loss: 0.767783, train_D_loss: 1.911840,test accuracy: 0.843077,f1 score:1.000000\n",
            "epoch: 344, | train_G_Loss: 0.768957, train_D_loss: 1.907282, train_acc: 0.928455\n",
            "epoch: 344, | train_G_Loss: 0.768646, train_D_loss: 1.912978,test accuracy: 0.843480,f1 score:1.000000\n",
            "epoch: 345, | train_G_Loss: 0.769815, train_D_loss: 1.908422, train_acc: 0.928652\n",
            "epoch: 345, | train_G_Loss: 0.769508, train_D_loss: 1.914337,test accuracy: 0.843926,f1 score:1.000000\n",
            "Saved checkpoint for step 16609: content/gdrive/My Drive/semiGAN_tf_ckpts4/ckpt-70\n",
            "epoch: 346, | train_G_Loss: 0.770647, train_D_loss: 1.909892, train_acc: 0.928824\n",
            "epoch: 346, | train_G_Loss: 0.770335, train_D_loss: 1.916337,test accuracy: 0.844333,f1 score:1.000000\n",
            "epoch: 347, | train_G_Loss: 0.771487, train_D_loss: 1.911888, train_acc: 0.929012\n",
            "epoch: 347, | train_G_Loss: 0.771176, train_D_loss: 1.917344,test accuracy: 0.844764,f1 score:1.000000\n",
            "epoch: 348, | train_G_Loss: 0.772272, train_D_loss: 1.912816, train_acc: 0.929210\n",
            "epoch: 348, | train_G_Loss: 0.771965, train_D_loss: 1.918080,test accuracy: 0.845158,f1 score:1.000000\n",
            "epoch: 349, | train_G_Loss: 0.773086, train_D_loss: 1.913554, train_acc: 0.929406\n",
            "epoch: 349, | train_G_Loss: 0.772792, train_D_loss: 1.919034,test accuracy: 0.845559,f1 score:1.000000\n",
            "epoch: 350, | train_G_Loss: 0.773912, train_D_loss: 1.914534, train_acc: 0.929600\n",
            "epoch: 350, | train_G_Loss: 0.773620, train_D_loss: 1.919888,test accuracy: 0.845915,f1 score:1.000000\n",
            "Saved checkpoint for step 16849: content/gdrive/My Drive/semiGAN_tf_ckpts4/ckpt-71\n",
            "epoch: 351, | train_G_Loss: 0.774749, train_D_loss: 1.915434, train_acc: 0.929783\n",
            "epoch: 351, | train_G_Loss: 0.774452, train_D_loss: 1.920524,test accuracy: 0.846239,f1 score:1.000000\n",
            "epoch: 352, | train_G_Loss: 0.775636, train_D_loss: 1.916187, train_acc: 0.929958\n",
            "epoch: 352, | train_G_Loss: 0.775338, train_D_loss: 1.921851,test accuracy: 0.846660,f1 score:1.000000\n",
            "epoch: 353, | train_G_Loss: 0.776427, train_D_loss: 1.917437, train_acc: 0.930144\n",
            "epoch: 353, | train_G_Loss: 0.776131, train_D_loss: 1.922490,test accuracy: 0.846952,f1 score:1.000000\n",
            "epoch: 354, | train_G_Loss: 0.777146, train_D_loss: 1.918465, train_acc: 0.930267\n",
            "epoch: 354, | train_G_Loss: 0.776845, train_D_loss: 1.924039,test accuracy: 0.847351,f1 score:1.000000\n",
            "epoch: 355, | train_G_Loss: 0.777867, train_D_loss: 1.919609, train_acc: 0.930454\n",
            "epoch: 355, | train_G_Loss: 0.777578, train_D_loss: 1.924920,test accuracy: 0.847747,f1 score:1.000000\n",
            "Saved checkpoint for step 17089: content/gdrive/My Drive/semiGAN_tf_ckpts4/ckpt-72\n",
            "epoch: 356, | train_G_Loss: 0.778638, train_D_loss: 1.920486, train_acc: 0.930640\n",
            "epoch: 356, | train_G_Loss: 0.778328, train_D_loss: 1.925596,test accuracy: 0.848122,f1 score:1.000000\n",
            "epoch: 357, | train_G_Loss: 0.779401, train_D_loss: 1.921164, train_acc: 0.930826\n",
            "epoch: 357, | train_G_Loss: 0.779103, train_D_loss: 1.926410,test accuracy: 0.848531,f1 score:1.000000\n",
            "epoch: 358, | train_G_Loss: 0.780220, train_D_loss: 1.921980, train_acc: 0.931015\n",
            "epoch: 358, | train_G_Loss: 0.779924, train_D_loss: 1.927737,test accuracy: 0.848937,f1 score:1.000000\n",
            "epoch: 359, | train_G_Loss: 0.780978, train_D_loss: 1.923388, train_acc: 0.931183\n",
            "epoch: 359, | train_G_Loss: 0.780677, train_D_loss: 1.928880,test accuracy: 0.849306,f1 score:1.000000\n",
            "epoch: 360, | train_G_Loss: 0.781785, train_D_loss: 1.924480, train_acc: 0.931367\n",
            "epoch: 360, | train_G_Loss: 0.781482, train_D_loss: 1.929775,test accuracy: 0.849692,f1 score:1.000000\n",
            "Saved checkpoint for step 17329: content/gdrive/My Drive/semiGAN_tf_ckpts4/ckpt-73\n",
            "epoch: 361, | train_G_Loss: 0.782560, train_D_loss: 1.925413, train_acc: 0.931545\n",
            "epoch: 361, | train_G_Loss: 0.782255, train_D_loss: 1.930340,test accuracy: 0.849977,f1 score:1.000000\n",
            "epoch: 362, | train_G_Loss: 0.783376, train_D_loss: 1.926048, train_acc: 0.931716\n",
            "epoch: 362, | train_G_Loss: 0.783075, train_D_loss: 1.931347,test accuracy: 0.850379,f1 score:1.000000\n",
            "epoch: 363, | train_G_Loss: 0.784157, train_D_loss: 1.927023, train_acc: 0.931882\n",
            "epoch: 363, | train_G_Loss: 0.783863, train_D_loss: 1.932254,test accuracy: 0.850758,f1 score:1.000000\n",
            "epoch: 364, | train_G_Loss: 0.784934, train_D_loss: 1.927951, train_acc: 0.932053\n",
            "epoch: 364, | train_G_Loss: 0.784646, train_D_loss: 1.933451,test accuracy: 0.851130,f1 score:1.000000\n",
            "epoch: 365, | train_G_Loss: 0.785709, train_D_loss: 1.929198, train_acc: 0.932221\n",
            "epoch: 365, | train_G_Loss: 0.785416, train_D_loss: 1.934669,test accuracy: 0.851491,f1 score:1.000000\n",
            "Saved checkpoint for step 17569: content/gdrive/My Drive/semiGAN_tf_ckpts4/ckpt-74\n",
            "epoch: 366, | train_G_Loss: 0.786466, train_D_loss: 1.930366, train_acc: 0.932396\n",
            "epoch: 366, | train_G_Loss: 0.786168, train_D_loss: 1.935714,test accuracy: 0.851876,f1 score:1.000000\n",
            "epoch: 367, | train_G_Loss: 0.787233, train_D_loss: 1.931411, train_acc: 0.932564\n",
            "epoch: 367, | train_G_Loss: 0.786937, train_D_loss: 1.936692,test accuracy: 0.852219,f1 score:1.000000\n",
            "epoch: 368, | train_G_Loss: 0.788023, train_D_loss: 1.932431, train_acc: 0.932732\n",
            "epoch: 368, | train_G_Loss: 0.787733, train_D_loss: 1.937636,test accuracy: 0.852546,f1 score:1.000000\n",
            "epoch: 369, | train_G_Loss: 0.788803, train_D_loss: 1.933380, train_acc: 0.932901\n",
            "epoch: 369, | train_G_Loss: 0.788509, train_D_loss: 1.938363,test accuracy: 0.852893,f1 score:1.000000\n",
            "epoch: 370, | train_G_Loss: 0.789578, train_D_loss: 1.934121, train_acc: 0.933056\n",
            "epoch: 370, | train_G_Loss: 0.789279, train_D_loss: 1.938553,test accuracy: 0.853186,f1 score:1.000000\n",
            "Saved checkpoint for step 17809: content/gdrive/My Drive/semiGAN_tf_ckpts4/ckpt-75\n",
            "epoch: 371, | train_G_Loss: 0.790353, train_D_loss: 1.934287, train_acc: 0.933226\n",
            "epoch: 371, | train_G_Loss: 0.790068, train_D_loss: 1.939364,test accuracy: 0.853532,f1 score:1.000000\n",
            "epoch: 372, | train_G_Loss: 0.791159, train_D_loss: 1.935064, train_acc: 0.933402\n",
            "epoch: 372, | train_G_Loss: 0.790880, train_D_loss: 1.940529,test accuracy: 0.853915,f1 score:1.000000\n",
            "epoch: 373, | train_G_Loss: 0.791967, train_D_loss: 1.936266, train_acc: 0.933569\n",
            "epoch: 373, | train_G_Loss: 0.791671, train_D_loss: 1.941595,test accuracy: 0.854275,f1 score:1.000000\n",
            "epoch: 374, | train_G_Loss: 0.792713, train_D_loss: 1.937356, train_acc: 0.933730\n",
            "epoch: 374, | train_G_Loss: 0.792417, train_D_loss: 1.942725,test accuracy: 0.854586,f1 score:1.000000\n",
            "epoch: 375, | train_G_Loss: 0.793533, train_D_loss: 1.938462, train_acc: 0.933901\n",
            "epoch: 375, | train_G_Loss: 0.793246, train_D_loss: 1.943535,test accuracy: 0.854946,f1 score:1.000000\n",
            "Saved checkpoint for step 18049: content/gdrive/My Drive/semiGAN_tf_ckpts4/ckpt-76\n",
            "epoch: 376, | train_G_Loss: 0.794358, train_D_loss: 1.939380, train_acc: 0.934061\n",
            "epoch: 376, | train_G_Loss: 0.794069, train_D_loss: 1.944566,test accuracy: 0.855320,f1 score:1.000000\n",
            "epoch: 377, | train_G_Loss: 0.795145, train_D_loss: 1.940330, train_acc: 0.934225\n",
            "epoch: 377, | train_G_Loss: 0.794859, train_D_loss: 1.945991,test accuracy: 0.855698,f1 score:1.000000\n",
            "epoch: 378, | train_G_Loss: 0.795916, train_D_loss: 1.941757, train_acc: 0.934392\n",
            "epoch: 378, | train_G_Loss: 0.795633, train_D_loss: 1.946741,test accuracy: 0.856017,f1 score:1.000000\n",
            "epoch: 379, | train_G_Loss: 0.796734, train_D_loss: 1.942574, train_acc: 0.934550\n",
            "epoch: 379, | train_G_Loss: 0.796446, train_D_loss: 1.947472,test accuracy: 0.856308,f1 score:0.996000\n",
            "epoch: 380, | train_G_Loss: 0.797461, train_D_loss: 1.943498, train_acc: 0.934694\n",
            "epoch: 380, | train_G_Loss: 0.797180, train_D_loss: 1.948522,test accuracy: 0.856605,f1 score:1.000000\n",
            "Saved checkpoint for step 18289: content/gdrive/My Drive/semiGAN_tf_ckpts4/ckpt-77\n",
            "epoch: 381, | train_G_Loss: 0.798161, train_D_loss: 1.944398, train_acc: 0.934846\n",
            "epoch: 381, | train_G_Loss: 0.797881, train_D_loss: 1.949532,test accuracy: 0.856952,f1 score:1.000000\n",
            "epoch: 382, | train_G_Loss: 0.798861, train_D_loss: 1.945340, train_acc: 0.935006\n",
            "epoch: 382, | train_G_Loss: 0.798569, train_D_loss: 1.950727,test accuracy: 0.857315,f1 score:1.000000\n",
            "epoch: 383, | train_G_Loss: 0.799589, train_D_loss: 1.946686, train_acc: 0.935149\n",
            "epoch: 383, | train_G_Loss: 0.799308, train_D_loss: 1.951955,test accuracy: 0.857641,f1 score:1.000000\n",
            "epoch: 384, | train_G_Loss: 0.800245, train_D_loss: 1.947768, train_acc: 0.935314\n",
            "epoch: 384, | train_G_Loss: 0.799967, train_D_loss: 1.952563,test accuracy: 0.857965,f1 score:1.000000\n",
            "epoch: 385, | train_G_Loss: 0.801040, train_D_loss: 1.948549, train_acc: 0.935453\n",
            "epoch: 385, | train_G_Loss: 0.800753, train_D_loss: 1.953739,test accuracy: 0.858320,f1 score:1.000000\n",
            "Saved checkpoint for step 18529: content/gdrive/My Drive/semiGAN_tf_ckpts4/ckpt-78\n",
            "epoch: 386, | train_G_Loss: 0.801717, train_D_loss: 1.949559, train_acc: 0.935618\n",
            "epoch: 386, | train_G_Loss: 0.801436, train_D_loss: 1.954736,test accuracy: 0.858661,f1 score:1.000000\n",
            "epoch: 387, | train_G_Loss: 0.802471, train_D_loss: 1.950596, train_acc: 0.935775\n",
            "epoch: 387, | train_G_Loss: 0.802191, train_D_loss: 1.955571,test accuracy: 0.858997,f1 score:1.000000\n",
            "epoch: 388, | train_G_Loss: 0.803251, train_D_loss: 1.951446, train_acc: 0.935933\n",
            "epoch: 388, | train_G_Loss: 0.802964, train_D_loss: 1.956072,test accuracy: 0.859243,f1 score:1.000000\n",
            "epoch: 389, | train_G_Loss: 0.804010, train_D_loss: 1.951924, train_acc: 0.936094\n",
            "epoch: 389, | train_G_Loss: 0.803723, train_D_loss: 1.956937,test accuracy: 0.859556,f1 score:1.000000\n",
            "epoch: 390, | train_G_Loss: 0.804769, train_D_loss: 1.952802, train_acc: 0.936253\n",
            "epoch: 390, | train_G_Loss: 0.804493, train_D_loss: 1.957690,test accuracy: 0.859867,f1 score:1.000000\n",
            "Saved checkpoint for step 18769: content/gdrive/My Drive/semiGAN_tf_ckpts4/ckpt-79\n",
            "epoch: 391, | train_G_Loss: 0.805559, train_D_loss: 1.953563, train_acc: 0.936410\n",
            "epoch: 391, | train_G_Loss: 0.805281, train_D_loss: 1.958582,test accuracy: 0.860196,f1 score:1.000000\n",
            "epoch: 392, | train_G_Loss: 0.806370, train_D_loss: 1.954476, train_acc: 0.936567\n",
            "epoch: 392, | train_G_Loss: 0.806093, train_D_loss: 1.959970,test accuracy: 0.860542,f1 score:1.000000\n",
            "epoch: 393, | train_G_Loss: 0.807145, train_D_loss: 1.955909, train_acc: 0.936719\n",
            "epoch: 393, | train_G_Loss: 0.806874, train_D_loss: 1.960684,test accuracy: 0.860815,f1 score:1.000000\n",
            "epoch: 394, | train_G_Loss: 0.807930, train_D_loss: 1.956653, train_acc: 0.936865\n",
            "epoch: 394, | train_G_Loss: 0.807642, train_D_loss: 1.961849,test accuracy: 0.861148,f1 score:1.000000\n",
            "epoch: 395, | train_G_Loss: 0.808664, train_D_loss: 1.957774, train_acc: 0.937016\n",
            "epoch: 395, | train_G_Loss: 0.808374, train_D_loss: 1.962979,test accuracy: 0.861496,f1 score:1.000000\n",
            "Saved checkpoint for step 19009: content/gdrive/My Drive/semiGAN_tf_ckpts4/ckpt-80\n",
            "epoch: 396, | train_G_Loss: 0.809398, train_D_loss: 1.958897, train_acc: 0.937171\n",
            "epoch: 396, | train_G_Loss: 0.809123, train_D_loss: 1.963863,test accuracy: 0.861812,f1 score:1.000000\n",
            "epoch: 397, | train_G_Loss: 0.810128, train_D_loss: 1.959965, train_acc: 0.937302\n",
            "epoch: 397, | train_G_Loss: 0.809849, train_D_loss: 1.964638,test accuracy: 0.862089,f1 score:1.000000\n",
            "epoch: 398, | train_G_Loss: 0.810807, train_D_loss: 1.960595, train_acc: 0.937447\n",
            "epoch: 398, | train_G_Loss: 0.810524, train_D_loss: 1.965813,test accuracy: 0.862426,f1 score:1.000000\n",
            "epoch: 399, | train_G_Loss: 0.811528, train_D_loss: 1.961810, train_acc: 0.937590\n",
            "epoch: 399, | train_G_Loss: 0.811246, train_D_loss: 1.967729,test accuracy: 0.862769,f1 score:1.000000\n",
            "epoch: 400, | train_G_Loss: 0.812196, train_D_loss: 1.963696, train_acc: 0.937739\n",
            "epoch: 400, | train_G_Loss: 0.811910, train_D_loss: 1.968273,test accuracy: 0.863068,f1 score:1.000000\n",
            "Saved checkpoint for step 19249: content/gdrive/My Drive/semiGAN_tf_ckpts4/ckpt-81\n",
            "epoch: 401, | train_G_Loss: 0.812953, train_D_loss: 1.964252, train_acc: 0.937886\n",
            "epoch: 401, | train_G_Loss: 0.812676, train_D_loss: 1.969405,test accuracy: 0.863392,f1 score:1.000000\n",
            "epoch: 402, | train_G_Loss: 0.813692, train_D_loss: 1.965365, train_acc: 0.938029\n",
            "epoch: 402, | train_G_Loss: 0.813412, train_D_loss: 1.970348,test accuracy: 0.863712,f1 score:1.000000\n",
            "epoch: 403, | train_G_Loss: 0.814447, train_D_loss: 1.966364, train_acc: 0.938169\n",
            "epoch: 403, | train_G_Loss: 0.814166, train_D_loss: 1.971617,test accuracy: 0.864036,f1 score:1.000000\n",
            "epoch: 404, | train_G_Loss: 0.815209, train_D_loss: 1.967671, train_acc: 0.938309\n",
            "epoch: 404, | train_G_Loss: 0.814931, train_D_loss: 1.972631,test accuracy: 0.864337,f1 score:1.000000\n",
            "epoch: 405, | train_G_Loss: 0.815951, train_D_loss: 1.968649, train_acc: 0.938452\n",
            "epoch: 405, | train_G_Loss: 0.815679, train_D_loss: 1.973363,test accuracy: 0.864625,f1 score:1.000000\n",
            "Saved checkpoint for step 19489: content/gdrive/My Drive/semiGAN_tf_ckpts4/ckpt-82\n",
            "epoch: 406, | train_G_Loss: 0.816725, train_D_loss: 1.969426, train_acc: 0.938588\n",
            "epoch: 406, | train_G_Loss: 0.816450, train_D_loss: 1.973665,test accuracy: 0.864799,f1 score:1.000000\n",
            "epoch: 407, | train_G_Loss: 0.817499, train_D_loss: 1.969749, train_acc: 0.938721\n",
            "epoch: 407, | train_G_Loss: 0.817220, train_D_loss: 1.974643,test accuracy: 0.865122,f1 score:1.000000\n",
            "epoch: 408, | train_G_Loss: 0.818256, train_D_loss: 1.970696, train_acc: 0.938858\n",
            "epoch: 408, | train_G_Loss: 0.817982, train_D_loss: 1.975377,test accuracy: 0.865426,f1 score:1.000000\n",
            "epoch: 409, | train_G_Loss: 0.819023, train_D_loss: 1.971397, train_acc: 0.939002\n",
            "epoch: 409, | train_G_Loss: 0.818741, train_D_loss: 1.976589,test accuracy: 0.865739,f1 score:1.000000\n",
            "epoch: 410, | train_G_Loss: 0.819778, train_D_loss: 1.972616, train_acc: 0.939145\n",
            "epoch: 410, | train_G_Loss: 0.819499, train_D_loss: 1.977664,test accuracy: 0.866060,f1 score:1.000000\n",
            "Saved checkpoint for step 19729: content/gdrive/My Drive/semiGAN_tf_ckpts4/ckpt-83\n",
            "epoch: 411, | train_G_Loss: 0.820545, train_D_loss: 1.973710, train_acc: 0.939285\n",
            "epoch: 411, | train_G_Loss: 0.820269, train_D_loss: 1.978990,test accuracy: 0.866384,f1 score:1.000000\n",
            "epoch: 412, | train_G_Loss: 0.821351, train_D_loss: 1.975034, train_acc: 0.939429\n",
            "epoch: 412, | train_G_Loss: 0.821063, train_D_loss: 1.979795,test accuracy: 0.866634,f1 score:1.000000\n",
            "epoch: 413, | train_G_Loss: 0.822064, train_D_loss: 1.976009, train_acc: 0.939552\n",
            "epoch: 413, | train_G_Loss: 0.821791, train_D_loss: 1.980948,test accuracy: 0.866933,f1 score:1.000000\n",
            "epoch: 414, | train_G_Loss: 0.822806, train_D_loss: 1.977015, train_acc: 0.939691\n",
            "epoch: 414, | train_G_Loss: 0.822528, train_D_loss: 1.981782,test accuracy: 0.867246,f1 score:1.000000\n",
            "epoch: 415, | train_G_Loss: 0.823510, train_D_loss: 1.977865, train_acc: 0.939823\n",
            "epoch: 415, | train_G_Loss: 0.823240, train_D_loss: 1.982073,test accuracy: 0.867521,f1 score:1.000000\n",
            "Saved checkpoint for step 19969: content/gdrive/My Drive/semiGAN_tf_ckpts4/ckpt-84\n",
            "epoch: 416, | train_G_Loss: 0.824286, train_D_loss: 1.978172, train_acc: 0.939959\n",
            "epoch: 416, | train_G_Loss: 0.824022, train_D_loss: 1.982922,test accuracy: 0.867778,f1 score:1.000000\n",
            "epoch: 417, | train_G_Loss: 0.825085, train_D_loss: 1.979000, train_acc: 0.940099\n",
            "epoch: 417, | train_G_Loss: 0.824812, train_D_loss: 1.983789,test accuracy: 0.868088,f1 score:1.000000\n",
            "epoch: 418, | train_G_Loss: 0.825847, train_D_loss: 1.979894, train_acc: 0.940233\n",
            "epoch: 418, | train_G_Loss: 0.825570, train_D_loss: 1.985350,test accuracy: 0.868398,f1 score:1.000000\n",
            "epoch: 419, | train_G_Loss: 0.826607, train_D_loss: 1.981553, train_acc: 0.940354\n",
            "epoch: 419, | train_G_Loss: 0.826331, train_D_loss: 1.986493,test accuracy: 0.868695,f1 score:1.000000\n",
            "epoch: 420, | train_G_Loss: 0.827344, train_D_loss: 1.982598, train_acc: 0.940488\n",
            "epoch: 420, | train_G_Loss: 0.827070, train_D_loss: 1.987322,test accuracy: 0.869001,f1 score:1.000000\n",
            "Saved checkpoint for step 20209: content/gdrive/My Drive/semiGAN_tf_ckpts4/ckpt-85\n",
            "epoch: 421, | train_G_Loss: 0.828110, train_D_loss: 1.983423, train_acc: 0.940626\n",
            "epoch: 421, | train_G_Loss: 0.827838, train_D_loss: 1.988260,test accuracy: 0.869278,f1 score:1.000000\n",
            "epoch: 422, | train_G_Loss: 0.828865, train_D_loss: 1.984400, train_acc: 0.940757\n",
            "epoch: 422, | train_G_Loss: 0.828596, train_D_loss: 1.989521,test accuracy: 0.869551,f1 score:1.000000\n",
            "epoch: 423, | train_G_Loss: 0.829651, train_D_loss: 1.985637, train_acc: 0.940891\n",
            "epoch: 423, | train_G_Loss: 0.829375, train_D_loss: 1.989839,test accuracy: 0.869795,f1 score:1.000000\n",
            "epoch: 424, | train_G_Loss: 0.830449, train_D_loss: 1.986042, train_acc: 0.941018\n",
            "epoch: 424, | train_G_Loss: 0.830178, train_D_loss: 1.990849,test accuracy: 0.870065,f1 score:1.000000\n",
            "epoch: 425, | train_G_Loss: 0.831162, train_D_loss: 1.987006, train_acc: 0.941149\n",
            "epoch: 425, | train_G_Loss: 0.830889, train_D_loss: 1.991839,test accuracy: 0.870359,f1 score:1.000000\n",
            "Saved checkpoint for step 20449: content/gdrive/My Drive/semiGAN_tf_ckpts4/ckpt-86\n",
            "epoch: 426, | train_G_Loss: 0.831908, train_D_loss: 1.988084, train_acc: 0.941267\n",
            "epoch: 426, | train_G_Loss: 0.831633, train_D_loss: 1.992744,test accuracy: 0.870608,f1 score:1.000000\n",
            "epoch: 427, | train_G_Loss: 0.832576, train_D_loss: 1.988922, train_acc: 0.941396\n",
            "epoch: 427, | train_G_Loss: 0.832302, train_D_loss: 1.993592,test accuracy: 0.870904,f1 score:1.000000\n",
            "epoch: 428, | train_G_Loss: 0.833292, train_D_loss: 1.989796, train_acc: 0.941522\n",
            "epoch: 428, | train_G_Loss: 0.833017, train_D_loss: 1.994594,test accuracy: 0.871204,f1 score:1.000000\n",
            "epoch: 429, | train_G_Loss: 0.833990, train_D_loss: 1.990915, train_acc: 0.941639\n",
            "epoch: 429, | train_G_Loss: 0.833727, train_D_loss: 1.995534,test accuracy: 0.871432,f1 score:1.000000\n",
            "epoch: 430, | train_G_Loss: 0.834676, train_D_loss: 1.991719, train_acc: 0.941763\n",
            "epoch: 430, | train_G_Loss: 0.834414, train_D_loss: 1.996416,test accuracy: 0.871700,f1 score:1.000000\n",
            "Saved checkpoint for step 20689: content/gdrive/My Drive/semiGAN_tf_ckpts4/ckpt-87\n",
            "epoch: 431, | train_G_Loss: 0.835376, train_D_loss: 1.992579, train_acc: 0.941897\n",
            "epoch: 431, | train_G_Loss: 0.835108, train_D_loss: 1.997116,test accuracy: 0.871932,f1 score:1.000000\n",
            "epoch: 432, | train_G_Loss: 0.836090, train_D_loss: 1.993325, train_acc: 0.942024\n",
            "epoch: 432, | train_G_Loss: 0.835822, train_D_loss: 1.997992,test accuracy: 0.872211,f1 score:1.000000\n",
            "epoch: 433, | train_G_Loss: 0.836802, train_D_loss: 1.994186, train_acc: 0.942156\n",
            "epoch: 433, | train_G_Loss: 0.836542, train_D_loss: 1.998383,test accuracy: 0.872424,f1 score:1.000000\n",
            "epoch: 434, | train_G_Loss: 0.837538, train_D_loss: 1.994613, train_acc: 0.942283\n",
            "epoch: 434, | train_G_Loss: 0.837279, train_D_loss: 1.998785,test accuracy: 0.872612,f1 score:1.000000\n",
            "epoch: 435, | train_G_Loss: 0.838273, train_D_loss: 1.995243, train_acc: 0.942385\n",
            "epoch: 435, | train_G_Loss: 0.838002, train_D_loss: 1.999673,test accuracy: 0.872894,f1 score:1.000000\n",
            "Saved checkpoint for step 20929: content/gdrive/My Drive/semiGAN_tf_ckpts4/ckpt-88\n",
            "epoch: 436, | train_G_Loss: 0.838973, train_D_loss: 1.995919, train_acc: 0.942508\n",
            "epoch: 436, | train_G_Loss: 0.838711, train_D_loss: 2.000405,test accuracy: 0.873143,f1 score:1.000000\n",
            "epoch: 437, | train_G_Loss: 0.839668, train_D_loss: 1.996636, train_acc: 0.942634\n",
            "epoch: 437, | train_G_Loss: 0.839405, train_D_loss: 2.001240,test accuracy: 0.873389,f1 score:0.996000\n",
            "epoch: 438, | train_G_Loss: 0.840368, train_D_loss: 1.997479, train_acc: 0.942758\n",
            "epoch: 438, | train_G_Loss: 0.840102, train_D_loss: 2.002247,test accuracy: 0.873643,f1 score:1.000000\n",
            "epoch: 439, | train_G_Loss: 0.841081, train_D_loss: 1.998517, train_acc: 0.942868\n",
            "epoch: 439, | train_G_Loss: 0.840814, train_D_loss: 2.003082,test accuracy: 0.873902,f1 score:1.000000\n",
            "epoch: 440, | train_G_Loss: 0.841832, train_D_loss: 1.999328, train_acc: 0.942994\n",
            "epoch: 440, | train_G_Loss: 0.841572, train_D_loss: 2.003667,test accuracy: 0.874173,f1 score:1.000000\n",
            "Saved checkpoint for step 21169: content/gdrive/My Drive/semiGAN_tf_ckpts4/ckpt-89\n",
            "epoch: 441, | train_G_Loss: 0.842631, train_D_loss: 1.999936, train_acc: 0.943116\n",
            "epoch: 441, | train_G_Loss: 0.842371, train_D_loss: 2.004800,test accuracy: 0.874428,f1 score:1.000000\n",
            "epoch: 442, | train_G_Loss: 0.843418, train_D_loss: 2.001070, train_acc: 0.943236\n",
            "epoch: 442, | train_G_Loss: 0.843154, train_D_loss: 2.005435,test accuracy: 0.874699,f1 score:1.000000\n",
            "epoch: 443, | train_G_Loss: 0.844167, train_D_loss: 2.001743, train_acc: 0.943356\n",
            "epoch: 443, | train_G_Loss: 0.843910, train_D_loss: 2.006270,test accuracy: 0.874958,f1 score:1.000000\n",
            "epoch: 444, | train_G_Loss: 0.844914, train_D_loss: 2.002533, train_acc: 0.943479\n",
            "epoch: 444, | train_G_Loss: 0.844650, train_D_loss: 2.007186,test accuracy: 0.875220,f1 score:1.000000\n",
            "epoch: 445, | train_G_Loss: 0.845670, train_D_loss: 2.003515, train_acc: 0.943594\n",
            "epoch: 445, | train_G_Loss: 0.845408, train_D_loss: 2.007837,test accuracy: 0.875488,f1 score:1.000000\n",
            "Saved checkpoint for step 21409: content/gdrive/My Drive/semiGAN_tf_ckpts4/ckpt-90\n",
            "epoch: 446, | train_G_Loss: 0.846473, train_D_loss: 2.004136, train_acc: 0.943716\n",
            "epoch: 446, | train_G_Loss: 0.846215, train_D_loss: 2.008474,test accuracy: 0.875717,f1 score:1.000000\n",
            "epoch: 447, | train_G_Loss: 0.847188, train_D_loss: 2.004850, train_acc: 0.943828\n",
            "epoch: 447, | train_G_Loss: 0.846926, train_D_loss: 2.009471,test accuracy: 0.875980,f1 score:1.000000\n",
            "epoch: 448, | train_G_Loss: 0.847880, train_D_loss: 2.005859, train_acc: 0.943939\n",
            "epoch: 448, | train_G_Loss: 0.847621, train_D_loss: 2.010338,test accuracy: 0.876212,f1 score:1.000000\n",
            "epoch: 449, | train_G_Loss: 0.848594, train_D_loss: 2.006666, train_acc: 0.944052\n",
            "epoch: 449, | train_G_Loss: 0.848335, train_D_loss: 2.011271,test accuracy: 0.876485,f1 score:1.000000\n",
            "epoch: 450, | train_G_Loss: 0.849325, train_D_loss: 2.007584, train_acc: 0.944169\n",
            "epoch: 450, | train_G_Loss: 0.849066, train_D_loss: 2.012236,test accuracy: 0.876747,f1 score:1.000000\n",
            "Saved checkpoint for step 21649: content/gdrive/My Drive/semiGAN_tf_ckpts4/ckpt-91\n",
            "epoch: 451, | train_G_Loss: 0.850076, train_D_loss: 2.008551, train_acc: 0.944288\n",
            "epoch: 451, | train_G_Loss: 0.849817, train_D_loss: 2.012933,test accuracy: 0.876999,f1 score:1.000000\n",
            "epoch: 452, | train_G_Loss: 0.850795, train_D_loss: 2.009268, train_acc: 0.944404\n",
            "epoch: 452, | train_G_Loss: 0.850531, train_D_loss: 2.013657,test accuracy: 0.877257,f1 score:1.000000\n",
            "epoch: 453, | train_G_Loss: 0.851582, train_D_loss: 2.009979, train_acc: 0.944525\n",
            "epoch: 453, | train_G_Loss: 0.851322, train_D_loss: 2.014634,test accuracy: 0.877483,f1 score:1.000000\n",
            "epoch: 454, | train_G_Loss: 0.852347, train_D_loss: 2.011003, train_acc: 0.944638\n",
            "epoch: 454, | train_G_Loss: 0.852084, train_D_loss: 2.015528,test accuracy: 0.877740,f1 score:0.996000\n",
            "epoch: 455, | train_G_Loss: 0.853057, train_D_loss: 2.011932, train_acc: 0.944745\n",
            "epoch: 455, | train_G_Loss: 0.852804, train_D_loss: 2.016642,test accuracy: 0.878003,f1 score:1.000000\n",
            "Saved checkpoint for step 21889: content/gdrive/My Drive/semiGAN_tf_ckpts4/ckpt-92\n",
            "epoch: 456, | train_G_Loss: 0.853731, train_D_loss: 2.013088, train_acc: 0.944850\n",
            "epoch: 456, | train_G_Loss: 0.853475, train_D_loss: 2.017257,test accuracy: 0.878241,f1 score:0.996000\n",
            "epoch: 457, | train_G_Loss: 0.854446, train_D_loss: 2.013626, train_acc: 0.944964\n",
            "epoch: 457, | train_G_Loss: 0.854188, train_D_loss: 2.018267,test accuracy: 0.878454,f1 score:1.000000\n",
            "epoch: 458, | train_G_Loss: 0.855183, train_D_loss: 2.014674, train_acc: 0.945075\n",
            "epoch: 458, | train_G_Loss: 0.854925, train_D_loss: 2.019115,test accuracy: 0.878698,f1 score:1.000000\n",
            "epoch: 459, | train_G_Loss: 0.855866, train_D_loss: 2.015500, train_acc: 0.945187\n",
            "epoch: 459, | train_G_Loss: 0.855604, train_D_loss: 2.020188,test accuracy: 0.878960,f1 score:1.000000\n",
            "epoch: 460, | train_G_Loss: 0.856585, train_D_loss: 2.016557, train_acc: 0.945302\n",
            "epoch: 460, | train_G_Loss: 0.856339, train_D_loss: 2.021584,test accuracy: 0.879181,f1 score:1.000000\n",
            "Saved checkpoint for step 22129: content/gdrive/My Drive/semiGAN_tf_ckpts4/ckpt-93\n",
            "epoch: 461, | train_G_Loss: 0.857304, train_D_loss: 2.017983, train_acc: 0.945413\n",
            "epoch: 461, | train_G_Loss: 0.857048, train_D_loss: 2.022825,test accuracy: 0.879407,f1 score:1.000000\n",
            "epoch: 462, | train_G_Loss: 0.858042, train_D_loss: 2.019281, train_acc: 0.945517\n",
            "epoch: 462, | train_G_Loss: 0.857782, train_D_loss: 2.023851,test accuracy: 0.879609,f1 score:1.000000\n",
            "epoch: 463, | train_G_Loss: 0.858740, train_D_loss: 2.020278, train_acc: 0.945628\n",
            "epoch: 463, | train_G_Loss: 0.858484, train_D_loss: 2.024537,test accuracy: 0.879808,f1 score:1.000000\n",
            "epoch: 464, | train_G_Loss: 0.859453, train_D_loss: 2.020969, train_acc: 0.945734\n",
            "epoch: 464, | train_G_Loss: 0.859195, train_D_loss: 2.025343,test accuracy: 0.880065,f1 score:1.000000\n",
            "epoch: 465, | train_G_Loss: 0.860185, train_D_loss: 2.021741, train_acc: 0.945848\n",
            "epoch: 465, | train_G_Loss: 0.859927, train_D_loss: 2.026070,test accuracy: 0.880246,f1 score:1.000000\n",
            "Saved checkpoint for step 22369: content/gdrive/My Drive/semiGAN_tf_ckpts4/ckpt-94\n",
            "epoch: 466, | train_G_Loss: 0.860894, train_D_loss: 2.022472, train_acc: 0.945962\n",
            "epoch: 466, | train_G_Loss: 0.860636, train_D_loss: 2.026683,test accuracy: 0.880482,f1 score:1.000000\n",
            "epoch: 467, | train_G_Loss: 0.861664, train_D_loss: 2.023148, train_acc: 0.946068\n",
            "epoch: 467, | train_G_Loss: 0.861405, train_D_loss: 2.027509,test accuracy: 0.880704,f1 score:1.000000\n",
            "epoch: 468, | train_G_Loss: 0.862346, train_D_loss: 2.023969, train_acc: 0.946167\n",
            "epoch: 468, | train_G_Loss: 0.862094, train_D_loss: 2.028558,test accuracy: 0.880956,f1 score:1.000000\n",
            "epoch: 469, | train_G_Loss: 0.863090, train_D_loss: 2.024980, train_acc: 0.946280\n",
            "epoch: 469, | train_G_Loss: 0.862837, train_D_loss: 2.029415,test accuracy: 0.881191,f1 score:1.000000\n",
            "epoch: 470, | train_G_Loss: 0.863859, train_D_loss: 2.025844, train_acc: 0.946389\n",
            "epoch: 470, | train_G_Loss: 0.863602, train_D_loss: 2.030477,test accuracy: 0.881410,f1 score:1.000000\n",
            "Saved checkpoint for step 22609: content/gdrive/My Drive/semiGAN_tf_ckpts4/ckpt-95\n",
            "epoch: 471, | train_G_Loss: 0.864639, train_D_loss: 2.026922, train_acc: 0.946499\n",
            "epoch: 471, | train_G_Loss: 0.864384, train_D_loss: 2.031592,test accuracy: 0.881648,f1 score:1.000000\n",
            "epoch: 472, | train_G_Loss: 0.865441, train_D_loss: 2.028061, train_acc: 0.946606\n",
            "epoch: 472, | train_G_Loss: 0.865194, train_D_loss: 2.032101,test accuracy: 0.881864,f1 score:1.000000\n",
            "epoch: 473, | train_G_Loss: 0.866273, train_D_loss: 2.028555, train_acc: 0.946716\n",
            "epoch: 473, | train_G_Loss: 0.866025, train_D_loss: 2.033024,test accuracy: 0.882104,f1 score:1.000000\n",
            "epoch: 474, | train_G_Loss: 0.867041, train_D_loss: 2.029499, train_acc: 0.946823\n",
            "epoch: 474, | train_G_Loss: 0.866786, train_D_loss: 2.034257,test accuracy: 0.882350,f1 score:1.000000\n",
            "epoch: 475, | train_G_Loss: 0.867739, train_D_loss: 2.030824, train_acc: 0.946914\n",
            "epoch: 475, | train_G_Loss: 0.867484, train_D_loss: 2.035244,test accuracy: 0.882580,f1 score:1.000000\n",
            "Saved checkpoint for step 22849: content/gdrive/My Drive/semiGAN_tf_ckpts4/ckpt-96\n",
            "epoch: 476, | train_G_Loss: 0.868425, train_D_loss: 2.031732, train_acc: 0.947010\n",
            "epoch: 476, | train_G_Loss: 0.868175, train_D_loss: 2.036216,test accuracy: 0.882815,f1 score:1.000000\n",
            "epoch: 477, | train_G_Loss: 0.869148, train_D_loss: 2.032694, train_acc: 0.947118\n",
            "epoch: 477, | train_G_Loss: 0.868893, train_D_loss: 2.036974,test accuracy: 0.883047,f1 score:1.000000\n",
            "epoch: 478, | train_G_Loss: 0.869874, train_D_loss: 2.033459, train_acc: 0.947222\n",
            "epoch: 478, | train_G_Loss: 0.869623, train_D_loss: 2.037979,test accuracy: 0.883272,f1 score:1.000000\n",
            "epoch: 479, | train_G_Loss: 0.870670, train_D_loss: 2.034490, train_acc: 0.947325\n",
            "epoch: 479, | train_G_Loss: 0.870421, train_D_loss: 2.038949,test accuracy: 0.883512,f1 score:1.000000\n",
            "epoch: 480, | train_G_Loss: 0.871370, train_D_loss: 2.035442, train_acc: 0.947428\n",
            "epoch: 480, | train_G_Loss: 0.871117, train_D_loss: 2.039749,test accuracy: 0.883726,f1 score:1.000000\n",
            "Saved checkpoint for step 23089: content/gdrive/My Drive/semiGAN_tf_ckpts4/ckpt-97\n",
            "epoch: 481, | train_G_Loss: 0.872031, train_D_loss: 2.036311, train_acc: 0.947521\n",
            "epoch: 481, | train_G_Loss: 0.871778, train_D_loss: 2.040354,test accuracy: 0.883918,f1 score:1.000000\n",
            "epoch: 482, | train_G_Loss: 0.872765, train_D_loss: 2.036868, train_acc: 0.947620\n",
            "epoch: 482, | train_G_Loss: 0.872521, train_D_loss: 2.041250,test accuracy: 0.884117,f1 score:1.000000\n",
            "epoch: 483, | train_G_Loss: 0.873522, train_D_loss: 2.037755, train_acc: 0.947724\n",
            "epoch: 483, | train_G_Loss: 0.873266, train_D_loss: 2.042315,test accuracy: 0.884340,f1 score:1.000000\n",
            "epoch: 484, | train_G_Loss: 0.874274, train_D_loss: 2.038832, train_acc: 0.947823\n",
            "epoch: 484, | train_G_Loss: 0.874022, train_D_loss: 2.043235,test accuracy: 0.884578,f1 score:1.000000\n",
            "epoch: 485, | train_G_Loss: 0.875021, train_D_loss: 2.039748, train_acc: 0.947925\n",
            "epoch: 485, | train_G_Loss: 0.874776, train_D_loss: 2.044449,test accuracy: 0.884812,f1 score:1.000000\n",
            "Saved checkpoint for step 23329: content/gdrive/My Drive/semiGAN_tf_ckpts4/ckpt-98\n",
            "epoch: 486, | train_G_Loss: 0.875776, train_D_loss: 2.040980, train_acc: 0.948027\n",
            "epoch: 486, | train_G_Loss: 0.875527, train_D_loss: 2.044803,test accuracy: 0.884997,f1 score:1.000000\n",
            "epoch: 487, | train_G_Loss: 0.876545, train_D_loss: 2.041327, train_acc: 0.948132\n",
            "epoch: 487, | train_G_Loss: 0.876296, train_D_loss: 2.045815,test accuracy: 0.885227,f1 score:1.000000\n",
            "epoch: 488, | train_G_Loss: 0.877316, train_D_loss: 2.042456, train_acc: 0.948224\n",
            "epoch: 488, | train_G_Loss: 0.877069, train_D_loss: 2.046843,test accuracy: 0.885459,f1 score:1.000000\n",
            "epoch: 489, | train_G_Loss: 0.878019, train_D_loss: 2.043380, train_acc: 0.948327\n",
            "epoch: 489, | train_G_Loss: 0.877770, train_D_loss: 2.047752,test accuracy: 0.885686,f1 score:1.000000\n",
            "epoch: 490, | train_G_Loss: 0.878749, train_D_loss: 2.044301, train_acc: 0.948428\n",
            "epoch: 490, | train_G_Loss: 0.878494, train_D_loss: 2.048409,test accuracy: 0.885832,f1 score:1.000000\n",
            "Saved checkpoint for step 23569: content/gdrive/My Drive/semiGAN_tf_ckpts4/ckpt-99\n",
            "epoch: 491, | train_G_Loss: 0.879505, train_D_loss: 2.044973, train_acc: 0.948526\n",
            "epoch: 491, | train_G_Loss: 0.879256, train_D_loss: 2.049419,test accuracy: 0.886035,f1 score:1.000000\n",
            "epoch: 492, | train_G_Loss: 0.880252, train_D_loss: 2.045979, train_acc: 0.948623\n",
            "epoch: 492, | train_G_Loss: 0.880002, train_D_loss: 2.050322,test accuracy: 0.886258,f1 score:1.000000\n",
            "epoch: 493, | train_G_Loss: 0.881057, train_D_loss: 2.046893, train_acc: 0.948722\n",
            "epoch: 493, | train_G_Loss: 0.880808, train_D_loss: 2.051154,test accuracy: 0.886470,f1 score:1.000000\n",
            "epoch: 494, | train_G_Loss: 0.881828, train_D_loss: 2.047714, train_acc: 0.948825\n",
            "epoch: 494, | train_G_Loss: 0.881581, train_D_loss: 2.052015,test accuracy: 0.886659,f1 score:1.000000\n",
            "epoch: 495, | train_G_Loss: 0.882586, train_D_loss: 2.048624, train_acc: 0.948917\n",
            "epoch: 495, | train_G_Loss: 0.882343, train_D_loss: 2.053071,test accuracy: 0.886886,f1 score:1.000000\n",
            "Saved checkpoint for step 23809: content/gdrive/My Drive/semiGAN_tf_ckpts4/ckpt-100\n",
            "epoch: 496, | train_G_Loss: 0.883367, train_D_loss: 2.049650, train_acc: 0.949017\n",
            "epoch: 496, | train_G_Loss: 0.883119, train_D_loss: 2.053614,test accuracy: 0.887101,f1 score:1.000000\n",
            "epoch: 497, | train_G_Loss: 0.884176, train_D_loss: 2.050198, train_acc: 0.949117\n",
            "epoch: 497, | train_G_Loss: 0.883936, train_D_loss: 2.054579,test accuracy: 0.887323,f1 score:1.000000\n",
            "epoch: 498, | train_G_Loss: 0.884983, train_D_loss: 2.051209, train_acc: 0.949212\n",
            "epoch: 498, | train_G_Loss: 0.884735, train_D_loss: 2.055524,test accuracy: 0.887546,f1 score:1.000000\n",
            "epoch: 499, | train_G_Loss: 0.885716, train_D_loss: 2.052116, train_acc: 0.949311\n",
            "epoch: 499, | train_G_Loss: 0.885469, train_D_loss: 2.056298,test accuracy: 0.887729,f1 score:1.000000\n"
          ],
          "name": "stdout"
        }
      ]
    },
    {
      "cell_type": "markdown",
      "metadata": {
        "id": "rGiylNbEysE_",
        "colab_type": "text"
      },
      "source": [
        "# New Section"
      ]
    },
    {
      "cell_type": "code",
      "metadata": {
        "id": "P2gZ49EpcEWr",
        "colab_type": "code",
        "colab": {}
      },
      "source": [
        "\n"
      ],
      "execution_count": 0,
      "outputs": []
    },
    {
      "cell_type": "code",
      "metadata": {
        "id": "a53WxDib7f-7",
        "colab_type": "code",
        "colab": {}
      },
      "source": [
        ""
      ],
      "execution_count": 0,
      "outputs": []
    },
    {
      "cell_type": "code",
      "metadata": {
        "id": "chGQoBLO1n-v",
        "colab_type": "code",
        "colab": {}
      },
      "source": [
        ""
      ],
      "execution_count": 0,
      "outputs": []
    },
    {
      "cell_type": "code",
      "metadata": {
        "id": "UtT1aB93vOmN",
        "colab_type": "code",
        "colab": {}
      },
      "source": [
        ""
      ],
      "execution_count": 0,
      "outputs": []
    },
    {
      "cell_type": "code",
      "metadata": {
        "id": "ZbFN64ovQ-Np",
        "colab_type": "code",
        "colab": {}
      },
      "source": [
        ""
      ],
      "execution_count": 0,
      "outputs": []
    },
    {
      "cell_type": "code",
      "metadata": {
        "id": "0xSvHc7RVBSR",
        "colab_type": "code",
        "colab": {}
      },
      "source": [
        ""
      ],
      "execution_count": 0,
      "outputs": []
    },
    {
      "cell_type": "code",
      "metadata": {
        "id": "R7CcrnnvJISb",
        "colab_type": "code",
        "colab": {}
      },
      "source": [
        ""
      ],
      "execution_count": 0,
      "outputs": []
    },
    {
      "cell_type": "code",
      "metadata": {
        "id": "KFMXizPii1fz",
        "colab_type": "code",
        "outputId": "9acc74ca-29da-4e37-c02e-7d7574e7eab3",
        "colab": {
          "base_uri": "https://localhost:8080/",
          "height": 232
        }
      },
      "source": [
        "googleDoc  = report2['GoogleDoc'].values()\n",
        "googleDrive = report2['GoogleDrive'].values()\n",
        "googleMusic = report2['GoogleMusic'].values()\n",
        "youtube     = report2['Youtube'].values()          \n",
        "report2"
      ],
      "execution_count": 0,
      "outputs": [
        {
          "output_type": "error",
          "ename": "NameError",
          "evalue": "ignored",
          "traceback": [
            "\u001b[0;31m\u001b[0m",
            "\u001b[0;31mNameError\u001b[0mTraceback (most recent call last)",
            "\u001b[0;32m<ipython-input-35-f737e35e7626>\u001b[0m in \u001b[0;36m<module>\u001b[0;34m()\u001b[0m\n\u001b[0;32m----> 1\u001b[0;31m \u001b[0mgoogleDoc\u001b[0m  \u001b[0;34m=\u001b[0m \u001b[0mreport2\u001b[0m\u001b[0;34m[\u001b[0m\u001b[0;34m'GoogleDoc'\u001b[0m\u001b[0;34m]\u001b[0m\u001b[0;34m.\u001b[0m\u001b[0mvalues\u001b[0m\u001b[0;34m(\u001b[0m\u001b[0;34m)\u001b[0m\u001b[0;34m\u001b[0m\u001b[0;34m\u001b[0m\u001b[0m\n\u001b[0m\u001b[1;32m      2\u001b[0m \u001b[0mgoogleDrive\u001b[0m \u001b[0;34m=\u001b[0m \u001b[0mreport2\u001b[0m\u001b[0;34m[\u001b[0m\u001b[0;34m'GoogleDrive'\u001b[0m\u001b[0;34m]\u001b[0m\u001b[0;34m.\u001b[0m\u001b[0mvalues\u001b[0m\u001b[0;34m(\u001b[0m\u001b[0;34m)\u001b[0m\u001b[0;34m\u001b[0m\u001b[0;34m\u001b[0m\u001b[0m\n\u001b[1;32m      3\u001b[0m \u001b[0mgoogleMusic\u001b[0m \u001b[0;34m=\u001b[0m \u001b[0mreport2\u001b[0m\u001b[0;34m[\u001b[0m\u001b[0;34m'GoogleMusic'\u001b[0m\u001b[0;34m]\u001b[0m\u001b[0;34m.\u001b[0m\u001b[0mvalues\u001b[0m\u001b[0;34m(\u001b[0m\u001b[0;34m)\u001b[0m\u001b[0;34m\u001b[0m\u001b[0;34m\u001b[0m\u001b[0m\n\u001b[1;32m      4\u001b[0m \u001b[0myoutube\u001b[0m     \u001b[0;34m=\u001b[0m \u001b[0mreport2\u001b[0m\u001b[0;34m[\u001b[0m\u001b[0;34m'Youtube'\u001b[0m\u001b[0;34m]\u001b[0m\u001b[0;34m.\u001b[0m\u001b[0mvalues\u001b[0m\u001b[0;34m(\u001b[0m\u001b[0;34m)\u001b[0m\u001b[0;34m\u001b[0m\u001b[0;34m\u001b[0m\u001b[0m\n\u001b[1;32m      5\u001b[0m \u001b[0mreport2\u001b[0m\u001b[0;34m\u001b[0m\u001b[0;34m\u001b[0m\u001b[0m\n",
            "\u001b[0;31mNameError\u001b[0m: name 'report2' is not defined"
          ]
        }
      ]
    },
    {
      "cell_type": "code",
      "metadata": {
        "id": "zWbWpBwKbjkB",
        "colab_type": "code",
        "colab": {}
      },
      "source": [
        "fi_1_score = [googleDoc[0],googleDrive[0],googleMusic[0],youtube[0]] \n",
        "precision = [googleDoc[1],googleDrive[1],googleMusic[1],youtube[1]] \n",
        "recall = [googleDoc[3],googleDrive[3],googleMusic[3],youtube[3]]"
      ],
      "execution_count": 0,
      "outputs": []
    },
    {
      "cell_type": "code",
      "metadata": {
        "id": "DI-XNx16bgJ1",
        "colab_type": "code",
        "outputId": "e93a6359-306c-444c-eb0d-0a396a7812fa",
        "colab": {
          "base_uri": "https://localhost:8080/",
          "height": 504
        }
      },
      "source": [
        "n_groups = 4\n",
        "\n",
        "fig, ax = plt.subplots()\n",
        "index = np.arange(n_groups)\n",
        "bar_width = 0.2\n",
        "opacity = 0.8\n",
        "rects1 = plt.bar(index, fi_1_score,bar_width, alpha=opacity,color='b',label='f1 score')\n",
        "rects2 = plt.bar(index + bar_width , precision, bar_width,alpha=opacity,color='g',label='precision')\n",
        "rects3 = plt.bar(index + bar_width + bar_width, recall, bar_width,alpha=opacity,color='r',label='recall')\n",
        "\n",
        "plt.xlabel('classes')\n",
        "plt.ylabel('scores')\n",
        "plt.title('per class performance metrics')\n",
        "plt.xticks(index + bar_width, ('GoogleDoc', 'GoogleDrive', 'GoogleMusic', 'Youtube'))\n",
        "plt.legend()\n",
        "\n",
        "plt.tight_layout()\n",
        "plt.show()\n",
        "#plt.savefig('/content/gdrive/My Drive/figure0.1')"
      ],
      "execution_count": 0,
      "outputs": [
        {
          "output_type": "error",
          "ename": "NameError",
          "evalue": "ignored",
          "traceback": [
            "\u001b[0;31m\u001b[0m",
            "\u001b[0;31mNameError\u001b[0mTraceback (most recent call last)",
            "\u001b[0;32m<ipython-input-18-2b3e9ccbe031>\u001b[0m in \u001b[0;36m<module>\u001b[0;34m()\u001b[0m\n\u001b[1;32m      5\u001b[0m \u001b[0mbar_width\u001b[0m \u001b[0;34m=\u001b[0m \u001b[0;36m0.2\u001b[0m\u001b[0;34m\u001b[0m\u001b[0;34m\u001b[0m\u001b[0m\n\u001b[1;32m      6\u001b[0m \u001b[0mopacity\u001b[0m \u001b[0;34m=\u001b[0m \u001b[0;36m0.8\u001b[0m\u001b[0;34m\u001b[0m\u001b[0;34m\u001b[0m\u001b[0m\n\u001b[0;32m----> 7\u001b[0;31m \u001b[0mrects1\u001b[0m \u001b[0;34m=\u001b[0m \u001b[0mplt\u001b[0m\u001b[0;34m.\u001b[0m\u001b[0mbar\u001b[0m\u001b[0;34m(\u001b[0m\u001b[0mindex\u001b[0m\u001b[0;34m,\u001b[0m \u001b[0mfi_1_score\u001b[0m\u001b[0;34m,\u001b[0m\u001b[0mbar_width\u001b[0m\u001b[0;34m,\u001b[0m \u001b[0malpha\u001b[0m\u001b[0;34m=\u001b[0m\u001b[0mopacity\u001b[0m\u001b[0;34m,\u001b[0m\u001b[0mcolor\u001b[0m\u001b[0;34m=\u001b[0m\u001b[0;34m'b'\u001b[0m\u001b[0;34m,\u001b[0m\u001b[0mlabel\u001b[0m\u001b[0;34m=\u001b[0m\u001b[0;34m'f1 score'\u001b[0m\u001b[0;34m)\u001b[0m\u001b[0;34m\u001b[0m\u001b[0;34m\u001b[0m\u001b[0m\n\u001b[0m\u001b[1;32m      8\u001b[0m \u001b[0mrects2\u001b[0m \u001b[0;34m=\u001b[0m \u001b[0mplt\u001b[0m\u001b[0;34m.\u001b[0m\u001b[0mbar\u001b[0m\u001b[0;34m(\u001b[0m\u001b[0mindex\u001b[0m \u001b[0;34m+\u001b[0m \u001b[0mbar_width\u001b[0m \u001b[0;34m,\u001b[0m \u001b[0mprecision\u001b[0m\u001b[0;34m,\u001b[0m \u001b[0mbar_width\u001b[0m\u001b[0;34m,\u001b[0m\u001b[0malpha\u001b[0m\u001b[0;34m=\u001b[0m\u001b[0mopacity\u001b[0m\u001b[0;34m,\u001b[0m\u001b[0mcolor\u001b[0m\u001b[0;34m=\u001b[0m\u001b[0;34m'g'\u001b[0m\u001b[0;34m,\u001b[0m\u001b[0mlabel\u001b[0m\u001b[0;34m=\u001b[0m\u001b[0;34m'precision'\u001b[0m\u001b[0;34m)\u001b[0m\u001b[0;34m\u001b[0m\u001b[0;34m\u001b[0m\u001b[0m\n\u001b[1;32m      9\u001b[0m \u001b[0mrects3\u001b[0m \u001b[0;34m=\u001b[0m \u001b[0mplt\u001b[0m\u001b[0;34m.\u001b[0m\u001b[0mbar\u001b[0m\u001b[0;34m(\u001b[0m\u001b[0mindex\u001b[0m \u001b[0;34m+\u001b[0m \u001b[0mbar_width\u001b[0m \u001b[0;34m+\u001b[0m \u001b[0mbar_width\u001b[0m\u001b[0;34m,\u001b[0m \u001b[0mrecall\u001b[0m\u001b[0;34m,\u001b[0m \u001b[0mbar_width\u001b[0m\u001b[0;34m,\u001b[0m\u001b[0malpha\u001b[0m\u001b[0;34m=\u001b[0m\u001b[0mopacity\u001b[0m\u001b[0;34m,\u001b[0m\u001b[0mcolor\u001b[0m\u001b[0;34m=\u001b[0m\u001b[0;34m'r'\u001b[0m\u001b[0;34m,\u001b[0m\u001b[0mlabel\u001b[0m\u001b[0;34m=\u001b[0m\u001b[0;34m'recall'\u001b[0m\u001b[0;34m)\u001b[0m\u001b[0;34m\u001b[0m\u001b[0;34m\u001b[0m\u001b[0m\n",
            "\u001b[0;31mNameError\u001b[0m: name 'fi_1_score' is not defined"
          ]
        },
        {
          "output_type": "display_data",
          "data": {
            "image/png": "[encoded data removed]",
            "text/plain": [
              "<Figure size 432x288 with 1 Axes>"
            ]
          },
          "metadata": {
            "tags": []
          }
        }
      ]
    },
    {
      "cell_type": "code",
      "metadata": {
        "id": "Czev3P09D5rw",
        "colab_type": "code",
        "colab": {}
      },
      "source": [
        ""
      ],
      "execution_count": 0,
      "outputs": []
    },
    {
      "cell_type": "code",
      "metadata": {
        "id": "SngRu9KPLt-4",
        "colab_type": "code",
        "colab": {}
      },
      "source": [
        "from matplotlib import pyplot as plt \n",
        "#plt.plot(train_accuracy_results)\n",
        "plt.plot(test_accuracy_results)\n",
        "plt.title('model acurracy')\n",
        "plt.ylabel('accuracy')\n",
        "plt.xlabel('epochs')\n",
        "#plt.legend(['train', 'test'], loc='upper left')\n",
        "plt.legend(['test'], loc='upper left')\n",
        "plt.show()\n",
        "#plt.savefig('/content/gdrive/My Drive/figure0.1')\n",
        "    \n"
      ],
      "execution_count": 0,
      "outputs": []
    },
    {
      "cell_type": "code",
      "metadata": {
        "id": "ZcexkL1sZ6E3",
        "colab_type": "code",
        "colab": {}
      },
      "source": [
        ""
      ],
      "execution_count": 0,
      "outputs": []
    },
    {
      "cell_type": "code",
      "metadata": {
        "id": "jAnrsUJRPH3j",
        "colab_type": "code",
        "colab": {}
      },
      "source": [
        "list1 =['accuracy','f1 score']\n",
        "list2 = [test_accuracy_results,f1_score_result]\n",
        "metric = dict(zip(list1,list2))"
      ],
      "execution_count": 0,
      "outputs": []
    },
    {
      "cell_type": "code",
      "metadata": {
        "id": "I7-xLh-oEXSx",
        "colab_type": "code",
        "colab": {}
      },
      "source": [
        "df = pd.DataFrame(metric)"
      ],
      "execution_count": 0,
      "outputs": []
    },
    {
      "cell_type": "code",
      "metadata": {
        "id": "23iBgvVatpT3",
        "colab_type": "code",
        "colab": {}
      },
      "source": [
        ""
      ],
      "execution_count": 0,
      "outputs": []
    },
    {
      "cell_type": "code",
      "metadata": {
        "id": "uNROdSB2FYZN",
        "colab_type": "code",
        "colab": {}
      },
      "source": [
        "df.to_csv('content/gdrive/My Drive/metric_0.1.csv')"
      ],
      "execution_count": 0,
      "outputs": []
    },
    {
      "cell_type": "code",
      "metadata": {
        "id": "7vJryH1rtrwo",
        "colab_type": "code",
        "colab": {}
      },
      "source": [
        "df1 = pd.read_csv('metric_0.1.csv')\n"
      ],
      "execution_count": 0,
      "outputs": []
    },
    {
      "cell_type": "code",
      "metadata": {
        "id": "BlyHwNBEFZqF",
        "colab_type": "code",
        "colab": {}
      },
      "source": [
        "test1 = df1['accuracy']"
      ],
      "execution_count": 0,
      "outputs": []
    },
    {
      "cell_type": "code",
      "metadata": {
        "id": "rgrz6rKA-qpA",
        "colab_type": "code",
        "colab": {}
      },
      "source": [
        "df2 = pd.read_csv('metric_0.5.csv')\n",
        "test2 = df2['accuracy']"
      ],
      "execution_count": 0,
      "outputs": []
    },
    {
      "cell_type": "code",
      "metadata": {
        "id": "6FfdJzs5CO-l",
        "colab_type": "code",
        "colab": {}
      },
      "source": [
        "df3 = pd.read_csv('cnn_metric.csv')\n"
      ],
      "execution_count": 0,
      "outputs": []
    },
    {
      "cell_type": "code",
      "metadata": {
        "id": "cl0A3zVbV4CJ",
        "colab_type": "code",
        "colab": {}
      },
      "source": [
        "test3 = df3['accuracy']"
      ],
      "execution_count": 0,
      "outputs": []
    },
    {
      "cell_type": "code",
      "metadata": {
        "id": "NaPShIj-WKHi",
        "colab_type": "code",
        "outputId": "36c376c1-5ec8-45da-8741-1a16d352df8a",
        "colab": {
          "base_uri": "https://localhost:8080/",
          "height": 295
        }
      },
      "source": [
        "from matplotlib import pyplot as plt \n",
        "plt.plot(test1,linestyle = '--')\n",
        "plt.plot(test2,linestyle = '-.')\n",
        "plt.plot(test3)\n",
        "plt.title('model acurracy')\n",
        "plt.ylabel('accuracy')\n",
        "plt.xlabel('epochs')\n",
        "plt.legend(['DCGAN1', 'DCGAN2','CNN'], loc='lower right')\n",
        "#plt.legend(['test'], loc='lower left')\n",
        "plt.show()\n",
        "#plt.savefig('/content/gdrive/My Drive/figure0.1')\n",
        "    "
      ],
      "execution_count": 0,
      "outputs": [
        {
          "output_type": "display_data",
          "data": {
            "image/png": "[encoded data removed]",
            "text/plain": [
              "<Figure size 432x288 with 1 Axes>"
            ]
          },
          "metadata": {
            "tags": []
          }
        }
      ]
    },
    {
      "cell_type": "code",
      "metadata": {
        "id": "w9H2lDXAW5Ma",
        "colab_type": "code",
        "colab": {}
      },
      "source": [
        ""
      ],
      "execution_count": 0,
      "outputs": []
    }
  ]
}