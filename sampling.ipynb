{
 "cells": [
  {
   "cell_type": "code",
   "execution_count": 24,
   "metadata": {},
   "outputs": [],
   "source": [
    "import numpy as np\n",
    "import os \n",
    "timestep = 45\n",
    "startingMultiply = 13\n",
    "PaddingEnable = True\n",
    "padAtTheBeginning = True\n",
    "paddingThreshold = 8      #The flow must have at least this amount of packets to be padded\n",
    "num_extracted_subflow = 100 #Number of subflows that are goining to be extracted from each flow if possible\n",
    "def load_data(dir_path,extracted_flow):\n",
    "    extracted_flow = num_extracted_subflow\n",
    "    path_dir = os.listdir(dir_path)\n",
    "    train_data_list = []\n",
    "    test_data_list  = []\n",
    "    test_label_list = []\n",
    "    file_counter = 0\n",
    "    flow_counter = 0\n",
    "    subflow_counter = 0\n",
    "    starting_point = 0\n",
    "    for folder, sub, files in os.walk(dir_path):\n",
    "        files.sort()\n",
    "        np.random.shuffles(files)\n",
    "        for file in files:\n",
    "            filename = folder + '/'+ file\n",
    "            with open(filename) as f:\n",
    "                file_counter +=1\n",
    "                EntireFile = []\n",
    "                for line in f:\n",
    "                    data = line.split() \n",
    "                    try:\n",
    "                        EntireFile.append(data)\n",
    "                    except:\n",
    "                        print(EntireFile)\n",
    "                        pdb.set_trace()\n",
    "                try:\n",
    "                    EntireFile = np.array(EntireFile).astype(np.float)\n",
    "                except:\n",
    "                    print(EntireFile)\n",
    "                    pdb.set_trace()\n",
    "                FileLength = len(EntireFile)\n",
    "                tmp_label = []\n",
    "                subFlowFromAFile = 0\n",
    "                #To detect TCP traffic and skip first 3 packets\n",
    "                # isFirstTCP=1;\n",
    "                #Skip the fist few packets in the file\n",
    "                if (starting_point!= 0)\n",
    "                "
   ]
  },
  {
   "cell_type": "code",
   "execution_count": null,
   "metadata": {},
   "outputs": [],
   "source": []
  },
  {
   "cell_type": "code",
   "execution_count": null,
   "metadata": {},
   "outputs": [],
   "source": []
  }
 ],
 "metadata": {
  "kernelspec": {
   "display_name": "Python 3",
   "language": "python",
   "name": "python3"
  },
  "language_info": {
   "codemirror_mode": {
    "name": "ipython",
    "version": 3
   },
   "file_extension": ".py",
   "mimetype": "text/x-python",
   "name": "python",
   "nbconvert_exporter": "python",
   "pygments_lexer": "ipython3",
   "version": "3.5.0"
  }
 },
 "nbformat": 4,
 "nbformat_minor": 2
}
